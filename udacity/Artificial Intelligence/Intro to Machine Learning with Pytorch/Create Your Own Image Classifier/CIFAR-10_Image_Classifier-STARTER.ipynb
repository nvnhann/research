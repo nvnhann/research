{
 "cells": [
  {
   "cell_type": "markdown",
   "metadata": {},
   "source": [
    "# Introduction\n",
    "\n",
    "In this project, you will build a neural network of your own design to evaluate the CIFAR-10 dataset.\n",
    "\n",
    "To meet the requirements for this project, you will need to achieve an accuracy greater than 45%. \n",
    "If you want to beat Detectocorp's algorithm, you'll need to achieve an accuracy greater than 70%. \n",
    "(Beating Detectocorp's algorithm is not a requirement for passing this project, but you're encouraged to try!)\n",
    "\n",
    "Some of the benchmark results on CIFAR-10 include:\n",
    "\n",
    "78.9% Accuracy | [Deep Belief Networks; Krizhevsky, 2010](https://www.cs.toronto.edu/~kriz/conv-cifar10-aug2010.pdf)\n",
    "\n",
    "90.6% Accuracy | [Maxout Networks; Goodfellow et al., 2013](https://arxiv.org/pdf/1302.4389.pdf)\n",
    "\n",
    "96.0% Accuracy | [Wide Residual Networks; Zagoruyko et al., 2016](https://arxiv.org/pdf/1605.07146.pdf)\n",
    "\n",
    "99.0% Accuracy | [GPipe; Huang et al., 2018](https://arxiv.org/pdf/1811.06965.pdf)\n",
    "\n",
    "98.5% Accuracy | [Rethinking Recurrent Neural Networks and other Improvements for ImageClassification; Nguyen et al., 2020](https://arxiv.org/pdf/2007.15161.pdf)\n",
    "\n",
    "Research with this dataset is ongoing. Notably, many of these networks are quite large and quite expensive to train. \n",
    "\n",
    "## Imports"
   ]
  },
  {
   "cell_type": "code",
   "execution_count": 25,
   "metadata": {},
   "outputs": [],
   "source": [
    "## This cell contains the essential imports you will need – DO NOT CHANGE THE CONTENTS! ##\n",
    "import torch\n",
    "import torch.nn as nn\n",
    "import torch.nn.functional as F\n",
    "import torch.optim as optim\n",
    "import torchvision\n",
    "import torchvision.transforms as transforms\n",
    "import matplotlib.pyplot as plt\n",
    "import numpy as np"
   ]
  },
  {
   "cell_type": "markdown",
   "metadata": {},
   "source": [
    "## Load the Dataset\n",
    "\n",
    "Specify your transforms as a list first.\n",
    "The transforms module is already loaded as `transforms`.\n",
    "\n",
    "CIFAR-10 is fortunately included in the torchvision module.\n",
    "Then, you can create your dataset using the `CIFAR10` object from `torchvision.datasets` ([the documentation is available here](https://pytorch.org/vision/stable/generated/torchvision.datasets.CIFAR10.html)).\n",
    "Make sure to specify `download=True`! \n",
    "\n",
    "Once your dataset is created, you'll also need to define a `DataLoader` from the `torch.utils.data` module for both the train and the test set."
   ]
  },
  {
   "cell_type": "code",
   "execution_count": 41,
   "metadata": {},
   "outputs": [
    {
     "name": "stdout",
     "output_type": "stream",
     "text": [
      "Files already downloaded and verified\n",
      "Files already downloaded and verified\n",
      "Files already downloaded and verified\n"
     ]
    }
   ],
   "source": [
    "# Define transforms for data augmentation and normalization\n",
    "transform_train = transforms.Compose([\n",
    "    transforms.RandomCrop(32, padding=4),\n",
    "    transforms.RandomHorizontalFlip(),\n",
    "    transforms.ToTensor(),\n",
    "    transforms.Normalize((0.5, 0.5, 0.5), (0.5, 0.5, 0.5))])\n",
    "\n",
    "transform_test = transforms.Compose([\n",
    "    transforms.ToTensor(),\n",
    "    transforms.Normalize((0.5, 0.5, 0.5), (0.5, 0.5, 0.5))])\n",
    "\n",
    "# Create training set and define training dataloader\n",
    "trainset = torchvision.datasets.CIFAR10(root='./data', train=True,\n",
    "                                        download=True, transform=transform_train)\n",
    "trainloader = torch.utils.data.DataLoader(trainset, batch_size=64,\n",
    "                                          shuffle=True, num_workers=2)\n",
    "# Define the validation set and data loader\n",
    "valset = torchvision.datasets.CIFAR10(root='./data', train=False, download=True, transform=transform_test)\n",
    "valloader = torch.utils.data.DataLoader(valset, batch_size=64, shuffle=False)\n",
    "\n",
    "# Create test set and define test dataloader\n",
    "testset = torchvision.datasets.CIFAR10(root='./data', train=False,\n",
    "                                       download=True, transform=transform_test)\n",
    "testloader = torch.utils.data.DataLoader(testset, batch_size=64,\n",
    "                                         shuffle=False, num_workers=2)\n",
    "\n",
    "classes = ('plane', 'car', 'bird', 'cat', 'deer', 'dog', 'frog', 'horse', 'ship', 'truck')"
   ]
  },
  {
   "cell_type": "markdown",
   "metadata": {},
   "source": [
    "## Explore the Dataset\n",
    "Using matplotlib, numpy, and torch, explore the dimensions of your data.\n",
    "\n",
    "You can view images using the `show5` function defined below – it takes a data loader as an argument.\n",
    "Remember that normalized images will look really weird to you! You may want to try changing your transforms to view images.\n",
    "Typically using no transforms other than `toTensor()` works well for viewing – but not as well for training your network.\n",
    "If `show5` doesn't work, go back and check your code for creating your data loaders and your training/test sets."
   ]
  },
  {
   "cell_type": "code",
   "execution_count": 42,
   "metadata": {},
   "outputs": [],
   "source": [
    "def show5(data_loader):\n",
    "    data_iter = iter(data_loader)\n",
    "    images, labels = data_iter.next()\n",
    "    images = images.numpy()\n",
    "    images = (images + 1) / 2\n",
    "    fig, axes = plt.subplots(1, 5, figsize=(12, 2.5))\n",
    "    for i in range(5):\n",
    "        ax = axes[i]\n",
    "        ax.imshow(np.transpose(images[i], (1, 2, 0)))\n",
    "        ax.set_title(classes[labels[i]])\n",
    "        ax.axis('off')\n",
    "        plt.tight_layout()\n",
    "    plt.show()"
   ]
  },
  {
   "cell_type": "code",
   "execution_count": 43,
   "metadata": {},
   "outputs": [
    {
     "name": "stdout",
     "output_type": "stream",
     "text": [
      "Train dataset length: 50000\n",
      "torch.Size([3, 32, 32])\n"
     ]
    },
    {
     "data": {
      "image/png": "[encoded data removed]",
      "text/plain": [
       "<matplotlib.figure.Figure at 0x7ff5429a6828>"
      ]
     },
     "metadata": {
      "needs_background": "light"
     },
     "output_type": "display_data"
    }
   ],
   "source": [
    "print(\"Train dataset length: \" + str(len(trainset)))\n",
    "sample = next(iter(trainset))\n",
    "img, label = sample\n",
    "print(img.shape)\n",
    "show5(testloader)"
   ]
  },
  {
   "cell_type": "markdown",
   "metadata": {},
   "source": [
    "## Build your Neural Network\n",
    "Using the layers in `torch.nn` (which has been imported as `nn`) and the `torch.nn.functional` module (imported as `F`), construct a neural network based on the parameters of the dataset. \n",
    "Feel free to construct a model of any architecture – feedforward, convolutional, or even something more advanced!"
   ]
  },
  {
   "cell_type": "markdown",
   "metadata": {},
   "source": [
    "Specify a loss function and an optimizer, and instantiate the model.\n",
    "\n",
    "If you use a less common loss function, please note why you chose that loss function in a comment."
   ]
  },
  {
   "cell_type": "code",
   "execution_count": 44,
   "metadata": {},
   "outputs": [],
   "source": [
    "import torch.nn as nn\n",
    "import torch.nn.functional as F\n",
    "\n",
    "class Net(nn.Module):\n",
    "    def __init__(self):\n",
    "        super(Net, self).__init__()\n",
    "        # Input channels = 3, output channels = 16\n",
    "        self.conv1 = nn.Conv2d(3, 16, kernel_size=3, padding=1)\n",
    "        # Input channels = 16, output channels = 32\n",
    "        self.conv2 = nn.Conv2d(16, 32, kernel_size=3, padding=1)\n",
    "        # Input channels = 32*8*8, output channels = 10\n",
    "        self.fc1 = nn.Linear(32 * 8 * 8, 10)\n",
    "\n",
    "    def forward(self, x):\n",
    "        # Use a max pooling over a (2, 2) window\n",
    "        x = F.max_pool2d(F.relu(self.conv1(x)), (2, 2))\n",
    "        # Use a max pooling over a (2, 2) window\n",
    "        x = F.max_pool2d(F.relu(self.conv2(x)), (2, 2))\n",
    "        x = x.view(-1, 32 * 8 * 8)\n",
    "        x = self.fc1(x)\n",
    "        return x\n",
    "\n",
    "# Instantiate the model\n",
    "device = torch.device('cuda' if torch.cuda.is_available() else 'cpu')\n",
    "model = Net().to(device)\n",
    "\n",
    "# Define the loss function\n",
    "criterion = nn.CrossEntropyLoss()\n",
    "\n",
    "# Define the optimizer\n",
    "optimizer = torch.optim.SGD(model.parameters(), lr=0.001, momentum=0.9)\n"
   ]
  },
  {
   "cell_type": "markdown",
   "metadata": {},
   "source": [
    "## Running your Neural Network\n",
    "Use whatever method you like to train your neural network, and ensure you record the average loss at each epoch. \n",
    "Don't forget to use `torch.device()` and the `.to()` method for both your model and your data if you are using GPU!\n",
    "\n",
    "If you want to print your loss during each epoch, you can use the `enumerate` function and print the loss after a set number of batches. 250 batches works well for most people!"
   ]
  },
  {
   "cell_type": "code",
   "execution_count": 50,
   "metadata": {},
   "outputs": [
    {
     "name": "stdout",
     "output_type": "stream",
     "text": [
      "Epoch: 1/10..  Training Loss: 1.220..  Validation Loss: 1.094..  Validation Accuracy: 0.622\n",
      "Epoch: 1/10..  Training Loss: 1.226..  Validation Loss: 1.089..  Validation Accuracy: 0.618\n",
      "Epoch: 1/10..  Training Loss: 1.207..  Validation Loss: 1.104..  Validation Accuracy: 0.613\n",
      "Epoch: 2/10..  Training Loss: 1.208..  Validation Loss: 1.087..  Validation Accuracy: 0.619\n",
      "Epoch: 2/10..  Training Loss: 1.201..  Validation Loss: 1.066..  Validation Accuracy: 0.631\n",
      "Epoch: 2/10..  Training Loss: 1.197..  Validation Loss: 1.088..  Validation Accuracy: 0.618\n",
      "Epoch: 3/10..  Training Loss: 1.192..  Validation Loss: 1.075..  Validation Accuracy: 0.625\n",
      "Epoch: 3/10..  Training Loss: 1.182..  Validation Loss: 1.051..  Validation Accuracy: 0.634\n",
      "Epoch: 3/10..  Training Loss: 1.184..  Validation Loss: 1.071..  Validation Accuracy: 0.625\n",
      "Epoch: 4/10..  Training Loss: 1.174..  Validation Loss: 1.049..  Validation Accuracy: 0.636\n",
      "Epoch: 4/10..  Training Loss: 1.164..  Validation Loss: 1.037..  Validation Accuracy: 0.638\n",
      "Epoch: 4/10..  Training Loss: 1.149..  Validation Loss: 1.030..  Validation Accuracy: 0.640\n",
      "Epoch: 5/10..  Training Loss: 1.170..  Validation Loss: 1.036..  Validation Accuracy: 0.641\n",
      "Epoch: 5/10..  Training Loss: 1.151..  Validation Loss: 1.029..  Validation Accuracy: 0.642\n",
      "Epoch: 5/10..  Training Loss: 1.145..  Validation Loss: 1.009..  Validation Accuracy: 0.650\n",
      "Epoch: 6/10..  Training Loss: 1.137..  Validation Loss: 1.023..  Validation Accuracy: 0.645\n",
      "Epoch: 6/10..  Training Loss: 1.149..  Validation Loss: 1.011..  Validation Accuracy: 0.648\n",
      "Epoch: 6/10..  Training Loss: 1.141..  Validation Loss: 1.017..  Validation Accuracy: 0.644\n",
      "Epoch: 7/10..  Training Loss: 1.121..  Validation Loss: 1.000..  Validation Accuracy: 0.651\n",
      "Epoch: 7/10..  Training Loss: 1.125..  Validation Loss: 1.003..  Validation Accuracy: 0.650\n",
      "Epoch: 7/10..  Training Loss: 1.123..  Validation Loss: 1.008..  Validation Accuracy: 0.651\n",
      "Epoch: 8/10..  Training Loss: 1.108..  Validation Loss: 0.982..  Validation Accuracy: 0.660\n",
      "Epoch: 8/10..  Training Loss: 1.112..  Validation Loss: 0.998..  Validation Accuracy: 0.652\n",
      "Epoch: 8/10..  Training Loss: 1.109..  Validation Loss: 1.030..  Validation Accuracy: 0.641\n",
      "Epoch: 8/10..  Training Loss: 1.116..  Validation Loss: 1.002..  Validation Accuracy: 0.651\n",
      "Epoch: 9/10..  Training Loss: 1.099..  Validation Loss: 0.977..  Validation Accuracy: 0.665\n",
      "Epoch: 9/10..  Training Loss: 1.114..  Validation Loss: 0.983..  Validation Accuracy: 0.655\n",
      "Epoch: 9/10..  Training Loss: 1.093..  Validation Loss: 0.981..  Validation Accuracy: 0.659\n",
      "Epoch: 10/10..  Training Loss: 1.102..  Validation Loss: 0.964..  Validation Accuracy: 0.665\n",
      "Epoch: 10/10..  Training Loss: 1.090..  Validation Loss: 0.966..  Validation Accuracy: 0.666\n",
      "Epoch: 10/10..  Training Loss: 1.078..  Validation Loss: 0.957..  Validation Accuracy: 0.667\n",
      "Finished Training\n"
     ]
    }
   ],
   "source": [
    "epochs = 10\n",
    "steps = 0\n",
    "running_loss = 0\n",
    "print_every = 250\n",
    "train_losses, val_losses = [], []\n",
    "for epoch in range(epochs):\n",
    "    for inputs, labels in trainloader:\n",
    "        steps += 1\n",
    "        \n",
    "        # Move input and label tensors to the default device\n",
    "        inputs, labels = inputs.to(device), labels.to(device)\n",
    "        \n",
    "        # Clear the gradients\n",
    "        optimizer.zero_grad()\n",
    "        \n",
    "        # Forward pass\n",
    "        logps = model.forward(inputs)\n",
    "        loss = criterion(logps, labels)\n",
    "        \n",
    "        # Backward pass\n",
    "        loss.backward()\n",
    "        optimizer.step()\n",
    "        \n",
    "        running_loss += loss.item()\n",
    "        \n",
    "        if steps % print_every == 0:\n",
    "            val_loss = 0\n",
    "            accuracy = 0\n",
    "            model.eval()\n",
    "            with torch.no_grad():\n",
    "                for inputs, labels in valloader:\n",
    "                    inputs, labels = inputs.to(device), labels.to(device)\n",
    "                    logps = model.forward(inputs)\n",
    "                    batch_loss = criterion(logps, labels)\n",
    "                    \n",
    "                    val_loss += batch_loss.item()\n",
    "                    \n",
    "                    # Calculate accuracy\n",
    "                    ps = torch.exp(logps)\n",
    "                    top_p, top_class = ps.topk(1, dim=1)\n",
    "                    equals = top_class == labels.view(*top_class.shape)\n",
    "                    accuracy += torch.mean(equals.type(torch.FloatTensor)).item()\n",
    "            \n",
    "            train_losses.append(running_loss/print_every)\n",
    "            val_losses.append(val_loss/len(valloader))\n",
    "            print(\"Epoch: {}/{}.. \".format(epoch+1, epochs),\n",
    "                  \"Training Loss: {:.3f}.. \".format(running_loss/print_every),\n",
    "                  \"Validation Loss: {:.3f}.. \".format(val_loss/len(valloader)),\n",
    "                  \"Validation Accuracy: {:.3f}\".format(accuracy/len(valloader)))\n",
    "            running_loss = 0\n",
    "            model.train()\n",
    "print('Finished Training')\n",
    "  "
   ]
  },
  {
   "cell_type": "markdown",
   "metadata": {},
   "source": [
    "Plot the training loss (and validation loss/accuracy, if recorded)."
   ]
  },
  {
   "cell_type": "code",
   "execution_count": 51,
   "metadata": {},
   "outputs": [
    {
     "data": {
      "text/plain": [
       "<matplotlib.legend.Legend at 0x7ff5429a1748>"
      ]
     },
     "execution_count": 51,
     "metadata": {},
     "output_type": "execute_result"
    },
    {
     "data": {
      "image/png": "[encoded data removed]",
      "text/plain": [
       "<matplotlib.figure.Figure at 0x7ff5ad673da0>"
      ]
     },
     "metadata": {
      "image/png": {
       "height": 250,
       "width": 373
      },
      "needs_background": "light"
     },
     "output_type": "display_data"
    }
   ],
   "source": [
    "## YOUR CODE HERE ##\n",
    "%matplotlib inline\n",
    "%config InlineBackend.figure_format = 'retina'\n",
    "\n",
    "Param_range = np.arange(1,10)\n",
    "plt.plot(train_losses, label='Training loss')\n",
    "plt.plot(test_losses, label='Validation loss')\n",
    "plt.legend(frameon=False)"
   ]
  },
  {
   "cell_type": "markdown",
   "metadata": {},
   "source": [
    "## Testing your model\n",
    "Using the previously created `DataLoader` for the test set, compute the percentage of correct predictions using the highest probability prediction. \n",
    "\n",
    "If your accuracy is over 70%, great work! \n",
    "This is a hard task to exceed 70% on.\n",
    "\n",
    "If your accuracy is under 45%, you'll need to make improvements.\n",
    "Go back and check your model architecture, loss function, and optimizer to make sure they're appropriate for an image classification task."
   ]
  },
  {
   "cell_type": "code",
   "execution_count": 52,
   "metadata": {},
   "outputs": [
    {
     "name": "stdout",
     "output_type": "stream",
     "text": [
      "Test Loss: 0.967..  Test Accuracy: 0.662\n"
     ]
    }
   ],
   "source": [
    "## YOUR CODE HERE ##\n",
    "test_loss = 0\n",
    "accuracy = 0\n",
    "model.eval()\n",
    "with torch.no_grad():\n",
    "    for inputs, labels in testloader:\n",
    "        inputs, labels = inputs.to(device), labels.to(device)\n",
    "        logps = model.forward(inputs)\n",
    "        batch_loss = criterion(logps, labels)\n",
    "\n",
    "        test_loss += batch_loss.item()\n",
    "\n",
    "        # Calculate accuracy\n",
    "        ps = torch.exp(logps)\n",
    "        top_p, top_class = ps.topk(1, dim=1)\n",
    "        equals = top_class == labels.view(*top_class.shape)\n",
    "        accuracy += torch.mean(equals.type(torch.FloatTensor)).item()\n",
    "\n",
    "print(\"Test Loss: {:.3f}.. \".format(test_loss/len(testloader)),\n",
    "      \"Test Accuracy: {:.3f}\".format(accuracy/len(testloader)))\n"
   ]
  },
  {
   "cell_type": "markdown",
   "metadata": {},
   "source": [
    "## Saving your model\n",
    "Using `torch.save`, save your model for future loading."
   ]
  },
  {
   "cell_type": "code",
   "execution_count": 53,
   "metadata": {},
   "outputs": [],
   "source": [
    "## YOUR CODE HERE ##\n",
    "# Define the file path where you want to save the model\n",
    "filepath = 'cifar_densenet121_model.pth'\n",
    "\n",
    "# Save the model's state dictionary\n",
    "torch.save(model.state_dict(), filepath)"
   ]
  },
  {
   "cell_type": "markdown",
   "metadata": {},
   "source": [
    "## Make a Recommendation\n",
    "\n",
    "Based on your evaluation, what is your recommendation on whether to build or buy? Explain your reasoning below.\n",
    "\n",
    "Some things to consider as you formulate your recommendation:\n",
    "* How does your model compare to Detectocorp's model?\n",
    "* How does it compare to the far more advanced solutions in the literature? \n",
    "* What did you do to get the accuracy you achieved? \n",
    "* Is it necessary to improve this accuracy? If so, what sort of work would be involved in improving it?"
   ]
  },
  {
   "cell_type": "markdown",
   "metadata": {},
   "source": [
    "\n",
    "\n",
    "Detectocorp's algorithm achieves a 70% accuracy rate, which is higher than the 66.2% accuracy rate achieved by the model my trained. Therefore, buying Detectocorp's algorithm might seem like the best option, given that it is more accurate than the model my trained. However, there are a few things to consider.\n",
    "\n",
    "Firstly, it is essential to understand the specific use case and requirements of the product. If the product requires high accuracy, it might be necessary to invest in building a more accurate model. In such a case, you could consider incorporating advanced techniques such as transfer learning, ensembling, or more data to improve your model's accuracy.\n",
    "\n",
    "Secondly, it is crucial to evaluate the cost-benefit analysis of building vs. buying the algorithm. While building a more accurate model might provide better performance, it also comes with a higher cost in terms of time, effort, and resources. On the other hand, buying an algorithm from a vendor might be a more cost-effective solution, especially if the vendor provides support and maintenance.\n",
    "\n",
    "Lastly, you need to consider the availability of expertise and resources within your organization. Building a complex machine learning algorithm requires a team of experienced data scientists and engineers who are skilled in machine learning, data preprocessing, and model optimization. If your organization does not have the necessary expertise, buying an algorithm from a vendor might be the best option.\n",
    "\n",
    "In conclusion, the decision to build or buy an algorithm depends on several factors, including the use case, accuracy requirements, cost-benefit analysis, and availability of resources. It is crucial to carefully evaluate these factors before making a decision.\n",
    "\n"
   ]
  },
  {
   "cell_type": "markdown",
   "metadata": {},
   "source": [
    "## Submit Your Project\n",
    "\n",
    "When you are finished editing the notebook and are ready to turn it in, simply click the **SUBMIT PROJECT** button in the lower right.\n",
    "\n",
    "Once you submit your project, we'll review your work and give you feedback if there's anything that you need to work on. If you'd like to see the exact points that your reviewer will check for when looking at your work, you can have a look over the project [rubric](https://review.udacity.com/#!/rubrics/3077/view)."
   ]
  }
 ],
 "metadata": {
  "kernelspec": {
   "display_name": "Python 3",
   "language": "python",
   "name": "python3"
  },
  "language_info": {
   "codemirror_mode": {
    "name": "ipython",
    "version": 3
   },
   "file_extension": ".py",
   "mimetype": "text/x-python",
   "name": "python",
   "nbconvert_exporter": "python",
   "pygments_lexer": "ipython3",
   "version": "3.6.3"
  }
 },
 "nbformat": 4,
 "nbformat_minor": 4
}
