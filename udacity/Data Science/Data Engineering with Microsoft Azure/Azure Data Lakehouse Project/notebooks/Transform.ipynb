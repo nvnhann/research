{
 "cells": [
  {
   "cell_type": "code",
   "execution_count": 0,
   "metadata": {
    "application/vnd.databricks.v1+cell": {
     "cellMetadata": {
      "byteLimit": 2048000,
      "rowLimit": 10000
     },
     "inputWidgets": {},
     "nuid": "311c6e40-98f6-4c00-a991-6760c95cac92",
     "showTitle": false,
     "title": ""
    }
   },
   "outputs": [
    {
     "output_type": "display_data",
     "data": {
      "text/html": [
       "<style scoped>\n",
       "  .ansiout {\n",
       "    display: block;\n",
       "    unicode-bidi: embed;\n",
       "    white-space: pre-wrap;\n",
       "    word-wrap: break-word;\n",
       "    word-break: break-all;\n",
       "    font-family: \"Menlo\", \"Monaco\", \"Consolas\", \"Ubuntu Mono\", \"Source Code Pro\", monospace;\n",
       "    font-size: 13px;\n",
       "    color: #555;\n",
       "    margin-left: 4px;\n",
       "    line-height: 19px;\n",
       "  }\n",
       "</style>\n",
       "<div class=\"ansiout\"></div>"
      ]
     },
     "metadata": {
      "application/vnd.databricks.v1+output": {
       "addedWidgets": {},
       "arguments": {},
       "data": "<div class=\"ansiout\"></div>",
       "datasetInfos": [],
       "metadata": {},
       "removedWidgets": [],
       "type": "html"
      }
     },
     "output_type": "display_data"
    }
   ],
   "source": [
    "# import lib\n",
    "from pyspark.sql.functions import *\n",
    "from pyspark.sql.types import TimestampType\n",
    "from pyspark.sql.types import StringType\n",
    "import pyspark.sql.functions as f"
   ]
  },
  {
   "cell_type": "code",
   "execution_count": 0,
   "metadata": {
    "application/vnd.databricks.v1+cell": {
     "cellMetadata": {
      "byteLimit": 2048000,
      "rowLimit": 10000
     },
     "inputWidgets": {},
     "nuid": "e8c148c3-8ce7-44fa-8290-3e2c51cc8767",
     "showTitle": false,
     "title": ""
    }
   },
   "outputs": [
    {
     "output_type": "display_data",
     "data": {
      "text/html": [
       "<style scoped>\n",
       "  .table-result-container {\n",
       "    max-height: 300px;\n",
       "    overflow: auto;\n",
       "  }\n",
       "  table, th, td {\n",
       "    border: 1px solid black;\n",
       "    border-collapse: collapse;\n",
       "  }\n",
       "  th, td {\n",
       "    padding: 5px;\n",
       "  }\n",
       "  th {\n",
       "    text-align: left;\n",
       "  }\n",
       "</style><div class='table-result-container'><table class='table-result'><thead style='background-color: white'><tr><th>payment_id</th><th>date</th><th>amount</th><th>rider_id</th></tr></thead><tbody><tr><td>2</td><td>2019-06-01</td><td>9.0</td><td>1000</td></tr><tr><td>3</td><td>2019-07-01</td><td>9.0</td><td>1000</td></tr><tr><td>4</td><td>2019-08-01</td><td>9.0</td><td>1000</td></tr><tr><td>5</td><td>2019-09-01</td><td>9.0</td><td>1000</td></tr><tr><td>6</td><td>2019-10-01</td><td>9.0</td><td>1000</td></tr></tbody></table></div>"
      ]
     },
     "metadata": {
      "application/vnd.databricks.v1+output": {
       "addedWidgets": {},
       "aggData": [],
       "aggError": "",
       "aggOverflow": false,
       "aggSchema": [],
       "aggSeriesLimitReached": false,
       "aggType": "",
       "arguments": {},
       "columnCustomDisplayInfos": {},
       "data": [
        [
         "2",
         "2019-06-01",
         "9.0",
         "1000"
        ],
        [
         "3",
         "2019-07-01",
         "9.0",
         "1000"
        ],
        [
         "4",
         "2019-08-01",
         "9.0",
         "1000"
        ],
        [
         "5",
         "2019-09-01",
         "9.0",
         "1000"
        ],
        [
         "6",
         "2019-10-01",
         "9.0",
         "1000"
        ]
       ],
       "datasetInfos": [],
       "dbfsResultPath": null,
       "isJsonSchema": true,
       "metadata": {},
       "overflow": false,
       "plotOptions": {
        "customPlotOptions": {},
        "displayType": "table",
        "pivotAggregation": null,
        "pivotColumns": null,
        "xColumns": null,
        "yColumns": null
       },
       "removedWidgets": [],
       "schema": [
        {
         "metadata": "{}",
         "name": "payment_id",
         "type": "\"string\""
        },
        {
         "metadata": "{}",
         "name": "date",
         "type": "\"string\""
        },
        {
         "metadata": "{}",
         "name": "amount",
         "type": "\"string\""
        },
        {
         "metadata": "{}",
         "name": "rider_id",
         "type": "\"string\""
        }
       ],
       "type": "table"
      }
     },
     "output_type": "display_data"
    }
   ],
   "source": [
    "payments = spark.table(\"default.staging_payments\")\n",
    "display(payments.limit(5))"
   ]
  },
  {
   "cell_type": "code",
   "execution_count": 0,
   "metadata": {
    "application/vnd.databricks.v1+cell": {
     "cellMetadata": {
      "byteLimit": 2048000,
      "rowLimit": 10000
     },
     "inputWidgets": {},
     "nuid": "e81e7c39-b90c-4723-93e9-ca6c9fb04d61",
     "showTitle": false,
     "title": ""
    }
   },
   "outputs": [
    {
     "output_type": "display_data",
     "data": {
      "text/html": [
       "<style scoped>\n",
       "  .ansiout {\n",
       "    display: block;\n",
       "    unicode-bidi: embed;\n",
       "    white-space: pre-wrap;\n",
       "    word-wrap: break-word;\n",
       "    word-break: break-all;\n",
       "    font-family: \"Menlo\", \"Monaco\", \"Consolas\", \"Ubuntu Mono\", \"Source Code Pro\", monospace;\n",
       "    font-size: 13px;\n",
       "    color: #555;\n",
       "    margin-left: 4px;\n",
       "    line-height: 19px;\n",
       "  }\n",
       "</style>\n",
       "<div class=\"ansiout\"></div>"
      ]
     },
     "metadata": {
      "application/vnd.databricks.v1+output": {
       "addedWidgets": {},
       "arguments": {},
       "data": "<div class=\"ansiout\"></div>",
       "datasetInfos": [],
       "metadata": {},
       "removedWidgets": [],
       "type": "html"
      }
     },
     "output_type": "display_data"
    }
   ],
   "source": [
    "spark.sql(\"drop table if exists default.fact_payments\")\n",
    "payments.dropDuplicates([\"payment_id\"]).write.format(\"delta\").mode(\"overwrite\").saveAsTable(\"default.fact_payments\")"
   ]
  },
  {
   "cell_type": "code",
   "execution_count": 0,
   "metadata": {
    "application/vnd.databricks.v1+cell": {
     "cellMetadata": {
      "byteLimit": 2048000,
      "rowLimit": 10000
     },
     "inputWidgets": {},
     "nuid": "83b44f6c-86b5-4230-aa59-4f4296c7afa8",
     "showTitle": false,
     "title": ""
    }
   },
   "outputs": [
    {
     "output_type": "display_data",
     "data": {
      "text/html": [
       "<style scoped>\n",
       "  .table-result-container {\n",
       "    max-height: 300px;\n",
       "    overflow: auto;\n",
       "  }\n",
       "  table, th, td {\n",
       "    border: 1px solid black;\n",
       "    border-collapse: collapse;\n",
       "  }\n",
       "  th, td {\n",
       "    padding: 5px;\n",
       "  }\n",
       "  th {\n",
       "    text-align: left;\n",
       "  }\n",
       "</style><div class='table-result-container'><table class='table-result'><thead style='background-color: white'><tr><th>rider_id</th><th>first_name</th><th>last_name</th><th>address</th><th>birthday</th><th>account_start_date</th><th>account_end_date</th><th>is_member</th></tr></thead><tbody><tr><td>1001</td><td>Jennifer</td><td>Smith</td><td>397 Diana Ferry</td><td>1976-08-10</td><td>2019-11-01</td><td>2020-09-01</td><td>True</td></tr><tr><td>1002</td><td>Karen</td><td>Smith</td><td>644 Brittany Row Apt. 097</td><td>1998-08-10</td><td>2022-02-04</td><td>null</td><td>True</td></tr><tr><td>1003</td><td>Bryan</td><td>Roberts</td><td>996 Dickerson Turnpike</td><td>1999-03-29</td><td>2019-08-26</td><td>null</td><td>False</td></tr><tr><td>1004</td><td>Jesse</td><td>Middleton</td><td>7009 Nathan Expressway</td><td>1969-04-11</td><td>2019-09-14</td><td>null</td><td>True</td></tr><tr><td>1005</td><td>Christine</td><td>Rodriguez</td><td>224 Washington Mills Apt. 467</td><td>1974-08-27</td><td>2020-03-24</td><td>null</td><td>False</td></tr></tbody></table></div>"
      ]
     },
     "metadata": {
      "application/vnd.databricks.v1+output": {
       "addedWidgets": {},
       "aggData": [],
       "aggError": "",
       "aggOverflow": false,
       "aggSchema": [],
       "aggSeriesLimitReached": false,
       "aggType": "",
       "arguments": {},
       "columnCustomDisplayInfos": {},
       "data": [
        [
         "1001",
         "Jennifer",
         "Smith",
         "397 Diana Ferry",
         "1976-08-10",
         "2019-11-01",
         "2020-09-01",
         "True"
        ],
        [
         "1002",
         "Karen",
         "Smith",
         "644 Brittany Row Apt. 097",
         "1998-08-10",
         "2022-02-04",
         null,
         "True"
        ],
        [
         "1003",
         "Bryan",
         "Roberts",
         "996 Dickerson Turnpike",
         "1999-03-29",
         "2019-08-26",
         null,
         "False"
        ],
        [
         "1004",
         "Jesse",
         "Middleton",
         "7009 Nathan Expressway",
         "1969-04-11",
         "2019-09-14",
         null,
         "True"
        ],
        [
         "1005",
         "Christine",
         "Rodriguez",
         "224 Washington Mills Apt. 467",
         "1974-08-27",
         "2020-03-24",
         null,
         "False"
        ]
       ],
       "datasetInfos": [],
       "dbfsResultPath": null,
       "isJsonSchema": true,
       "metadata": {},
       "overflow": false,
       "plotOptions": {
        "customPlotOptions": {},
        "displayType": "table",
        "pivotAggregation": null,
        "pivotColumns": null,
        "xColumns": null,
        "yColumns": null
       },
       "removedWidgets": [],
       "schema": [
        {
         "metadata": "{}",
         "name": "rider_id",
         "type": "\"string\""
        },
        {
         "metadata": "{}",
         "name": "first_name",
         "type": "\"string\""
        },
        {
         "metadata": "{}",
         "name": "last_name",
         "type": "\"string\""
        },
        {
         "metadata": "{}",
         "name": "address",
         "type": "\"string\""
        },
        {
         "metadata": "{}",
         "name": "birthday",
         "type": "\"string\""
        },
        {
         "metadata": "{}",
         "name": "account_start_date",
         "type": "\"string\""
        },
        {
         "metadata": "{}",
         "name": "account_end_date",
         "type": "\"string\""
        },
        {
         "metadata": "{}",
         "name": "is_member",
         "type": "\"string\""
        }
       ],
       "type": "table"
      }
     },
     "output_type": "display_data"
    }
   ],
   "source": [
    "riders = spark.table(\"default.staging_riders\")\n",
    "display(riders.limit(5))"
   ]
  },
  {
   "cell_type": "code",
   "execution_count": 0,
   "metadata": {
    "application/vnd.databricks.v1+cell": {
     "cellMetadata": {
      "byteLimit": 2048000,
      "rowLimit": 10000
     },
     "inputWidgets": {},
     "nuid": "51e60865-42e4-4525-ba3f-3da1ae2907b4",
     "showTitle": false,
     "title": ""
    }
   },
   "outputs": [
    {
     "output_type": "display_data",
     "data": {
      "text/html": [
       "<style scoped>\n",
       "  .ansiout {\n",
       "    display: block;\n",
       "    unicode-bidi: embed;\n",
       "    white-space: pre-wrap;\n",
       "    word-wrap: break-word;\n",
       "    word-break: break-all;\n",
       "    font-family: \"Menlo\", \"Monaco\", \"Consolas\", \"Ubuntu Mono\", \"Source Code Pro\", monospace;\n",
       "    font-size: 13px;\n",
       "    color: #555;\n",
       "    margin-left: 4px;\n",
       "    line-height: 19px;\n",
       "  }\n",
       "</style>\n",
       "<div class=\"ansiout\"></div>"
      ]
     },
     "metadata": {
      "application/vnd.databricks.v1+output": {
       "addedWidgets": {},
       "arguments": {},
       "data": "<div class=\"ansiout\"></div>",
       "datasetInfos": [],
       "metadata": {},
       "removedWidgets": [],
       "type": "html"
      }
     },
     "output_type": "display_data"
    }
   ],
   "source": [
    "spark.sql(\"drop table if exists default.dim_rider\")\n",
    "riders.dropDuplicates([\"rider_id\"]).write.format(\"delta\").mode(\"overwrite\").saveAsTable(\"default.dim_rider\")"
   ]
  },
  {
   "cell_type": "code",
   "execution_count": 0,
   "metadata": {
    "application/vnd.databricks.v1+cell": {
     "cellMetadata": {
      "byteLimit": 2048000,
      "rowLimit": 10000
     },
     "inputWidgets": {},
     "nuid": "708fe8a7-1d81-4ffc-9ba2-92982ad86fa7",
     "showTitle": false,
     "title": ""
    }
   },
   "outputs": [
    {
     "output_type": "display_data",
     "data": {
      "text/html": [
       "<style scoped>\n",
       "  .table-result-container {\n",
       "    max-height: 300px;\n",
       "    overflow: auto;\n",
       "  }\n",
       "  table, th, td {\n",
       "    border: 1px solid black;\n",
       "    border-collapse: collapse;\n",
       "  }\n",
       "  th, td {\n",
       "    padding: 5px;\n",
       "  }\n",
       "  th {\n",
       "    text-align: left;\n",
       "  }\n",
       "</style><div class='table-result-container'><table class='table-result'><thead style='background-color: white'><tr><th>station_id</th><th>name</th><th>latitude</th><th>longitude</th></tr></thead><tbody><tr><td>KA1503000012</td><td>Clark St & Lake St</td><td>41.88579466666667</td><td>-87.63110066666668</td></tr><tr><td>637</td><td>Wood St & Chicago Ave</td><td>41.895634</td><td>-87.672069</td></tr><tr><td>13216</td><td>State St & 33rd St</td><td>41.8347335</td><td>-87.6258275</td></tr><tr><td>18003</td><td>Fairbanks St & Superior St</td><td>41.89580766666667</td><td>-87.62025316666669</td></tr><tr><td>KP1705001026</td><td>LaSalle Dr & Huron St</td><td>41.894877</td><td>-87.632326</td></tr></tbody></table></div>"
      ]
     },
     "metadata": {
      "application/vnd.databricks.v1+output": {
       "addedWidgets": {},
       "aggData": [],
       "aggError": "",
       "aggOverflow": false,
       "aggSchema": [],
       "aggSeriesLimitReached": false,
       "aggType": "",
       "arguments": {},
       "columnCustomDisplayInfos": {},
       "data": [
        [
         "KA1503000012",
         "Clark St & Lake St",
         "41.88579466666667",
         "-87.63110066666668"
        ],
        [
         "637",
         "Wood St & Chicago Ave",
         "41.895634",
         "-87.672069"
        ],
        [
         "13216",
         "State St & 33rd St",
         "41.8347335",
         "-87.6258275"
        ],
        [
         "18003",
         "Fairbanks St & Superior St",
         "41.89580766666667",
         "-87.62025316666669"
        ],
        [
         "KP1705001026",
         "LaSalle Dr & Huron St",
         "41.894877",
         "-87.632326"
        ]
       ],
       "datasetInfos": [],
       "dbfsResultPath": null,
       "isJsonSchema": true,
       "metadata": {},
       "overflow": false,
       "plotOptions": {
        "customPlotOptions": {},
        "displayType": "table",
        "pivotAggregation": null,
        "pivotColumns": null,
        "xColumns": null,
        "yColumns": null
       },
       "removedWidgets": [],
       "schema": [
        {
         "metadata": "{}",
         "name": "station_id",
         "type": "\"string\""
        },
        {
         "metadata": "{}",
         "name": "name",
         "type": "\"string\""
        },
        {
         "metadata": "{}",
         "name": "latitude",
         "type": "\"string\""
        },
        {
         "metadata": "{}",
         "name": "longitude",
         "type": "\"string\""
        }
       ],
       "type": "table"
      }
     },
     "output_type": "display_data"
    }
   ],
   "source": [
    "stations = spark.table(\"default.staging_stations\")\n",
    "display(stations.limit(5))"
   ]
  },
  {
   "cell_type": "code",
   "execution_count": 0,
   "metadata": {
    "application/vnd.databricks.v1+cell": {
     "cellMetadata": {
      "byteLimit": 2048000,
      "rowLimit": 10000
     },
     "inputWidgets": {},
     "nuid": "fd8cce26-0885-4c1a-b447-5a4489513180",
     "showTitle": false,
     "title": ""
    }
   },
   "outputs": [
    {
     "output_type": "display_data",
     "data": {
      "text/html": [
       "<style scoped>\n",
       "  .ansiout {\n",
       "    display: block;\n",
       "    unicode-bidi: embed;\n",
       "    white-space: pre-wrap;\n",
       "    word-wrap: break-word;\n",
       "    word-break: break-all;\n",
       "    font-family: \"Menlo\", \"Monaco\", \"Consolas\", \"Ubuntu Mono\", \"Source Code Pro\", monospace;\n",
       "    font-size: 13px;\n",
       "    color: #555;\n",
       "    margin-left: 4px;\n",
       "    line-height: 19px;\n",
       "  }\n",
       "</style>\n",
       "<div class=\"ansiout\"></div>"
      ]
     },
     "metadata": {
      "application/vnd.databricks.v1+output": {
       "addedWidgets": {},
       "arguments": {},
       "data": "<div class=\"ansiout\"></div>",
       "datasetInfos": [],
       "metadata": {},
       "removedWidgets": [],
       "type": "html"
      }
     },
     "output_type": "display_data"
    }
   ],
   "source": [
    "spark.sql(\"drop table if exists default.dim_station\")\n",
    "stations.dropDuplicates([\"station_id\"]).write.format(\"delta\").mode(\"overwrite\").saveAsTable(\"default.dim_station\")"
   ]
  },
  {
   "cell_type": "code",
   "execution_count": 0,
   "metadata": {
    "application/vnd.databricks.v1+cell": {
     "cellMetadata": {
      "byteLimit": 2048000,
      "rowLimit": 10000
     },
     "inputWidgets": {},
     "nuid": "8e78a7f7-2b35-401a-af88-f6533cfb498c",
     "showTitle": false,
     "title": ""
    }
   },
   "outputs": [
    {
     "output_type": "display_data",
     "data": {
      "text/html": [
       "<style scoped>\n",
       "  .table-result-container {\n",
       "    max-height: 300px;\n",
       "    overflow: auto;\n",
       "  }\n",
       "  table, th, td {\n",
       "    border: 1px solid black;\n",
       "    border-collapse: collapse;\n",
       "  }\n",
       "  th, td {\n",
       "    padding: 5px;\n",
       "  }\n",
       "  th {\n",
       "    text-align: left;\n",
       "  }\n",
       "</style><div class='table-result-container'><table class='table-result'><thead style='background-color: white'><tr><th>trip_id</th><th>rideable_type</th><th>start_at</th><th>ended_at</th><th>start_station_id</th><th>end_station_id</th><th>rider_id</th></tr></thead><tbody><tr><td>0FEFDE2603568365</td><td>classic_bike</td><td>2021-02-14 17:52:38</td><td>2021-02-14 18:12:09</td><td>525</td><td>16806</td><td>47854</td></tr><tr><td>E6159D746B2DBB91</td><td>electric_bike</td><td>2021-02-09 19:10:18</td><td>2021-02-09 19:19:10</td><td>KA1503000012</td><td>TA1305000029</td><td>70870</td></tr><tr><td>B32D3199F1C2E75B</td><td>classic_bike</td><td>2021-02-02 17:49:41</td><td>2021-02-02 17:54:06</td><td>637</td><td>TA1305000034</td><td>58974</td></tr><tr><td>83E463F23575F4BF</td><td>electric_bike</td><td>2021-02-23 15:07:23</td><td>2021-02-23 15:22:37</td><td>13216</td><td>TA1309000055</td><td>39608</td></tr><tr><td>BDAA7E3494E8D545</td><td>electric_bike</td><td>2021-02-24 15:43:33</td><td>2021-02-24 15:49:05</td><td>18003</td><td>KP1705001026</td><td>36267</td></tr></tbody></table></div>"
      ]
     },
     "metadata": {
      "application/vnd.databricks.v1+output": {
       "addedWidgets": {},
       "aggData": [],
       "aggError": "",
       "aggOverflow": false,
       "aggSchema": [],
       "aggSeriesLimitReached": false,
       "aggType": "",
       "arguments": {},
       "columnCustomDisplayInfos": {},
       "data": [
        [
         "0FEFDE2603568365",
         "classic_bike",
         "2021-02-14 17:52:38",
         "2021-02-14 18:12:09",
         "525",
         "16806",
         "47854"
        ],
        [
         "E6159D746B2DBB91",
         "electric_bike",
         "2021-02-09 19:10:18",
         "2021-02-09 19:19:10",
         "KA1503000012",
         "TA1305000029",
         "70870"
        ],
        [
         "B32D3199F1C2E75B",
         "classic_bike",
         "2021-02-02 17:49:41",
         "2021-02-02 17:54:06",
         "637",
         "TA1305000034",
         "58974"
        ],
        [
         "83E463F23575F4BF",
         "electric_bike",
         "2021-02-23 15:07:23",
         "2021-02-23 15:22:37",
         "13216",
         "TA1309000055",
         "39608"
        ],
        [
         "BDAA7E3494E8D545",
         "electric_bike",
         "2021-02-24 15:43:33",
         "2021-02-24 15:49:05",
         "18003",
         "KP1705001026",
         "36267"
        ]
       ],
       "datasetInfos": [],
       "dbfsResultPath": null,
       "isJsonSchema": true,
       "metadata": {},
       "overflow": false,
       "plotOptions": {
        "customPlotOptions": {},
        "displayType": "table",
        "pivotAggregation": null,
        "pivotColumns": null,
        "xColumns": null,
        "yColumns": null
       },
       "removedWidgets": [],
       "schema": [
        {
         "metadata": "{}",
         "name": "trip_id",
         "type": "\"string\""
        },
        {
         "metadata": "{}",
         "name": "rideable_type",
         "type": "\"string\""
        },
        {
         "metadata": "{}",
         "name": "start_at",
         "type": "\"string\""
        },
        {
         "metadata": "{}",
         "name": "ended_at",
         "type": "\"string\""
        },
        {
         "metadata": "{}",
         "name": "start_station_id",
         "type": "\"string\""
        },
        {
         "metadata": "{}",
         "name": "end_station_id",
         "type": "\"string\""
        },
        {
         "metadata": "{}",
         "name": "rider_id",
         "type": "\"string\""
        }
       ],
       "type": "table"
      }
     },
     "output_type": "display_data"
    }
   ],
   "source": [
    "trips = spark.table(\"default.staging_trips\")\n",
    "display(trips.limit(5))"
   ]
  },
  {
   "cell_type": "code",
   "execution_count": 0,
   "metadata": {
    "application/vnd.databricks.v1+cell": {
     "cellMetadata": {
      "byteLimit": 2048000,
      "rowLimit": 10000
     },
     "inputWidgets": {},
     "nuid": "9b220993-44da-4dcd-9e06-be295cdbb653",
     "showTitle": false,
     "title": ""
    }
   },
   "outputs": [
    {
     "output_type": "display_data",
     "data": {
      "text/html": [
       "<style scoped>\n",
       "  .ansiout {\n",
       "    display: block;\n",
       "    unicode-bidi: embed;\n",
       "    white-space: pre-wrap;\n",
       "    word-wrap: break-word;\n",
       "    word-break: break-all;\n",
       "    font-family: \"Menlo\", \"Monaco\", \"Consolas\", \"Ubuntu Mono\", \"Source Code Pro\", monospace;\n",
       "    font-size: 13px;\n",
       "    color: #555;\n",
       "    margin-left: 4px;\n",
       "    line-height: 19px;\n",
       "  }\n",
       "</style>\n",
       "<div class=\"ansiout\"></div>"
      ]
     },
     "metadata": {
      "application/vnd.databricks.v1+output": {
       "addedWidgets": {},
       "arguments": {},
       "data": "<div class=\"ansiout\"></div>",
       "datasetInfos": [],
       "metadata": {},
       "removedWidgets": [],
       "type": "html"
      }
     },
     "output_type": "display_data"
    }
   ],
   "source": [
    "fact_trips = trips.join(riders, trips.rider_id == riders.rider_id,\"inner\") \\\n",
    "            .withColumn('duration', round((unix_timestamp(\"ended_at\") - unix_timestamp('start_at'))/60)) \\\n",
    "            .withColumn('rider_age', round(datediff( to_date(\"start_at\"), to_date(\"birthday\"))/365)) \\\n",
    "            .select(\"trip_id\", riders.rider_id, \"rideable_type\", \"start_station_id\", \"end_station_id\", \"start_at\", \"ended_at\", \"duration\", \"rider_age\")\n",
    "            "
   ]
  },
  {
   "cell_type": "code",
   "execution_count": 0,
   "metadata": {
    "application/vnd.databricks.v1+cell": {
     "cellMetadata": {
      "byteLimit": 2048000,
      "rowLimit": 10000
     },
     "inputWidgets": {},
     "nuid": "735995e5-dd23-4af3-8369-522cad4420dc",
     "showTitle": false,
     "title": ""
    }
   },
   "outputs": [
    {
     "output_type": "display_data",
     "data": {
      "text/html": [
       "<style scoped>\n",
       "  .table-result-container {\n",
       "    max-height: 300px;\n",
       "    overflow: auto;\n",
       "  }\n",
       "  table, th, td {\n",
       "    border: 1px solid black;\n",
       "    border-collapse: collapse;\n",
       "  }\n",
       "  th, td {\n",
       "    padding: 5px;\n",
       "  }\n",
       "  th {\n",
       "    text-align: left;\n",
       "  }\n",
       "</style><div class='table-result-container'><table class='table-result'><thead style='background-color: white'><tr><th>trip_id</th><th>rider_id</th><th>rideable_type</th><th>start_station_id</th><th>end_station_id</th><th>start_at</th><th>ended_at</th><th>duration</th><th>rider_age</th></tr></thead><tbody><tr><td>222BB8E5059252D7</td><td>34062</td><td>classic_bike</td><td>KA1503000064</td><td>13021</td><td>2021-06-13 09:48:47</td><td>2021-06-13 10:07:23</td><td>19.0</td><td>30.0</td></tr><tr><td>1826E16CB5486018</td><td>5342</td><td>classic_bike</td><td>TA1306000010</td><td>13021</td><td>2021-06-21 22:59:13</td><td>2021-06-21 23:04:29</td><td>5.0</td><td>26.0</td></tr><tr><td>3D9B6A0A5330B04D</td><td>3714</td><td>classic_bike</td><td>TA1305000030</td><td>13021</td><td>2021-06-18 16:06:42</td><td>2021-06-18 16:12:02</td><td>5.0</td><td>26.0</td></tr><tr><td>07E82F5E9C9E490F</td><td>18793</td><td>classic_bike</td><td>TA1305000034</td><td>13021</td><td>2021-06-17 16:46:23</td><td>2021-06-17 17:02:45</td><td>16.0</td><td>19.0</td></tr><tr><td>A8E94BAECBF0C2DD</td><td>43342</td><td>docked_bike</td><td>TA1308000009</td><td>TA1308000009</td><td>2021-06-13 17:36:29</td><td>2021-06-13 18:30:39</td><td>54.0</td><td>28.0</td></tr></tbody></table></div>"
      ]
     },
     "metadata": {
      "application/vnd.databricks.v1+output": {
       "addedWidgets": {},
       "aggData": [],
       "aggError": "",
       "aggOverflow": false,
       "aggSchema": [],
       "aggSeriesLimitReached": false,
       "aggType": "",
       "arguments": {},
       "columnCustomDisplayInfos": {},
       "data": [
        [
         "222BB8E5059252D7",
         "34062",
         "classic_bike",
         "KA1503000064",
         "13021",
         "2021-06-13 09:48:47",
         "2021-06-13 10:07:23",
         19.0,
         30.0
        ],
        [
         "1826E16CB5486018",
         "5342",
         "classic_bike",
         "TA1306000010",
         "13021",
         "2021-06-21 22:59:13",
         "2021-06-21 23:04:29",
         5.0,
         26.0
        ],
        [
         "3D9B6A0A5330B04D",
         "3714",
         "classic_bike",
         "TA1305000030",
         "13021",
         "2021-06-18 16:06:42",
         "2021-06-18 16:12:02",
         5.0,
         26.0
        ],
        [
         "07E82F5E9C9E490F",
         "18793",
         "classic_bike",
         "TA1305000034",
         "13021",
         "2021-06-17 16:46:23",
         "2021-06-17 17:02:45",
         16.0,
         19.0
        ],
        [
         "A8E94BAECBF0C2DD",
         "43342",
         "docked_bike",
         "TA1308000009",
         "TA1308000009",
         "2021-06-13 17:36:29",
         "2021-06-13 18:30:39",
         54.0,
         28.0
        ]
       ],
       "datasetInfos": [],
       "dbfsResultPath": null,
       "isJsonSchema": true,
       "metadata": {},
       "overflow": false,
       "plotOptions": {
        "customPlotOptions": {},
        "displayType": "table",
        "pivotAggregation": null,
        "pivotColumns": null,
        "xColumns": null,
        "yColumns": null
       },
       "removedWidgets": [],
       "schema": [
        {
         "metadata": "{}",
         "name": "trip_id",
         "type": "\"string\""
        },
        {
         "metadata": "{}",
         "name": "rider_id",
         "type": "\"string\""
        },
        {
         "metadata": "{}",
         "name": "rideable_type",
         "type": "\"string\""
        },
        {
         "metadata": "{}",
         "name": "start_station_id",
         "type": "\"string\""
        },
        {
         "metadata": "{}",
         "name": "end_station_id",
         "type": "\"string\""
        },
        {
         "metadata": "{}",
         "name": "start_at",
         "type": "\"string\""
        },
        {
         "metadata": "{}",
         "name": "ended_at",
         "type": "\"string\""
        },
        {
         "metadata": "{}",
         "name": "duration",
         "type": "\"double\""
        },
        {
         "metadata": "{}",
         "name": "rider_age",
         "type": "\"double\""
        }
       ],
       "type": "table"
      }
     },
     "output_type": "display_data"
    }
   ],
   "source": [
    "display(fact_trips.limit(5))"
   ]
  },
  {
   "cell_type": "code",
   "execution_count": 0,
   "metadata": {
    "application/vnd.databricks.v1+cell": {
     "cellMetadata": {
      "byteLimit": 2048000,
      "rowLimit": 10000
     },
     "inputWidgets": {},
     "nuid": "05be3fc5-6207-4838-a004-39b93173a871",
     "showTitle": false,
     "title": ""
    }
   },
   "outputs": [
    {
     "output_type": "display_data",
     "data": {
      "text/html": [
       "<style scoped>\n",
       "  .ansiout {\n",
       "    display: block;\n",
       "    unicode-bidi: embed;\n",
       "    white-space: pre-wrap;\n",
       "    word-wrap: break-word;\n",
       "    word-break: break-all;\n",
       "    font-family: \"Menlo\", \"Monaco\", \"Consolas\", \"Ubuntu Mono\", \"Source Code Pro\", monospace;\n",
       "    font-size: 13px;\n",
       "    color: #555;\n",
       "    margin-left: 4px;\n",
       "    line-height: 19px;\n",
       "  }\n",
       "</style>\n",
       "<div class=\"ansiout\"></div>"
      ]
     },
     "metadata": {
      "application/vnd.databricks.v1+output": {
       "addedWidgets": {},
       "arguments": {},
       "data": "<div class=\"ansiout\"></div>",
       "datasetInfos": [],
       "metadata": {},
       "removedWidgets": [],
       "type": "html"
      }
     },
     "output_type": "display_data"
    }
   ],
   "source": [
    "spark.sql(\"drop table if exists default.fact_trip\")\n",
    "fact_trips.write.format(\"delta\").mode(\"overwrite\").saveAsTable(\"default.fact_trip\")"
   ]
  },
  {
   "cell_type": "code",
   "execution_count": 0,
   "metadata": {
    "application/vnd.databricks.v1+cell": {
     "cellMetadata": {
      "byteLimit": 2048000,
      "rowLimit": 10000
     },
     "inputWidgets": {},
     "nuid": "c3fbdf55-9e08-4d3a-aff8-e16e2d5a3965",
     "showTitle": false,
     "title": ""
    }
   },
   "outputs": [
    {
     "output_type": "display_data",
     "data": {
      "text/html": [
       "<style scoped>\n",
       "  .table-result-container {\n",
       "    max-height: 300px;\n",
       "    overflow: auto;\n",
       "  }\n",
       "  table, th, td {\n",
       "    border: 1px solid black;\n",
       "    border-collapse: collapse;\n",
       "  }\n",
       "  th, td {\n",
       "    padding: 5px;\n",
       "  }\n",
       "  th {\n",
       "    text-align: left;\n",
       "  }\n",
       "</style><div class='table-result-container'><table class='table-result'><thead style='background-color: white'><tr><th>date_id</th><th>date</th><th>day</th><th>month</th><th>quarter</th><th>year</th><th>day_of_year</th><th>day_of_week</th></tr></thead><tbody><tr><td>2021-02-01 00:00:00</td><td>2021-02-01T00:00:00.000+0000</td><td>1</td><td>2</td><td>1</td><td>2021</td><td>32</td><td>2</td></tr><tr><td>2021-02-02 00:00:00</td><td>2021-02-02T00:00:00.000+0000</td><td>2</td><td>2</td><td>1</td><td>2021</td><td>33</td><td>3</td></tr><tr><td>2021-02-03 00:00:00</td><td>2021-02-03T00:00:00.000+0000</td><td>3</td><td>2</td><td>1</td><td>2021</td><td>34</td><td>4</td></tr><tr><td>2021-02-04 00:00:00</td><td>2021-02-04T00:00:00.000+0000</td><td>4</td><td>2</td><td>1</td><td>2021</td><td>35</td><td>5</td></tr><tr><td>2021-02-05 00:00:00</td><td>2021-02-05T00:00:00.000+0000</td><td>5</td><td>2</td><td>1</td><td>2021</td><td>36</td><td>6</td></tr></tbody></table></div>"
      ]
     },
     "metadata": {
      "application/vnd.databricks.v1+output": {
       "addedWidgets": {},
       "aggData": [],
       "aggError": "",
       "aggOverflow": false,
       "aggSchema": [],
       "aggSeriesLimitReached": false,
       "aggType": "",
       "arguments": {},
       "columnCustomDisplayInfos": {},
       "data": [
        [
         "2021-02-01 00:00:00",
         "2021-02-01T00:00:00.000+0000",
         1,
         2,
         1,
         2021,
         32,
         2
        ],
        [
         "2021-02-02 00:00:00",
         "2021-02-02T00:00:00.000+0000",
         2,
         2,
         1,
         2021,
         33,
         3
        ],
        [
         "2021-02-03 00:00:00",
         "2021-02-03T00:00:00.000+0000",
         3,
         2,
         1,
         2021,
         34,
         4
        ],
        [
         "2021-02-04 00:00:00",
         "2021-02-04T00:00:00.000+0000",
         4,
         2,
         1,
         2021,
         35,
         5
        ],
        [
         "2021-02-05 00:00:00",
         "2021-02-05T00:00:00.000+0000",
         5,
         2,
         1,
         2021,
         36,
         6
        ]
       ],
       "datasetInfos": [],
       "dbfsResultPath": null,
       "isJsonSchema": true,
       "metadata": {},
       "overflow": false,
       "plotOptions": {
        "customPlotOptions": {},
        "displayType": "table",
        "pivotAggregation": null,
        "pivotColumns": null,
        "xColumns": null,
        "yColumns": null
       },
       "removedWidgets": [],
       "schema": [
        {
         "metadata": "{}",
         "name": "date_id",
         "type": "\"string\""
        },
        {
         "metadata": "{}",
         "name": "date",
         "type": "\"timestamp\""
        },
        {
         "metadata": "{}",
         "name": "day",
         "type": "\"integer\""
        },
        {
         "metadata": "{}",
         "name": "month",
         "type": "\"integer\""
        },
        {
         "metadata": "{}",
         "name": "quarter",
         "type": "\"integer\""
        },
        {
         "metadata": "{}",
         "name": "year",
         "type": "\"integer\""
        },
        {
         "metadata": "{}",
         "name": "day_of_year",
         "type": "\"integer\""
        },
        {
         "metadata": "{}",
         "name": "day_of_week",
         "type": "\"integer\""
        }
       ],
       "type": "table"
      }
     },
     "output_type": "display_data"
    }
   ],
   "source": [
    "# Get min and max dates\n",
    "min_max_dates = trips.selectExpr(\"MIN(start_at) as min_date\", \"MAX(ended_at) as max_date\").first()\n",
    "\n",
    "# Extract min and max dates\n",
    "min_date = min_max_dates[\"min_date\"]\n",
    "max_date = min_max_dates[\"max_date\"]\n",
    "\n",
    "# Generate sequence expression\n",
    "expression = f\"sequence(to_date('{min_date}'), to_date('{max_date}'), interval 1 day)\"\n",
    "\n",
    "# Create DataFrame with single row\n",
    "dim_date = spark.createDataFrame([(1,)], [\"date_id\"])\n",
    "\n",
    "# Explode the sequence expression to generate dates\n",
    "dim_date = dim_date.withColumn(\"dateinit\", explode(expr(expression)))\n",
    "\n",
    "# Convert 'dateinit' to timestamp\n",
    "dim_date = dim_date.withColumn(\"date\", to_timestamp(dim_date.dateinit, \"yyyy-MM-dd\"))\n",
    "\n",
    "# Extract date components\n",
    "dim_date = dim_date.withColumn(\"day\", dayofmonth(dim_date.date)) \\\n",
    "                   .withColumn(\"month\", month(dim_date.date)) \\\n",
    "                   .withColumn(\"quarter\", quarter(dim_date.date)) \\\n",
    "                   .withColumn(\"year\", year(dim_date.date)) \\\n",
    "                   .withColumn(\"day_of_year\", dayofyear(dim_date.date)) \\\n",
    "                   .withColumn(\"day_of_week\", dayofweek(dim_date.date)) \\\n",
    "                   .withColumn(\"date_id\", col(\"date\").cast(StringType())) \\\n",
    "                   .drop(\"dateinit\")\n",
    "\n",
    "# Display the result\n",
    "display(dim_date.limit(5))"
   ]
  },
  {
   "cell_type": "code",
   "execution_count": 0,
   "metadata": {
    "application/vnd.databricks.v1+cell": {
     "cellMetadata": {
      "byteLimit": 2048000,
      "rowLimit": 10000
     },
     "inputWidgets": {},
     "nuid": "3ef7c72a-f016-4ee2-9e4f-f0f9c37867eb",
     "showTitle": false,
     "title": ""
    }
   },
   "outputs": [
    {
     "output_type": "display_data",
     "data": {
      "text/html": [
       "<style scoped>\n",
       "  .ansiout {\n",
       "    display: block;\n",
       "    unicode-bidi: embed;\n",
       "    white-space: pre-wrap;\n",
       "    word-wrap: break-word;\n",
       "    word-break: break-all;\n",
       "    font-family: \"Menlo\", \"Monaco\", \"Consolas\", \"Ubuntu Mono\", \"Source Code Pro\", monospace;\n",
       "    font-size: 13px;\n",
       "    color: #555;\n",
       "    margin-left: 4px;\n",
       "    line-height: 19px;\n",
       "  }\n",
       "</style>\n",
       "<div class=\"ansiout\"></div>"
      ]
     },
     "metadata": {
      "application/vnd.databricks.v1+output": {
       "addedWidgets": {},
       "arguments": {},
       "data": "<div class=\"ansiout\"></div>",
       "datasetInfos": [],
       "metadata": {},
       "removedWidgets": [],
       "type": "html"
      }
     },
     "output_type": "display_data"
    }
   ],
   "source": [
    "spark.sql(\"drop table if exists default.dim_time\")\n",
    "dim_date.write.format(\"delta\").mode(\"overwrite\").saveAsTable(\"default.dim_date\")"
   ]
  }
 ],
 "metadata": {
  "application/vnd.databricks.v1+notebook": {
   "dashboards": [],
   "language": "python",
   "notebookMetadata": {
    "pythonIndentUnit": 4
   },
   "notebookName": "Transform",
   "widgets": {}
  }
 },
 "nbformat": 4,
 "nbformat_minor": 0
}
