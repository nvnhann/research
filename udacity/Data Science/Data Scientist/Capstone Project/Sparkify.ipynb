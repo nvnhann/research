{
  "cells": [
    {
      "cell_type": "markdown",
      "metadata": {
        "id": "eyoQOXt525MU"
      },
      "source": [
        "# Sparkify Project Workspace\n",
        "This workspace contains a tiny subset (128MB) of the full dataset available (12GB). Feel free to use this workspace to build your project, or to explore a smaller subset with Spark before deploying your cluster on the cloud. Instructions for setting up your Spark cluster is included in the last lesson of the Extracurricular Spark Course content.\n",
        "\n",
        "You can follow the steps below to guide your data analysis and model building portion of this project."
      ]
    },
    {
      "cell_type": "code",
      "execution_count": 1,
      "metadata": {
        "id": "AaumsYjg25Mk"
      },
      "outputs": [],
      "source": [
        "# import libraries\n",
        "import pyspark\n",
        "from pyspark import SparkConf\n",
        "from pyspark.sql import SparkSession\n",
        "from pyspark.sql.functions import udf\n",
        "from pyspark.sql.types import StringType\n",
        "from pyspark.sql.types import IntegerType\n",
        "from pyspark.sql.functions import isnan, count, when, col, desc, udf, col, sort_array, asc, avg\n",
        "from pyspark.sql.functions import sum as Fsum\n",
        "from pyspark.sql.window import Window\n",
        "from pyspark.sql import Row\n",
        "from pyspark.sql import functions as F\n",
        "from pyspark.sql.functions import *\n",
        "\n",
        "from pyspark.ml import Pipeline\n",
        "from pyspark.ml.classification import LogisticRegression, RandomForestClassifier,DecisionTreeClassifier, NaiveBayes\n",
        "from pyspark.ml.evaluation import MulticlassClassificationEvaluator\n",
        "from pyspark.ml.feature import CountVectorizer, IDF, PCA, RegexTokenizer, VectorAssembler, Normalizer, StandardScaler\n",
        "from pyspark.ml.regression import LinearRegression\n",
        "from pyspark.ml.tuning import CrossValidator, ParamGridBuilder\n",
        "%matplotlib inline\n",
        "import datetime\n",
        "import time\n",
        "import random\n",
        "import pandas as pd\n",
        "import numpy as np\n",
        "import re\n",
        "import matplotlib.pyplot as plt\n",
        "import seaborn as sns\n",
        "sns.set()"
      ]
    },
    {
      "cell_type": "code",
      "execution_count": 2,
      "metadata": {
        "id": "q6xRLbap25Mn"
      },
      "outputs": [
        {
          "name": "stderr",
          "output_type": "stream",
          "text": [
            "23/05/07 08:33:43 WARN Utils: Your hostname, nvnhan resolves to a loopback address: 127.0.1.1; using 192.168.2.37 instead (on interface wlp2s0)\n",
            "23/05/07 08:33:43 WARN Utils: Set SPARK_LOCAL_IP if you need to bind to another address\n",
            "Setting default log level to \"WARN\".\n",
            "To adjust logging level use sc.setLogLevel(newLevel). For SparkR, use setLogLevel(newLevel).\n",
            "23/05/07 08:33:44 WARN NativeCodeLoader: Unable to load native-hadoop library for your platform... using builtin-java classes where applicable\n"
          ]
        }
      ],
      "source": [
        "# create a Spark session\n",
        "spark = SparkSession \\\n",
        "    .builder \\\n",
        "    .appName(\"Sparkify Project Capstone\") \\\n",
        "    .getOrCreate()"
      ]
    },
    {
      "cell_type": "code",
      "execution_count": 3,
      "metadata": {
        "colab": {
          "base_uri": "https://localhost:8080/"
        },
        "id": "h3APInwu25Mo",
        "outputId": "d1c25efe-d064-4429-e096-bb97ba08b14c"
      },
      "outputs": [
        {
          "data": {
            "text/plain": [
              "[('spark.app.submitTime', '1683423224401'),\n",
              " ('spark.app.id', 'local-1683423226943'),\n",
              " ('spark.executor.id', 'driver'),\n",
              " ('spark.driver.port', '38983'),\n",
              " ('spark.driver.extraJavaOptions',\n",
              "  '-Djava.net.preferIPv6Addresses=false -XX:+IgnoreUnrecognizedVMOptions --add-opens=java.base/java.lang=ALL-UNNAMED --add-opens=java.base/java.lang.invoke=ALL-UNNAMED --add-opens=java.base/java.lang.reflect=ALL-UNNAMED --add-opens=java.base/java.io=ALL-UNNAMED --add-opens=java.base/java.net=ALL-UNNAMED --add-opens=java.base/java.nio=ALL-UNNAMED --add-opens=java.base/java.util=ALL-UNNAMED --add-opens=java.base/java.util.concurrent=ALL-UNNAMED --add-opens=java.base/java.util.concurrent.atomic=ALL-UNNAMED --add-opens=java.base/sun.nio.ch=ALL-UNNAMED --add-opens=java.base/sun.nio.cs=ALL-UNNAMED --add-opens=java.base/sun.security.action=ALL-UNNAMED --add-opens=java.base/sun.util.calendar=ALL-UNNAMED --add-opens=java.security.jgss/sun.security.krb5=ALL-UNNAMED -Djdk.reflect.useDirectMethodHandle=false'),\n",
              " ('spark.app.startTime', '1683423224666'),\n",
              " ('spark.rdd.compress', 'True'),\n",
              " ('spark.driver.host', '192.168.2.37'),\n",
              " ('spark.serializer.objectStreamReset', '100'),\n",
              " ('spark.app.name', 'Sparkify Project Capstone'),\n",
              " ('spark.master', 'local[*]'),\n",
              " ('spark.submit.pyFiles', ''),\n",
              " ('spark.submit.deployMode', 'client'),\n",
              " ('spark.ui.showConsoleProgress', 'true'),\n",
              " ('spark.executor.extraJavaOptions',\n",
              "  '-Djava.net.preferIPv6Addresses=false -XX:+IgnoreUnrecognizedVMOptions --add-opens=java.base/java.lang=ALL-UNNAMED --add-opens=java.base/java.lang.invoke=ALL-UNNAMED --add-opens=java.base/java.lang.reflect=ALL-UNNAMED --add-opens=java.base/java.io=ALL-UNNAMED --add-opens=java.base/java.net=ALL-UNNAMED --add-opens=java.base/java.nio=ALL-UNNAMED --add-opens=java.base/java.util=ALL-UNNAMED --add-opens=java.base/java.util.concurrent=ALL-UNNAMED --add-opens=java.base/java.util.concurrent.atomic=ALL-UNNAMED --add-opens=java.base/sun.nio.ch=ALL-UNNAMED --add-opens=java.base/sun.nio.cs=ALL-UNNAMED --add-opens=java.base/sun.security.action=ALL-UNNAMED --add-opens=java.base/sun.util.calendar=ALL-UNNAMED --add-opens=java.security.jgss/sun.security.krb5=ALL-UNNAMED -Djdk.reflect.useDirectMethodHandle=false')]"
            ]
          },
          "execution_count": 3,
          "metadata": {},
          "output_type": "execute_result"
        }
      ],
      "source": [
        "spark.sparkContext.getConf().getAll()"
      ]
    },
    {
      "cell_type": "markdown",
      "metadata": {
        "id": "1hXHldV425Mq"
      },
      "source": [
        "# Load and Clean Dataset\n",
        "In this workspace, the mini-dataset file is `mini_sparkify_event_data.json`. Load and clean the dataset, checking for invalid or missing data - for example, records without userids or sessionids. "
      ]
    },
    {
      "cell_type": "code",
      "execution_count": 4,
      "metadata": {
        "id": "-kgvt7at25Mq"
      },
      "outputs": [
        {
          "name": "stderr",
          "output_type": "stream",
          "text": [
            "                                                                                \r"
          ]
        }
      ],
      "source": [
        "df = spark.read.json(\"mini_sparkify_event_data.json\")"
      ]
    },
    {
      "cell_type": "code",
      "execution_count": 5,
      "metadata": {
        "colab": {
          "base_uri": "https://localhost:8080/"
        },
        "id": "iqutXF2d25Mr",
        "outputId": "2c737834-9e57-4f47-b84a-b3834d9d9021"
      },
      "outputs": [
        {
          "name": "stdout",
          "output_type": "stream",
          "text": [
            "root\n",
            " |-- artist: string (nullable = true)\n",
            " |-- auth: string (nullable = true)\n",
            " |-- firstName: string (nullable = true)\n",
            " |-- gender: string (nullable = true)\n",
            " |-- itemInSession: long (nullable = true)\n",
            " |-- lastName: string (nullable = true)\n",
            " |-- length: double (nullable = true)\n",
            " |-- level: string (nullable = true)\n",
            " |-- location: string (nullable = true)\n",
            " |-- method: string (nullable = true)\n",
            " |-- page: string (nullable = true)\n",
            " |-- registration: long (nullable = true)\n",
            " |-- sessionId: long (nullable = true)\n",
            " |-- song: string (nullable = true)\n",
            " |-- status: long (nullable = true)\n",
            " |-- ts: long (nullable = true)\n",
            " |-- userAgent: string (nullable = true)\n",
            " |-- userId: string (nullable = true)\n",
            "\n"
          ]
        }
      ],
      "source": [
        "df.printSchema()"
      ]
    },
    {
      "cell_type": "code",
      "execution_count": 6,
      "metadata": {
        "colab": {
          "base_uri": "https://localhost:8080/"
        },
        "id": "BTUwhOX625Ms",
        "outputId": "394a21d4-a7f3-4fbc-c485-262c44632f43"
      },
      "outputs": [
        {
          "data": {
            "text/plain": [
              "DataFrame[summary: string, artist: string, auth: string, firstName: string, gender: string, itemInSession: string, lastName: string, length: string, level: string, location: string, method: string, page: string, registration: string, sessionId: string, song: string, status: string, ts: string, userAgent: string, userId: string]"
            ]
          },
          "execution_count": 6,
          "metadata": {},
          "output_type": "execute_result"
        }
      ],
      "source": [
        "df.describe()"
      ]
    },
    {
      "cell_type": "code",
      "execution_count": 7,
      "metadata": {
        "colab": {
          "base_uri": "https://localhost:8080/"
        },
        "id": "ZvGcWKQa25Ms",
        "outputId": "f93512a7-d2b3-4b9a-a270-96cc0619543f"
      },
      "outputs": [
        {
          "name": "stderr",
          "output_type": "stream",
          "text": [
            "                                                                                \r"
          ]
        },
        {
          "data": {
            "text/plain": [
              "286500"
            ]
          },
          "execution_count": 7,
          "metadata": {},
          "output_type": "execute_result"
        }
      ],
      "source": [
        "df.count()"
      ]
    },
    {
      "cell_type": "code",
      "execution_count": 8,
      "metadata": {
        "id": "GLhipCPn25Mt"
      },
      "outputs": [],
      "source": [
        "df = df.dropna(how = 'any', subset = [\"userId\", \"sessionId\"])"
      ]
    },
    {
      "cell_type": "code",
      "execution_count": 9,
      "metadata": {
        "colab": {
          "base_uri": "https://localhost:8080/"
        },
        "id": "IJHJ-VDc25Mt",
        "outputId": "b139c83c-7b4c-4b89-da59-e1383ce336de"
      },
      "outputs": [
        {
          "name": "stderr",
          "output_type": "stream",
          "text": [
            "                                                                                \r"
          ]
        },
        {
          "data": {
            "text/plain": [
              "286500"
            ]
          },
          "execution_count": 9,
          "metadata": {},
          "output_type": "execute_result"
        }
      ],
      "source": [
        "df.count()"
      ]
    },
    {
      "cell_type": "code",
      "execution_count": 10,
      "metadata": {
        "colab": {
          "base_uri": "https://localhost:8080/"
        },
        "id": "oI_qQ0SA25Mu",
        "outputId": "56dbac03-d195-4c03-992f-b28c33114791"
      },
      "outputs": [
        {
          "name": "stderr",
          "output_type": "stream",
          "text": [
            "[Stage 7:>                                                          (0 + 8) / 8]\r"
          ]
        },
        {
          "name": "stdout",
          "output_type": "stream",
          "text": [
            "+------+\n",
            "|userId|\n",
            "+------+\n",
            "|      |\n",
            "|    10|\n",
            "|   100|\n",
            "|100001|\n",
            "|100002|\n",
            "|100003|\n",
            "|100004|\n",
            "|100005|\n",
            "|100006|\n",
            "|100007|\n",
            "|100008|\n",
            "|100009|\n",
            "|100010|\n",
            "|100011|\n",
            "|100012|\n",
            "|100013|\n",
            "|100014|\n",
            "|100015|\n",
            "|100016|\n",
            "|100017|\n",
            "+------+\n",
            "only showing top 20 rows\n",
            "\n"
          ]
        },
        {
          "name": "stderr",
          "output_type": "stream",
          "text": [
            "                                                                                \r"
          ]
        }
      ],
      "source": [
        "df.select(\"userId\").dropDuplicates().sort(\"userId\").show()"
      ]
    },
    {
      "cell_type": "code",
      "execution_count": 11,
      "metadata": {
        "colab": {
          "base_uri": "https://localhost:8080/"
        },
        "id": "cv60wqKK25Mv",
        "outputId": "6339ffce-6d0b-45a6-b200-98971ecc3a55"
      },
      "outputs": [
        {
          "name": "stderr",
          "output_type": "stream",
          "text": [
            "[Stage 10:>                                                         (0 + 8) / 8]\r"
          ]
        },
        {
          "name": "stdout",
          "output_type": "stream",
          "text": [
            "+---------+\n",
            "|sessionId|\n",
            "+---------+\n",
            "|        1|\n",
            "|        2|\n",
            "|        3|\n",
            "|        4|\n",
            "|        5|\n",
            "|        6|\n",
            "|        7|\n",
            "|        8|\n",
            "|        9|\n",
            "|       10|\n",
            "|       11|\n",
            "|       12|\n",
            "|       13|\n",
            "|       15|\n",
            "|       16|\n",
            "|       17|\n",
            "|       18|\n",
            "|       19|\n",
            "|       20|\n",
            "|       21|\n",
            "+---------+\n",
            "only showing top 20 rows\n",
            "\n"
          ]
        },
        {
          "name": "stderr",
          "output_type": "stream",
          "text": [
            "                                                                                \r"
          ]
        }
      ],
      "source": [
        "df.select(\"sessionId\").dropDuplicates().sort(\"sessionId\").show()"
      ]
    },
    {
      "cell_type": "code",
      "execution_count": 12,
      "metadata": {
        "id": "Mw6n8yZY25Mv"
      },
      "outputs": [],
      "source": [
        "# remove those with an empty string userId\n",
        "df = df.filter(df[\"userId\"] != \"\")"
      ]
    },
    {
      "cell_type": "code",
      "execution_count": 13,
      "metadata": {
        "colab": {
          "base_uri": "https://localhost:8080/"
        },
        "id": "xGiigaRn25Mw",
        "outputId": "71c6ec46-6845-4cb4-8a3e-a97a45cdbfa5"
      },
      "outputs": [
        {
          "name": "stderr",
          "output_type": "stream",
          "text": [
            "                                                                                \r"
          ]
        },
        {
          "data": {
            "text/plain": [
              "278154"
            ]
          },
          "execution_count": 13,
          "metadata": {},
          "output_type": "execute_result"
        }
      ],
      "source": [
        "df.count()"
      ]
    },
    {
      "cell_type": "code",
      "execution_count": 14,
      "metadata": {
        "colab": {
          "base_uri": "https://localhost:8080/",
          "height": 1000
        },
        "id": "LvddBFaK25Mw",
        "outputId": "1974a248-f442-4ea9-fb34-4af3135ae884"
      },
      "outputs": [
        {
          "name": "stderr",
          "output_type": "stream",
          "text": [
            "                                                                                \r"
          ]
        },
        {
          "data": {
            "text/html": [
              "<div>\n",
              "<style scoped>\n",
              "    .dataframe tbody tr th:only-of-type {\n",
              "        vertical-align: middle;\n",
              "    }\n",
              "\n",
              "    .dataframe tbody tr th {\n",
              "        vertical-align: top;\n",
              "    }\n",
              "\n",
              "    .dataframe thead th {\n",
              "        text-align: right;\n",
              "    }\n",
              "</style>\n",
              "<table border=\"1\" class=\"dataframe\">\n",
              "  <thead>\n",
              "    <tr style=\"text-align: right;\">\n",
              "      <th></th>\n",
              "      <th>artist</th>\n",
              "      <th>auth</th>\n",
              "      <th>firstName</th>\n",
              "      <th>gender</th>\n",
              "      <th>itemInSession</th>\n",
              "      <th>lastName</th>\n",
              "      <th>length</th>\n",
              "      <th>level</th>\n",
              "      <th>location</th>\n",
              "      <th>method</th>\n",
              "      <th>page</th>\n",
              "      <th>registration</th>\n",
              "      <th>sessionId</th>\n",
              "      <th>song</th>\n",
              "      <th>status</th>\n",
              "      <th>ts</th>\n",
              "      <th>userAgent</th>\n",
              "      <th>userId</th>\n",
              "    </tr>\n",
              "  </thead>\n",
              "  <tbody>\n",
              "    <tr>\n",
              "      <th>0</th>\n",
              "      <td>Martha Tilston</td>\n",
              "      <td>Logged In</td>\n",
              "      <td>Colin</td>\n",
              "      <td>M</td>\n",
              "      <td>50</td>\n",
              "      <td>Freeman</td>\n",
              "      <td>277.89016</td>\n",
              "      <td>paid</td>\n",
              "      <td>Bakersfield, CA</td>\n",
              "      <td>PUT</td>\n",
              "      <td>NextSong</td>\n",
              "      <td>1538173362000</td>\n",
              "      <td>29</td>\n",
              "      <td>Rockpools</td>\n",
              "      <td>200</td>\n",
              "      <td>1538352117000</td>\n",
              "      <td>Mozilla/5.0 (Windows NT 6.1; WOW64; rv:31.0) G...</td>\n",
              "      <td>30</td>\n",
              "    </tr>\n",
              "    <tr>\n",
              "      <th>1</th>\n",
              "      <td>Five Iron Frenzy</td>\n",
              "      <td>Logged In</td>\n",
              "      <td>Micah</td>\n",
              "      <td>M</td>\n",
              "      <td>79</td>\n",
              "      <td>Long</td>\n",
              "      <td>236.09424</td>\n",
              "      <td>free</td>\n",
              "      <td>Boston-Cambridge-Newton, MA-NH</td>\n",
              "      <td>PUT</td>\n",
              "      <td>NextSong</td>\n",
              "      <td>1538331630000</td>\n",
              "      <td>8</td>\n",
              "      <td>Canada</td>\n",
              "      <td>200</td>\n",
              "      <td>1538352180000</td>\n",
              "      <td>\"Mozilla/5.0 (Windows NT 6.1; WOW64) AppleWebK...</td>\n",
              "      <td>9</td>\n",
              "    </tr>\n",
              "    <tr>\n",
              "      <th>2</th>\n",
              "      <td>Adam Lambert</td>\n",
              "      <td>Logged In</td>\n",
              "      <td>Colin</td>\n",
              "      <td>M</td>\n",
              "      <td>51</td>\n",
              "      <td>Freeman</td>\n",
              "      <td>282.82730</td>\n",
              "      <td>paid</td>\n",
              "      <td>Bakersfield, CA</td>\n",
              "      <td>PUT</td>\n",
              "      <td>NextSong</td>\n",
              "      <td>1538173362000</td>\n",
              "      <td>29</td>\n",
              "      <td>Time For Miracles</td>\n",
              "      <td>200</td>\n",
              "      <td>1538352394000</td>\n",
              "      <td>Mozilla/5.0 (Windows NT 6.1; WOW64; rv:31.0) G...</td>\n",
              "      <td>30</td>\n",
              "    </tr>\n",
              "    <tr>\n",
              "      <th>3</th>\n",
              "      <td>Enigma</td>\n",
              "      <td>Logged In</td>\n",
              "      <td>Micah</td>\n",
              "      <td>M</td>\n",
              "      <td>80</td>\n",
              "      <td>Long</td>\n",
              "      <td>262.71302</td>\n",
              "      <td>free</td>\n",
              "      <td>Boston-Cambridge-Newton, MA-NH</td>\n",
              "      <td>PUT</td>\n",
              "      <td>NextSong</td>\n",
              "      <td>1538331630000</td>\n",
              "      <td>8</td>\n",
              "      <td>Knocking On Forbidden Doors</td>\n",
              "      <td>200</td>\n",
              "      <td>1538352416000</td>\n",
              "      <td>\"Mozilla/5.0 (Windows NT 6.1; WOW64) AppleWebK...</td>\n",
              "      <td>9</td>\n",
              "    </tr>\n",
              "    <tr>\n",
              "      <th>4</th>\n",
              "      <td>Daft Punk</td>\n",
              "      <td>Logged In</td>\n",
              "      <td>Colin</td>\n",
              "      <td>M</td>\n",
              "      <td>52</td>\n",
              "      <td>Freeman</td>\n",
              "      <td>223.60771</td>\n",
              "      <td>paid</td>\n",
              "      <td>Bakersfield, CA</td>\n",
              "      <td>PUT</td>\n",
              "      <td>NextSong</td>\n",
              "      <td>1538173362000</td>\n",
              "      <td>29</td>\n",
              "      <td>Harder Better Faster Stronger</td>\n",
              "      <td>200</td>\n",
              "      <td>1538352676000</td>\n",
              "      <td>Mozilla/5.0 (Windows NT 6.1; WOW64; rv:31.0) G...</td>\n",
              "      <td>30</td>\n",
              "    </tr>\n",
              "    <tr>\n",
              "      <th>...</th>\n",
              "      <td>...</td>\n",
              "      <td>...</td>\n",
              "      <td>...</td>\n",
              "      <td>...</td>\n",
              "      <td>...</td>\n",
              "      <td>...</td>\n",
              "      <td>...</td>\n",
              "      <td>...</td>\n",
              "      <td>...</td>\n",
              "      <td>...</td>\n",
              "      <td>...</td>\n",
              "      <td>...</td>\n",
              "      <td>...</td>\n",
              "      <td>...</td>\n",
              "      <td>...</td>\n",
              "      <td>...</td>\n",
              "      <td>...</td>\n",
              "      <td>...</td>\n",
              "    </tr>\n",
              "    <tr>\n",
              "      <th>278149</th>\n",
              "      <td>Iron Maiden</td>\n",
              "      <td>Logged In</td>\n",
              "      <td>Emilia</td>\n",
              "      <td>F</td>\n",
              "      <td>38</td>\n",
              "      <td>House</td>\n",
              "      <td>258.66404</td>\n",
              "      <td>paid</td>\n",
              "      <td>New York-Newark-Jersey City, NY-NJ-PA</td>\n",
              "      <td>PUT</td>\n",
              "      <td>NextSong</td>\n",
              "      <td>1538336771000</td>\n",
              "      <td>500</td>\n",
              "      <td>Murders In The Rue Morgue (1998 Digital Remaster)</td>\n",
              "      <td>200</td>\n",
              "      <td>1543622121000</td>\n",
              "      <td>Mozilla/5.0 (compatible; MSIE 9.0; Windows NT ...</td>\n",
              "      <td>300011</td>\n",
              "    </tr>\n",
              "    <tr>\n",
              "      <th>278150</th>\n",
              "      <td>None</td>\n",
              "      <td>Logged In</td>\n",
              "      <td>Emilia</td>\n",
              "      <td>F</td>\n",
              "      <td>39</td>\n",
              "      <td>House</td>\n",
              "      <td>NaN</td>\n",
              "      <td>paid</td>\n",
              "      <td>New York-Newark-Jersey City, NY-NJ-PA</td>\n",
              "      <td>PUT</td>\n",
              "      <td>Logout</td>\n",
              "      <td>1538336771000</td>\n",
              "      <td>500</td>\n",
              "      <td>None</td>\n",
              "      <td>307</td>\n",
              "      <td>1543622122000</td>\n",
              "      <td>Mozilla/5.0 (compatible; MSIE 9.0; Windows NT ...</td>\n",
              "      <td>300011</td>\n",
              "    </tr>\n",
              "    <tr>\n",
              "      <th>278151</th>\n",
              "      <td>None</td>\n",
              "      <td>Logged In</td>\n",
              "      <td>Emilia</td>\n",
              "      <td>F</td>\n",
              "      <td>43</td>\n",
              "      <td>House</td>\n",
              "      <td>NaN</td>\n",
              "      <td>paid</td>\n",
              "      <td>New York-Newark-Jersey City, NY-NJ-PA</td>\n",
              "      <td>GET</td>\n",
              "      <td>Home</td>\n",
              "      <td>1538336771000</td>\n",
              "      <td>500</td>\n",
              "      <td>None</td>\n",
              "      <td>200</td>\n",
              "      <td>1543622248000</td>\n",
              "      <td>Mozilla/5.0 (compatible; MSIE 9.0; Windows NT ...</td>\n",
              "      <td>300011</td>\n",
              "    </tr>\n",
              "    <tr>\n",
              "      <th>278152</th>\n",
              "      <td>None</td>\n",
              "      <td>Logged In</td>\n",
              "      <td>Emilia</td>\n",
              "      <td>F</td>\n",
              "      <td>44</td>\n",
              "      <td>House</td>\n",
              "      <td>NaN</td>\n",
              "      <td>paid</td>\n",
              "      <td>New York-Newark-Jersey City, NY-NJ-PA</td>\n",
              "      <td>GET</td>\n",
              "      <td>About</td>\n",
              "      <td>1538336771000</td>\n",
              "      <td>500</td>\n",
              "      <td>None</td>\n",
              "      <td>200</td>\n",
              "      <td>1543622398000</td>\n",
              "      <td>Mozilla/5.0 (compatible; MSIE 9.0; Windows NT ...</td>\n",
              "      <td>300011</td>\n",
              "    </tr>\n",
              "    <tr>\n",
              "      <th>278153</th>\n",
              "      <td>Camera Obscura</td>\n",
              "      <td>Logged In</td>\n",
              "      <td>Emilia</td>\n",
              "      <td>F</td>\n",
              "      <td>45</td>\n",
              "      <td>House</td>\n",
              "      <td>170.89261</td>\n",
              "      <td>paid</td>\n",
              "      <td>New York-Newark-Jersey City, NY-NJ-PA</td>\n",
              "      <td>PUT</td>\n",
              "      <td>NextSong</td>\n",
              "      <td>1538336771000</td>\n",
              "      <td>500</td>\n",
              "      <td>The Sun On His Back</td>\n",
              "      <td>200</td>\n",
              "      <td>1543622411000</td>\n",
              "      <td>Mozilla/5.0 (compatible; MSIE 9.0; Windows NT ...</td>\n",
              "      <td>300011</td>\n",
              "    </tr>\n",
              "  </tbody>\n",
              "</table>\n",
              "<p>278154 rows × 18 columns</p>\n",
              "</div>"
            ],
            "text/plain": [
              "                  artist       auth firstName gender  itemInSession lastName   \n",
              "0         Martha Tilston  Logged In     Colin      M             50  Freeman  \\\n",
              "1       Five Iron Frenzy  Logged In     Micah      M             79     Long   \n",
              "2           Adam Lambert  Logged In     Colin      M             51  Freeman   \n",
              "3                 Enigma  Logged In     Micah      M             80     Long   \n",
              "4              Daft Punk  Logged In     Colin      M             52  Freeman   \n",
              "...                  ...        ...       ...    ...            ...      ...   \n",
              "278149       Iron Maiden  Logged In    Emilia      F             38    House   \n",
              "278150              None  Logged In    Emilia      F             39    House   \n",
              "278151              None  Logged In    Emilia      F             43    House   \n",
              "278152              None  Logged In    Emilia      F             44    House   \n",
              "278153    Camera Obscura  Logged In    Emilia      F             45    House   \n",
              "\n",
              "           length level                               location method   \n",
              "0       277.89016  paid                        Bakersfield, CA    PUT  \\\n",
              "1       236.09424  free         Boston-Cambridge-Newton, MA-NH    PUT   \n",
              "2       282.82730  paid                        Bakersfield, CA    PUT   \n",
              "3       262.71302  free         Boston-Cambridge-Newton, MA-NH    PUT   \n",
              "4       223.60771  paid                        Bakersfield, CA    PUT   \n",
              "...           ...   ...                                    ...    ...   \n",
              "278149  258.66404  paid  New York-Newark-Jersey City, NY-NJ-PA    PUT   \n",
              "278150        NaN  paid  New York-Newark-Jersey City, NY-NJ-PA    PUT   \n",
              "278151        NaN  paid  New York-Newark-Jersey City, NY-NJ-PA    GET   \n",
              "278152        NaN  paid  New York-Newark-Jersey City, NY-NJ-PA    GET   \n",
              "278153  170.89261  paid  New York-Newark-Jersey City, NY-NJ-PA    PUT   \n",
              "\n",
              "            page   registration  sessionId   \n",
              "0       NextSong  1538173362000         29  \\\n",
              "1       NextSong  1538331630000          8   \n",
              "2       NextSong  1538173362000         29   \n",
              "3       NextSong  1538331630000          8   \n",
              "4       NextSong  1538173362000         29   \n",
              "...          ...            ...        ...   \n",
              "278149  NextSong  1538336771000        500   \n",
              "278150    Logout  1538336771000        500   \n",
              "278151      Home  1538336771000        500   \n",
              "278152     About  1538336771000        500   \n",
              "278153  NextSong  1538336771000        500   \n",
              "\n",
              "                                                     song  status   \n",
              "0                                               Rockpools     200  \\\n",
              "1                                                  Canada     200   \n",
              "2                                       Time For Miracles     200   \n",
              "3                             Knocking On Forbidden Doors     200   \n",
              "4                           Harder Better Faster Stronger     200   \n",
              "...                                                   ...     ...   \n",
              "278149  Murders In The Rue Morgue (1998 Digital Remaster)     200   \n",
              "278150                                               None     307   \n",
              "278151                                               None     200   \n",
              "278152                                               None     200   \n",
              "278153                                The Sun On His Back     200   \n",
              "\n",
              "                   ts                                          userAgent   \n",
              "0       1538352117000  Mozilla/5.0 (Windows NT 6.1; WOW64; rv:31.0) G...  \\\n",
              "1       1538352180000  \"Mozilla/5.0 (Windows NT 6.1; WOW64) AppleWebK...   \n",
              "2       1538352394000  Mozilla/5.0 (Windows NT 6.1; WOW64; rv:31.0) G...   \n",
              "3       1538352416000  \"Mozilla/5.0 (Windows NT 6.1; WOW64) AppleWebK...   \n",
              "4       1538352676000  Mozilla/5.0 (Windows NT 6.1; WOW64; rv:31.0) G...   \n",
              "...               ...                                                ...   \n",
              "278149  1543622121000  Mozilla/5.0 (compatible; MSIE 9.0; Windows NT ...   \n",
              "278150  1543622122000  Mozilla/5.0 (compatible; MSIE 9.0; Windows NT ...   \n",
              "278151  1543622248000  Mozilla/5.0 (compatible; MSIE 9.0; Windows NT ...   \n",
              "278152  1543622398000  Mozilla/5.0 (compatible; MSIE 9.0; Windows NT ...   \n",
              "278153  1543622411000  Mozilla/5.0 (compatible; MSIE 9.0; Windows NT ...   \n",
              "\n",
              "        userId  \n",
              "0           30  \n",
              "1            9  \n",
              "2           30  \n",
              "3            9  \n",
              "4           30  \n",
              "...        ...  \n",
              "278149  300011  \n",
              "278150  300011  \n",
              "278151  300011  \n",
              "278152  300011  \n",
              "278153  300011  \n",
              "\n",
              "[278154 rows x 18 columns]"
            ]
          },
          "execution_count": 14,
          "metadata": {},
          "output_type": "execute_result"
        }
      ],
      "source": [
        "df_pandas = df.toPandas()\n",
        "df_pandas"
      ]
    },
    {
      "cell_type": "markdown",
      "metadata": {
        "id": "eIM2p1oM25Mx"
      },
      "source": [
        "# Exploratory Data Analysis\n",
        "When you're working with the full dataset, perform EDA by loading a small subset of the data and doing basic manipulations within Spark. In this workspace, you are already provided a small subset of data you can explore.\n",
        "\n",
        "### Define Churn\n",
        "\n",
        "Once you've done some preliminary analysis, create a column `Churn` to use as the label for your model. I suggest using the `Cancellation Confirmation` events to define your churn, which happen for both paid and free users. As a bonus task, you can also look into the `Downgrade` events.\n",
        "\n",
        "### Explore Data\n",
        "Once you've defined churn, perform some exploratory data analysis to observe the behavior for users who stayed vs users who churned. You can start by exploring aggregates on these two groups of users, observing how much of a specific action they experienced per a certain time unit or number of songs played."
      ]
    },
    {
      "cell_type": "markdown",
      "metadata": {
        "id": "1NQvGLB225My"
      },
      "source": [
        "Identify users who have churned by filtering for the Cancellation Confirmation event under the page column."
      ]
    },
    {
      "cell_type": "code",
      "execution_count": 15,
      "metadata": {
        "colab": {
          "base_uri": "https://localhost:8080/"
        },
        "id": "Ta5WXfJM25My",
        "outputId": "f52776b7-6f3d-411a-ec23-5213e092b2d1"
      },
      "outputs": [
        {
          "name": "stderr",
          "output_type": "stream",
          "text": [
            "[Stage 17:==============>                                           (2 + 6) / 8]\r"
          ]
        },
        {
          "name": "stdout",
          "output_type": "stream",
          "text": [
            "+--------------------+\n",
            "|                page|\n",
            "+--------------------+\n",
            "|              Cancel|\n",
            "|    Submit Downgrade|\n",
            "|         Thumbs Down|\n",
            "|                Home|\n",
            "|           Downgrade|\n",
            "|         Roll Advert|\n",
            "|              Logout|\n",
            "|       Save Settings|\n",
            "|Cancellation Conf...|\n",
            "|               About|\n",
            "|            Settings|\n",
            "|     Add to Playlist|\n",
            "|          Add Friend|\n",
            "|            NextSong|\n",
            "|           Thumbs Up|\n",
            "|                Help|\n",
            "|             Upgrade|\n",
            "|               Error|\n",
            "|      Submit Upgrade|\n",
            "+--------------------+\n",
            "\n"
          ]
        },
        {
          "name": "stderr",
          "output_type": "stream",
          "text": [
            "                                                                                \r"
          ]
        }
      ],
      "source": [
        "# check \"Cancellation Confirmation\" page.\n",
        "df.select(\"page\").dropDuplicates().show()"
      ]
    },
    {
      "cell_type": "markdown",
      "metadata": {
        "id": "VnmLTQ2025Mz"
      },
      "source": [
        "From the above section, it can be observed that the cancellation confirmation page is where users are directed to after they confirm their intention to cancel their service. Once again, this is how we determine churn."
      ]
    },
    {
      "cell_type": "code",
      "execution_count": 16,
      "metadata": {
        "colab": {
          "base_uri": "https://localhost:8080/"
        },
        "id": "PUf9IrTZ25M0",
        "outputId": "4e72d43c-a7f3-4a24-a6b5-16cf525f938a"
      },
      "outputs": [
        {
          "data": {
            "text/plain": [
              "52"
            ]
          },
          "execution_count": 16,
          "metadata": {},
          "output_type": "execute_result"
        }
      ],
      "source": [
        "# number of users who churned\n",
        "df.select([\"userId\", \"page\"]).where(df.page == \"Cancellation Confirmation\").count()"
      ]
    },
    {
      "cell_type": "markdown",
      "metadata": {
        "id": "NKpve1Hj25M0"
      },
      "source": [
        "Based on the previous section, it is apparent that our dataset contains 52 users who have churned. We can further examine the userids associated with these churned users."
      ]
    },
    {
      "cell_type": "code",
      "execution_count": 17,
      "metadata": {
        "colab": {
          "base_uri": "https://localhost:8080/"
        },
        "id": "gxL8tOh-25M1",
        "outputId": "591efd74-fbfa-40ca-bad7-2dad5dfe0439"
      },
      "outputs": [
        {
          "name": "stdout",
          "output_type": "stream",
          "text": [
            "+------+--------------------+\n",
            "|userId|                page|\n",
            "+------+--------------------+\n",
            "|    18|Cancellation Conf...|\n",
            "|    32|Cancellation Conf...|\n",
            "|   125|Cancellation Conf...|\n",
            "|   105|Cancellation Conf...|\n",
            "|    17|Cancellation Conf...|\n",
            "|   143|Cancellation Conf...|\n",
            "|   101|Cancellation Conf...|\n",
            "|   129|Cancellation Conf...|\n",
            "|   121|Cancellation Conf...|\n",
            "|    51|Cancellation Conf...|\n",
            "|    87|Cancellation Conf...|\n",
            "|   122|Cancellation Conf...|\n",
            "|    12|Cancellation Conf...|\n",
            "|    58|Cancellation Conf...|\n",
            "|    73|Cancellation Conf...|\n",
            "|     3|Cancellation Conf...|\n",
            "|   106|Cancellation Conf...|\n",
            "|   103|Cancellation Conf...|\n",
            "|    28|Cancellation Conf...|\n",
            "|    54|Cancellation Conf...|\n",
            "+------+--------------------+\n",
            "only showing top 20 rows\n",
            "\n"
          ]
        }
      ],
      "source": [
        "df.select([\"userId\", \"page\"]).where(df.page == \"Cancellation Confirmation\").show()"
      ]
    },
    {
      "cell_type": "markdown",
      "metadata": {
        "id": "7OJSKq0b25M1"
      },
      "source": [
        "Next, we will generate a churn flag for users, where a value of 1 will indicate churned users and 0 will indicate non-churned users. This flag will be appended to the dataset as a new column named \"churn\"."
      ]
    },
    {
      "cell_type": "code",
      "execution_count": 18,
      "metadata": {
        "id": "N47iXBa225M2"
      },
      "outputs": [],
      "source": [
        "def churn_event(x):\n",
        "    if x == \"Cancellation Confirmation\":\n",
        "        return 1\n",
        "    else:\n",
        "        return 0\n",
        "\n",
        "churn_event_udf = udf(churn_event, IntegerType())"
      ]
    },
    {
      "cell_type": "code",
      "execution_count": 19,
      "metadata": {
        "id": "KwEMcqpX25M2"
      },
      "outputs": [],
      "source": [
        "df = df.withColumn(\"churn\", churn_event_udf(\"page\"))"
      ]
    },
    {
      "cell_type": "code",
      "execution_count": 20,
      "metadata": {
        "colab": {
          "base_uri": "https://localhost:8080/"
        },
        "id": "EZe6Bpvy25M2",
        "outputId": "a9d25308-59fb-4736-8cf9-c7b55de5df54"
      },
      "outputs": [
        {
          "name": "stderr",
          "output_type": "stream",
          "text": [
            "                                                                                \r"
          ]
        },
        {
          "data": {
            "text/plain": [
              "Row(artist='Martha Tilston', auth='Logged In', firstName='Colin', gender='M', itemInSession=50, lastName='Freeman', length=277.89016, level='paid', location='Bakersfield, CA', method='PUT', page='NextSong', registration=1538173362000, sessionId=29, song='Rockpools', status=200, ts=1538352117000, userAgent='Mozilla/5.0 (Windows NT 6.1; WOW64; rv:31.0) Gecko/20100101 Firefox/31.0', userId='30', churn=0)"
            ]
          },
          "execution_count": 20,
          "metadata": {},
          "output_type": "execute_result"
        }
      ],
      "source": [
        "df.head()"
      ]
    },
    {
      "cell_type": "code",
      "execution_count": 21,
      "metadata": {
        "id": "kkbfaLPW25M2"
      },
      "outputs": [],
      "source": [
        "# Sort records for each user in reverse chronological order so we can cumulatively sum the churn column\n",
        "windowval = Window.partitionBy(\"userId\").orderBy(col(\"ts\").desc()).rangeBetween(Window.unboundedPreceding, 0)"
      ]
    },
    {
      "cell_type": "code",
      "execution_count": 22,
      "metadata": {
        "id": "Qz3xQGO725M3"
      },
      "outputs": [],
      "source": [
        "# Create a column named \"churn\" which contains the cumulative sum of 1s in the \"churn\" column over each user's records\n",
        "df = df.withColumn(\"churn\", Fsum(col(\"churn\")).over(windowval))"
      ]
    },
    {
      "cell_type": "code",
      "execution_count": 23,
      "metadata": {
        "id": "tkpsOVDA25M3"
      },
      "outputs": [],
      "source": [
        "# Group the data by churn to get counts of users in each churn category\n",
        "df_churn = df.select(['userId', 'churn']).dropDuplicates().groupBy('churn').count()"
      ]
    },
    {
      "cell_type": "code",
      "execution_count": 24,
      "metadata": {
        "colab": {
          "base_uri": "https://localhost:8080/"
        },
        "id": "k5OvUL9W25M3",
        "outputId": "0cc33add-ddfc-4a01-e685-7070332b2b5f"
      },
      "outputs": [
        {
          "name": "stderr",
          "output_type": "stream",
          "text": [
            "[Stage 28:>                                                         (0 + 1) / 1]\r"
          ]
        },
        {
          "name": "stdout",
          "output_type": "stream",
          "text": [
            "+-----+-----+\n",
            "|churn|count|\n",
            "+-----+-----+\n",
            "|    0|  173|\n",
            "|    1|   52|\n",
            "+-----+-----+\n",
            "\n"
          ]
        },
        {
          "name": "stderr",
          "output_type": "stream",
          "text": [
            "                                                                                \r"
          ]
        }
      ],
      "source": [
        "df_churn.show()"
      ]
    },
    {
      "cell_type": "markdown",
      "metadata": {
        "id": "q4Kz3K_525M3"
      },
      "source": [
        "### EDA for Users that Stayed vs Users that Churned"
      ]
    },
    {
      "cell_type": "code",
      "execution_count": 25,
      "metadata": {
        "id": "mJ6cnSr925M3"
      },
      "outputs": [
        {
          "name": "stderr",
          "output_type": "stream",
          "text": [
            "                                                                                \r"
          ]
        }
      ],
      "source": [
        "# convert to pandas for visualisation\n",
        "df_churn = df_churn.toPandas()"
      ]
    },
    {
      "cell_type": "code",
      "execution_count": 26,
      "metadata": {
        "colab": {
          "base_uri": "https://localhost:8080/",
          "height": 573
        },
        "id": "v_izbuw325M3",
        "outputId": "48fa1638-fdc9-4b7c-a7e1-cda1bad08f05"
      },
      "outputs": [
        {
          "data": {
            "image/png": "[encoded data removed]",
            "text/plain": [
              "<Figure size 800x600 with 1 Axes>"
            ]
          },
          "metadata": {},
          "output_type": "display_data"
        }
      ],
      "source": [
        "# Plot the number of users that churned\n",
        "plt.figure(figsize=(8, 6))\n",
        "sns.set_style(\"darkgrid\")\n",
        "ax = sns.barplot(data=df_churn, x='churn', y='count', palette=[\"#f44336\", \"#2196f3\"])\n",
        "ax.set_title(\"Number of Users That Churned\", fontsize=14)\n",
        "ax.set_xlabel(\"Churn\", fontsize=12)\n",
        "ax.set_ylabel(\"Count\", fontsize=12)\n",
        "ax.set_xticklabels([\"Not Churned\", \"Churned\"], fontsize=10)\n",
        "for p in ax.patches:\n",
        "    ax.annotate(format(p.get_height()), (p.get_x() + p.get_width() / 2., p.get_height()), ha = 'center', va = 'center', xytext = (0, 10), textcoords = 'offset points')\n",
        "plt.show()"
      ]
    },
    {
      "cell_type": "code",
      "execution_count": 27,
      "metadata": {
        "colab": {
          "base_uri": "https://localhost:8080/"
        },
        "id": "h0oYnqJ-25M4",
        "outputId": "4bb11e72-15c9-45b3-f21e-de24a750cee1"
      },
      "outputs": [
        {
          "name": "stderr",
          "output_type": "stream",
          "text": [
            "[Stage 44:====================================>                     (5 + 3) / 8]\r"
          ]
        },
        {
          "name": "stdout",
          "output_type": "stream",
          "text": [
            "Churn rate: 23.11%\n"
          ]
        },
        {
          "name": "stderr",
          "output_type": "stream",
          "text": [
            "                                                                                \r"
          ]
        }
      ],
      "source": [
        "# calculate churn rate\n",
        "total_users = df.select('userId').dropDuplicates().count()\n",
        "churned_users = df.filter(df.churn == 1).select('userId').dropDuplicates().count()\n",
        "churn_rate = (churned_users / total_users) * 100\n",
        "print(\"Churn rate: {:.2f}%\".format(churn_rate))"
      ]
    },
    {
      "cell_type": "markdown",
      "metadata": {
        "id": "ZwSGXcXZ25M4"
      },
      "source": [
        "Looking at the information above, we can observe that out of the total number of users, 173 remained with the service while 52 users churned. This implies that 23% of the users churned. It is worth noting that this indicates an imbalance between the churned and non-churned users in the dataset."
      ]
    },
    {
      "cell_type": "markdown",
      "metadata": {
        "id": "LFyXq2u225M4"
      },
      "source": [
        "### Length of time: Users that Churned vs. Users that Stayed"
      ]
    },
    {
      "cell_type": "code",
      "execution_count": 28,
      "metadata": {
        "id": "XvrXJ7UX25M4"
      },
      "outputs": [],
      "source": [
        "# get those customers who churned\n",
        "df_len = df.filter(df.churn ==1)"
      ]
    },
    {
      "cell_type": "code",
      "execution_count": 29,
      "metadata": {
        "id": "idKu3Emp25M4"
      },
      "outputs": [
        {
          "name": "stderr",
          "output_type": "stream",
          "text": [
            "                                                                                \r"
          ]
        }
      ],
      "source": [
        "# convert to pandas\n",
        "df_pd = df_len.toPandas()\n",
        "# drop the nulls\n",
        "df_pd.length.dropna(inplace=True)"
      ]
    },
    {
      "cell_type": "code",
      "execution_count": 30,
      "metadata": {
        "colab": {
          "base_uri": "https://localhost:8080/",
          "height": 574
        },
        "id": "ctVp2tcs25M4",
        "outputId": "7ece9e90-7a18-4a9f-a8c8-e82b205a6b86"
      },
      "outputs": [
        {
          "data": {
            "image/png": "[encoded data removed]",
            "text/plain": [
              "<Figure size 800x600 with 1 Axes>"
            ]
          },
          "metadata": {},
          "output_type": "display_data"
        }
      ],
      "source": [
        "# Plot the distribution of length\n",
        "plt.figure(figsize=(8,6))\n",
        "sns.set_style(\"darkgrid\")\n",
        "bin_edges = np.arange(10, df_pd['length'].max() + 25, 25)\n",
        "plt.hist(data=df_pd, x='length', bins=bin_edges, color=\"#2196f3\")\n",
        "plt.xlim(0, 700)\n",
        "plt.title(\"Distribution of Length\", fontsize=14)\n",
        "plt.xlabel(\"Length (sec)\", fontsize=12)\n",
        "plt.ylabel(\"Frequency\", fontsize=12)\n",
        "plt.show()"
      ]
    },
    {
      "cell_type": "code",
      "execution_count": 31,
      "metadata": {
        "id": "mLIDvn-z25M5"
      },
      "outputs": [],
      "source": [
        "# users who stayed\n",
        "df_len_stay = df.filter(df.churn ==0)"
      ]
    },
    {
      "cell_type": "code",
      "execution_count": 32,
      "metadata": {
        "id": "gpqrRVL525M5"
      },
      "outputs": [
        {
          "name": "stderr",
          "output_type": "stream",
          "text": [
            "                                                                                \r"
          ]
        }
      ],
      "source": [
        "# convert to pandas\n",
        "df_pd = df_len_stay.toPandas()\n",
        "# drop nulls\n",
        "df_pd.length.dropna(inplace=True)"
      ]
    },
    {
      "cell_type": "code",
      "execution_count": 33,
      "metadata": {
        "colab": {
          "base_uri": "https://localhost:8080/",
          "height": 550
        },
        "id": "hACT7KWp25M5",
        "outputId": "1317bdb3-7148-4f47-8f23-6217e880764b"
      },
      "outputs": [
        {
          "data": {
            "image/png": "[encoded data removed]",
            "text/plain": [
              "<Figure size 800x600 with 1 Axes>"
            ]
          },
          "metadata": {},
          "output_type": "display_data"
        }
      ],
      "source": [
        "bin_edges = np.arange(10, df_pd['length'].max()+25, 25)\n",
        "plt.figure(figsize=(8,6))\n",
        "plt.hist(data=df_pd, x='length', bins=bin_edges, color=\"#2196f3\")\n",
        "plt.xlim(0,700)\n",
        "plt.xlabel('Length', fontsize=12)\n",
        "plt.ylabel('Frequency', fontsize=12)\n",
        "plt.show()"
      ]
    },
    {
      "cell_type": "markdown",
      "metadata": {
        "id": "B5AEICzS25M5"
      },
      "source": [
        "Based on the above plots, it is evident that the distribution of length is very similar for both the users who churned and those who stayed. Therefore, this feature may not be very useful for predicting customer churn. To explore further, let's analyze a categorical feature: gender."
      ]
    },
    {
      "cell_type": "markdown",
      "metadata": {
        "id": "SLuHyaoa25M5"
      },
      "source": [
        "### Gender - Users who Churned vs Users who Stayed"
      ]
    },
    {
      "cell_type": "code",
      "execution_count": 34,
      "metadata": {
        "id": "-zXbqMVg25M5"
      },
      "outputs": [],
      "source": [
        "# create gender df grouped by churn and gender\n",
        "df_gender = df.select(['userId', 'churn', 'gender']).dropDuplicates().groupBy('gender', 'churn').count()"
      ]
    },
    {
      "cell_type": "code",
      "execution_count": 35,
      "metadata": {
        "colab": {
          "base_uri": "https://localhost:8080/"
        },
        "id": "v0i9dIV_25M6",
        "outputId": "bad38cac-71c2-4d51-8e10-5308777117ab"
      },
      "outputs": [
        {
          "name": "stderr",
          "output_type": "stream",
          "text": [
            "[Stage 56:=======>                                                  (1 + 7) / 8]\r"
          ]
        },
        {
          "name": "stdout",
          "output_type": "stream",
          "text": [
            "+------+-----+-----+\n",
            "|gender|churn|count|\n",
            "+------+-----+-----+\n",
            "|     F|    0|   84|\n",
            "|     F|    1|   20|\n",
            "|     M|    0|   89|\n",
            "|     M|    1|   32|\n",
            "+------+-----+-----+\n",
            "\n"
          ]
        },
        {
          "name": "stderr",
          "output_type": "stream",
          "text": [
            "                                                                                \r"
          ]
        }
      ],
      "source": [
        "df_gender.show()"
      ]
    },
    {
      "cell_type": "code",
      "execution_count": 36,
      "metadata": {
        "id": "dwhC7RDr25M6"
      },
      "outputs": [
        {
          "name": "stderr",
          "output_type": "stream",
          "text": [
            "                                                                                \r"
          ]
        }
      ],
      "source": [
        "# convert to pandas for visualisation\n",
        "df_gender = df_gender.toPandas()"
      ]
    },
    {
      "cell_type": "code",
      "execution_count": 37,
      "metadata": {
        "id": "fRBro7bb25M6"
      },
      "outputs": [],
      "source": [
        "df_gender = df_gender.sort_values('count', ascending = False)"
      ]
    },
    {
      "cell_type": "code",
      "execution_count": 38,
      "metadata": {
        "id": "mZQvrjDH25M6"
      },
      "outputs": [
        {
          "data": {
            "image/png": "[encoded data removed]",
            "text/plain": [
              "<Figure size 800x600 with 1 Axes>"
            ]
          },
          "metadata": {},
          "output_type": "display_data"
        }
      ],
      "source": [
        "plt.figure(figsize=[8, 6])\n",
        "sns.set_style('whitegrid')\n",
        "\n",
        "ax = sns.barplot(data=df_gender, x='churn', y='count', hue='gender', palette='pastel')\n",
        "ax.set_xlabel('Churn')\n",
        "ax.set_ylabel('Count')\n",
        "ax.set_title('Number of Users That Churned by Gender')\n",
        "ax.legend(loc='upper right', ncol=2, title='Gender', framealpha=1)\n",
        "\n",
        "plt.show()\n"
      ]
    },
    {
      "cell_type": "code",
      "execution_count": 39,
      "metadata": {
        "id": "EQdZRlcU25M6"
      },
      "outputs": [
        {
          "name": "stdout",
          "output_type": "stream",
          "text": [
            "The male churn rate is 26.45%\n"
          ]
        }
      ],
      "source": [
        "# male churn rate\n",
        "male_data = df_gender[df_gender['gender'] == 'M']\n",
        "male_churned = male_data[male_data['churn'] == 1]['count'].sum()\n",
        "total_male = male_data['count'].sum()\n",
        "male_churn_rate = (male_churned / total_male) * 100\n",
        "print(f\"The male churn rate is {male_churn_rate:.2f}%\")"
      ]
    },
    {
      "cell_type": "code",
      "execution_count": 40,
      "metadata": {
        "id": "VdLPa0hC25M7"
      },
      "outputs": [
        {
          "name": "stdout",
          "output_type": "stream",
          "text": [
            "The male churn rate is 19.23%\n"
          ]
        }
      ],
      "source": [
        "# Female churn rate\n",
        "male_data = df_gender[df_gender['gender'] == 'F']\n",
        "male_churned = male_data[male_data['churn'] == 1]['count'].sum()\n",
        "total_male = male_data['count'].sum()\n",
        "male_churn_rate = (male_churned / total_male) * 100\n",
        "print(f\"The male churn rate is {male_churn_rate:.2f}%\")"
      ]
    },
    {
      "cell_type": "markdown",
      "metadata": {
        "id": "_nQRoB1U25M7"
      },
      "source": [
        "Based on the seaborn barplot, it appears that the churn rate for male users (26.4%) is higher than that for female users (19.2%). This suggests that male users may be more likely to churn compared to female users in the dataset."
      ]
    },
    {
      "cell_type": "markdown",
      "metadata": {
        "id": "VF3c_yy825M7"
      },
      "source": [
        "### Users who Churned vs Stayed by Level"
      ]
    },
    {
      "cell_type": "code",
      "execution_count": 41,
      "metadata": {
        "id": "VzEI3TDx25M7"
      },
      "outputs": [],
      "source": [
        "# create the level dataframe\n",
        "df_level = df.select(['userId', 'churn', 'level']).dropDuplicates().groupBy('level','churn').count()"
      ]
    },
    {
      "cell_type": "code",
      "execution_count": 42,
      "metadata": {
        "id": "-3PK7_pc25M7"
      },
      "outputs": [
        {
          "name": "stderr",
          "output_type": "stream",
          "text": [
            "[Stage 68:===========================================>              (6 + 2) / 8]\r"
          ]
        },
        {
          "name": "stdout",
          "output_type": "stream",
          "text": [
            "+-----+-----+-----+\n",
            "|level|churn|count|\n",
            "+-----+-----+-----+\n",
            "| free|    0|  149|\n",
            "| paid|    0|  129|\n",
            "| free|    1|   46|\n",
            "| paid|    1|   36|\n",
            "+-----+-----+-----+\n",
            "\n"
          ]
        },
        {
          "name": "stderr",
          "output_type": "stream",
          "text": [
            "                                                                                \r"
          ]
        }
      ],
      "source": [
        "df_level.show()"
      ]
    },
    {
      "cell_type": "code",
      "execution_count": 43,
      "metadata": {
        "id": "NLk4YTOR25M7"
      },
      "outputs": [
        {
          "name": "stderr",
          "output_type": "stream",
          "text": [
            "                                                                                \r"
          ]
        }
      ],
      "source": [
        "# convert to pandas for visualisation\n",
        "df_level = df_level.toPandas()"
      ]
    },
    {
      "cell_type": "code",
      "execution_count": 44,
      "metadata": {
        "id": "46El0j2-25M7"
      },
      "outputs": [
        {
          "name": "stderr",
          "output_type": "stream",
          "text": [
            "/tmp/ipykernel_55681/3343978832.py:17: UserWarning: FixedFormatter should only be used together with FixedLocator\n",
            "  ax.set_yticklabels(ax.get_yticks(), fontweight='bold', fontsize=12)\n"
          ]
        },
        {
          "data": {
            "image/png": "[encoded data removed]",
            "text/plain": [
              "<Figure size 1000x800 with 1 Axes>"
            ]
          },
          "metadata": {},
          "output_type": "display_data"
        }
      ],
      "source": [
        "# Set the style and context for the plot\n",
        "sns.set_style('whitegrid')\n",
        "sns.set_context('talk')\n",
        "\n",
        "# Plot the barplot using seaborn\n",
        "plt.figure(figsize=[10, 8])\n",
        "ax = sns.barplot(data=df_level, x='churn', y='count', hue='level', palette='muted')\n",
        "ax.legend(loc='upper right', ncol=1, framealpha=1, title='Level')\n",
        "\n",
        "# Set the title and labels for the x and y axes\n",
        "plt.title('Number of Users That Churned by Level', fontweight='bold')\n",
        "ax.set_xlabel('Churn', fontweight='bold', fontsize=12)\n",
        "ax.set_ylabel('Count', fontweight='bold', fontsize=12)\n",
        "\n",
        "# Customize the tick labels and the legend title\n",
        "ax.set_xticklabels(['No Churn', 'Churn'], fontweight='bold', fontsize=12)\n",
        "ax.set_yticklabels(ax.get_yticks(), fontweight='bold', fontsize=12)\n",
        "ax.get_legend().set_title('Level')\n",
        "\n",
        "# Show the plot\n",
        "plt.show()"
      ]
    },
    {
      "cell_type": "code",
      "execution_count": 45,
      "metadata": {
        "id": "NzXH4HjX25M8"
      },
      "outputs": [
        {
          "name": "stdout",
          "output_type": "stream",
          "text": [
            "The churn rate for the free level is 23.59%\n"
          ]
        }
      ],
      "source": [
        "free_data = df_level[df_level['level'] == 'free']\n",
        "free_churned = free_data[free_data['churn'] == 1]['count'].sum()\n",
        "total_free = free_data['count'].sum()\n",
        "free_churn_rate = (free_churned / total_free) * 100\n",
        "print(\"The churn rate for the free level is {:.2f}%\".format(free_churn_rate))"
      ]
    },
    {
      "cell_type": "code",
      "execution_count": 46,
      "metadata": {
        "id": "aD1g1Lyx25M9"
      },
      "outputs": [
        {
          "name": "stdout",
          "output_type": "stream",
          "text": [
            "The churn rate for the paid level is 21.82%\n"
          ]
        }
      ],
      "source": [
        "free_data = df_level[df_level['level'] == 'paid']\n",
        "free_churned = free_data[free_data['churn'] == 1]['count'].sum()\n",
        "total_free = free_data['count'].sum()\n",
        "free_churn_rate = (free_churned / total_free) * 100\n",
        "print(\"The churn rate for the paid level is {:.2f}%\".format(free_churn_rate))"
      ]
    },
    {
      "cell_type": "markdown",
      "metadata": {
        "id": "PAmXZZid25M9"
      },
      "source": [
        "Based on the barplot, we can observe that the proportion of users who churned was slightly higher for the free level (23,6%) compared to the paid level (21,8%), indicating that users who used the service for free were more likely to churn."
      ]
    },
    {
      "cell_type": "markdown",
      "metadata": {
        "id": "V26lhpD725M9"
      },
      "source": [
        "### Pages Visited by Those that Churned vs. Those That Stayed"
      ]
    },
    {
      "cell_type": "code",
      "execution_count": 47,
      "metadata": {
        "id": "qG2QRjn425M-"
      },
      "outputs": [],
      "source": [
        "df_page = df.select(['userId', 'churn', 'page']).groupBy('page','churn').count()"
      ]
    },
    {
      "cell_type": "code",
      "execution_count": 48,
      "metadata": {
        "id": "UliuQk7225M-"
      },
      "outputs": [
        {
          "name": "stderr",
          "output_type": "stream",
          "text": [
            "[Stage 80:=====================>                                    (3 + 5) / 8]\r"
          ]
        },
        {
          "name": "stdout",
          "output_type": "stream",
          "text": [
            "+--------------------+-----+-----+\n",
            "|                page|churn|count|\n",
            "+--------------------+-----+-----+\n",
            "|            Settings|    0| 1244|\n",
            "|         Thumbs Down|    1|  496|\n",
            "|           Thumbs Up|    1| 1859|\n",
            "|     Add to Playlist|    1| 1038|\n",
            "|               Error|    1|   32|\n",
            "|               About|    1|   56|\n",
            "|         Thumbs Down|    0| 2050|\n",
            "|         Roll Advert|    1|  967|\n",
            "|                Home|    0| 8410|\n",
            "|Cancellation Conf...|    1|   52|\n",
            "|               Error|    0|  220|\n",
            "|              Cancel|    1|   52|\n",
            "|            Settings|    1|  270|\n",
            "|          Add Friend|    1|  636|\n",
            "|             Upgrade|    0|  387|\n",
            "|           Downgrade|    1|  337|\n",
            "|              Logout|    1|  553|\n",
            "|    Submit Downgrade|    1|    9|\n",
            "|       Save Settings|    0|  252|\n",
            "|           Thumbs Up|    0|10692|\n",
            "+--------------------+-----+-----+\n",
            "only showing top 20 rows\n",
            "\n"
          ]
        },
        {
          "name": "stderr",
          "output_type": "stream",
          "text": [
            "                                                                                \r"
          ]
        }
      ],
      "source": [
        "df_page.show(20)"
      ]
    },
    {
      "cell_type": "code",
      "execution_count": 49,
      "metadata": {
        "id": "zytuTNDg25M-"
      },
      "outputs": [
        {
          "name": "stderr",
          "output_type": "stream",
          "text": [
            "                                                                                \r"
          ]
        }
      ],
      "source": [
        "# convert to pandas\n",
        "df_page = df_page.toPandas()"
      ]
    },
    {
      "cell_type": "code",
      "execution_count": 50,
      "metadata": {
        "id": "07qw19xP25M_"
      },
      "outputs": [],
      "source": [
        "# create counts for those who churned and those who stayed\n",
        "churn_count =  df_page[df_page['churn'] == 1].sum() \n",
        "stay_count =  df_page[df_page['churn'] == 0].sum()"
      ]
    },
    {
      "cell_type": "code",
      "execution_count": 51,
      "metadata": {
        "id": "Tt852Gqm25M_"
      },
      "outputs": [],
      "source": [
        "# calculate the rate of pages visited by those who churned vs. those who stayed\n",
        "df_page['rate'] = np.where(\n",
        "    df_page['churn'] == 0, df_page['count']/stay_count['count'], np.where(\n",
        "    df_page['churn'] == 1, df_page['count']/churn_count['count'],df_page['count']/churn_count['count'])) "
      ]
    },
    {
      "cell_type": "code",
      "execution_count": 52,
      "metadata": {
        "id": "zp7Bs-Q525M_"
      },
      "outputs": [
        {
          "data": {
            "text/html": [
              "<div>\n",
              "<style scoped>\n",
              "    .dataframe tbody tr th:only-of-type {\n",
              "        vertical-align: middle;\n",
              "    }\n",
              "\n",
              "    .dataframe tbody tr th {\n",
              "        vertical-align: top;\n",
              "    }\n",
              "\n",
              "    .dataframe thead th {\n",
              "        text-align: right;\n",
              "    }\n",
              "</style>\n",
              "<table border=\"1\" class=\"dataframe\">\n",
              "  <thead>\n",
              "    <tr style=\"text-align: right;\">\n",
              "      <th></th>\n",
              "      <th>page</th>\n",
              "      <th>churn</th>\n",
              "      <th>count</th>\n",
              "      <th>rate</th>\n",
              "    </tr>\n",
              "  </thead>\n",
              "  <tbody>\n",
              "    <tr>\n",
              "      <th>0</th>\n",
              "      <td>Settings</td>\n",
              "      <td>0</td>\n",
              "      <td>1244</td>\n",
              "      <td>0.005332</td>\n",
              "    </tr>\n",
              "    <tr>\n",
              "      <th>1</th>\n",
              "      <td>Thumbs Down</td>\n",
              "      <td>1</td>\n",
              "      <td>496</td>\n",
              "      <td>0.011056</td>\n",
              "    </tr>\n",
              "    <tr>\n",
              "      <th>2</th>\n",
              "      <td>Thumbs Up</td>\n",
              "      <td>1</td>\n",
              "      <td>1859</td>\n",
              "      <td>0.041436</td>\n",
              "    </tr>\n",
              "    <tr>\n",
              "      <th>3</th>\n",
              "      <td>Add to Playlist</td>\n",
              "      <td>1</td>\n",
              "      <td>1038</td>\n",
              "      <td>0.023137</td>\n",
              "    </tr>\n",
              "    <tr>\n",
              "      <th>4</th>\n",
              "      <td>Error</td>\n",
              "      <td>1</td>\n",
              "      <td>32</td>\n",
              "      <td>0.000713</td>\n",
              "    </tr>\n",
              "    <tr>\n",
              "      <th>5</th>\n",
              "      <td>About</td>\n",
              "      <td>1</td>\n",
              "      <td>56</td>\n",
              "      <td>0.001248</td>\n",
              "    </tr>\n",
              "    <tr>\n",
              "      <th>6</th>\n",
              "      <td>Thumbs Down</td>\n",
              "      <td>0</td>\n",
              "      <td>2050</td>\n",
              "      <td>0.008787</td>\n",
              "    </tr>\n",
              "    <tr>\n",
              "      <th>7</th>\n",
              "      <td>Roll Advert</td>\n",
              "      <td>1</td>\n",
              "      <td>967</td>\n",
              "      <td>0.021554</td>\n",
              "    </tr>\n",
              "    <tr>\n",
              "      <th>8</th>\n",
              "      <td>Home</td>\n",
              "      <td>0</td>\n",
              "      <td>8410</td>\n",
              "      <td>0.036050</td>\n",
              "    </tr>\n",
              "    <tr>\n",
              "      <th>9</th>\n",
              "      <td>Cancellation Confirmation</td>\n",
              "      <td>1</td>\n",
              "      <td>52</td>\n",
              "      <td>0.001159</td>\n",
              "    </tr>\n",
              "    <tr>\n",
              "      <th>10</th>\n",
              "      <td>Error</td>\n",
              "      <td>0</td>\n",
              "      <td>220</td>\n",
              "      <td>0.000943</td>\n",
              "    </tr>\n",
              "    <tr>\n",
              "      <th>11</th>\n",
              "      <td>Cancel</td>\n",
              "      <td>1</td>\n",
              "      <td>52</td>\n",
              "      <td>0.001159</td>\n",
              "    </tr>\n",
              "    <tr>\n",
              "      <th>12</th>\n",
              "      <td>Settings</td>\n",
              "      <td>1</td>\n",
              "      <td>270</td>\n",
              "      <td>0.006018</td>\n",
              "    </tr>\n",
              "    <tr>\n",
              "      <th>13</th>\n",
              "      <td>Add Friend</td>\n",
              "      <td>1</td>\n",
              "      <td>636</td>\n",
              "      <td>0.014176</td>\n",
              "    </tr>\n",
              "    <tr>\n",
              "      <th>14</th>\n",
              "      <td>Upgrade</td>\n",
              "      <td>0</td>\n",
              "      <td>387</td>\n",
              "      <td>0.001659</td>\n",
              "    </tr>\n",
              "    <tr>\n",
              "      <th>15</th>\n",
              "      <td>Downgrade</td>\n",
              "      <td>1</td>\n",
              "      <td>337</td>\n",
              "      <td>0.007512</td>\n",
              "    </tr>\n",
              "    <tr>\n",
              "      <th>16</th>\n",
              "      <td>Logout</td>\n",
              "      <td>1</td>\n",
              "      <td>553</td>\n",
              "      <td>0.012326</td>\n",
              "    </tr>\n",
              "    <tr>\n",
              "      <th>17</th>\n",
              "      <td>Submit Downgrade</td>\n",
              "      <td>1</td>\n",
              "      <td>9</td>\n",
              "      <td>0.000201</td>\n",
              "    </tr>\n",
              "    <tr>\n",
              "      <th>18</th>\n",
              "      <td>Save Settings</td>\n",
              "      <td>0</td>\n",
              "      <td>252</td>\n",
              "      <td>0.001080</td>\n",
              "    </tr>\n",
              "    <tr>\n",
              "      <th>19</th>\n",
              "      <td>Thumbs Up</td>\n",
              "      <td>0</td>\n",
              "      <td>10692</td>\n",
              "      <td>0.045831</td>\n",
              "    </tr>\n",
              "  </tbody>\n",
              "</table>\n",
              "</div>"
            ],
            "text/plain": [
              "                         page  churn  count      rate\n",
              "0                    Settings      0   1244  0.005332\n",
              "1                 Thumbs Down      1    496  0.011056\n",
              "2                   Thumbs Up      1   1859  0.041436\n",
              "3             Add to Playlist      1   1038  0.023137\n",
              "4                       Error      1     32  0.000713\n",
              "5                       About      1     56  0.001248\n",
              "6                 Thumbs Down      0   2050  0.008787\n",
              "7                 Roll Advert      1    967  0.021554\n",
              "8                        Home      0   8410  0.036050\n",
              "9   Cancellation Confirmation      1     52  0.001159\n",
              "10                      Error      0    220  0.000943\n",
              "11                     Cancel      1     52  0.001159\n",
              "12                   Settings      1    270  0.006018\n",
              "13                 Add Friend      1    636  0.014176\n",
              "14                    Upgrade      0    387  0.001659\n",
              "15                  Downgrade      1    337  0.007512\n",
              "16                     Logout      1    553  0.012326\n",
              "17           Submit Downgrade      1      9  0.000201\n",
              "18              Save Settings      0    252  0.001080\n",
              "19                  Thumbs Up      0  10692  0.045831"
            ]
          },
          "execution_count": 52,
          "metadata": {},
          "output_type": "execute_result"
        }
      ],
      "source": [
        "df_page.head(20)"
      ]
    },
    {
      "cell_type": "code",
      "execution_count": 53,
      "metadata": {
        "id": "OZp4Bl8u25NA",
        "scrolled": true
      },
      "outputs": [
        {
          "data": {
            "text/plain": [
              "Text(0.5, 1.0, 'Rate of Pages Navigated to by Users that Churned vs. Users that Stayed')"
            ]
          },
          "execution_count": 53,
          "metadata": {},
          "output_type": "execute_result"
        },
        {
          "data": {
            "image/png": "[encoded data removed]",
            "text/plain": [
              "<Figure size 2000x1600 with 1 Axes>"
            ]
          },
          "metadata": {},
          "output_type": "display_data"
        }
      ],
      "source": [
        "plt.figure(figsize=[20,16])\n",
        "sns.barplot(data=df_page, x='rate', y='page', hue='churn', palette=['#78C850', '#F08030'])\n",
        "plt.title('Rate of Pages Navigated to by Users that Churned vs. Users that Stayed')"
      ]
    },
    {
      "cell_type": "markdown",
      "metadata": {
        "id": "qedArG0425NA"
      },
      "source": [
        "Based on the chart above, it can be observed that the most common action for both users who stayed and those who churned was skipping to the next song. However, churned users were more likely to roll the ad and give thumbs down to songs. In contrast, users who were more likely to stay performed more thumbs up actions, added friends, and added songs to their playlist."
      ]
    },
    {
      "cell_type": "markdown",
      "metadata": {
        "id": "iG8yAT-e25NA"
      },
      "source": [
        "### Calculating Songs per Hour"
      ]
    },
    {
      "cell_type": "code",
      "execution_count": 54,
      "metadata": {
        "id": "ADVgo4yQ25NB"
      },
      "outputs": [],
      "source": [
        "# get hour from the timestamp\n",
        "get_hour = udf(lambda x: datetime.datetime.fromtimestamp(x / 1000.0). hour)"
      ]
    },
    {
      "cell_type": "code",
      "execution_count": 55,
      "metadata": {
        "id": "DL49dQYl25NB"
      },
      "outputs": [],
      "source": [
        "# create hour column\n",
        "df = df.withColumn(\"hour\", get_hour(df.ts))"
      ]
    },
    {
      "cell_type": "code",
      "execution_count": 56,
      "metadata": {
        "id": "z7HMwmHB25NB"
      },
      "outputs": [
        {
          "name": "stderr",
          "output_type": "stream",
          "text": [
            "                                                                                \r"
          ]
        },
        {
          "data": {
            "text/plain": [
              "Row(artist=None, auth='Logged In', firstName='Darianna', gender='F', itemInSession=34, lastName='Carpenter', length=None, level='free', location='Bridgeport-Stamford-Norwalk, CT', method='PUT', page='Logout', registration=1538016340000, sessionId=187, song=None, status=307, ts=1542823952000, userAgent='\"Mozilla/5.0 (iPhone; CPU iPhone OS 7_1_2 like Mac OS X) AppleWebKit/537.51.2 (KHTML, like Gecko) Version/7.0 Mobile/11D257 Safari/9537.53\"', userId='100010', churn=0, hour='1')"
            ]
          },
          "execution_count": 56,
          "metadata": {},
          "output_type": "execute_result"
        }
      ],
      "source": [
        "df.head()"
      ]
    },
    {
      "cell_type": "code",
      "execution_count": 57,
      "metadata": {
        "id": "Bv4_QM-s25NC"
      },
      "outputs": [],
      "source": [
        "songs_in_hour_stay = df.filter((df.page == \"NextSong\") & (df.churn == 0)).groupby(df.hour).count().orderBy(df.hour.cast(\"float\"))"
      ]
    },
    {
      "cell_type": "code",
      "execution_count": 58,
      "metadata": {
        "id": "GAEc_21I25NC"
      },
      "outputs": [
        {
          "name": "stderr",
          "output_type": "stream",
          "text": [
            "[Stage 97:=============================>                            (1 + 1) / 2]\r"
          ]
        },
        {
          "name": "stdout",
          "output_type": "stream",
          "text": [
            "+----+-----+\n",
            "|hour|count|\n",
            "+----+-----+\n",
            "|   0| 9464|\n",
            "|   1| 9146|\n",
            "|   2| 9112|\n",
            "|   3| 9107|\n",
            "|   4| 8853|\n",
            "|   5| 8526|\n",
            "|   6| 8085|\n",
            "|   7| 7527|\n",
            "|   8| 7035|\n",
            "|   9| 7014|\n",
            "|  10| 7063|\n",
            "|  11| 6914|\n",
            "|  12| 6960|\n",
            "|  13| 6836|\n",
            "|  14| 6873|\n",
            "|  15| 7023|\n",
            "|  16| 7268|\n",
            "|  17| 7502|\n",
            "|  18| 7440|\n",
            "|  19| 7918|\n",
            "|  20| 8073|\n",
            "|  21| 8792|\n",
            "|  22| 9462|\n",
            "|  23| 9721|\n",
            "+----+-----+\n",
            "\n"
          ]
        },
        {
          "name": "stderr",
          "output_type": "stream",
          "text": [
            "                                                                                \r"
          ]
        }
      ],
      "source": [
        "songs_in_hour_stay.show(24)"
      ]
    },
    {
      "cell_type": "code",
      "execution_count": 59,
      "metadata": {
        "id": "rSklk5qg25NC"
      },
      "outputs": [
        {
          "name": "stderr",
          "output_type": "stream",
          "text": [
            "                                                                                \r"
          ]
        }
      ],
      "source": [
        "songs_in_hour_stay_pd = songs_in_hour_stay.toPandas()\n",
        "songs_in_hour_stay_pd.hour = pd.to_numeric(songs_in_hour_stay_pd.hour)"
      ]
    },
    {
      "cell_type": "code",
      "execution_count": 60,
      "metadata": {
        "id": "YF8MGdiv25NC"
      },
      "outputs": [
        {
          "data": {
            "image/png": "[encoded data removed]",
            "text/plain": [
              "<Figure size 800x600 with 1 Axes>"
            ]
          },
          "metadata": {},
          "output_type": "display_data"
        }
      ],
      "source": [
        "# plot the distribution\n",
        "plt.figure(figsize=[8, 6])\n",
        "plt.scatter(songs_in_hour_stay_pd['hour'], songs_in_hour_stay_pd['count'], c='y')\n",
        "plt.xlim(-1, 24)\n",
        "plt.xlabel('Hour')\n",
        "plt.ylabel('Songs played')\n",
        "plt.title('Number of Songs Played per Hour (Non-Churn Users)')\n",
        "plt.show()"
      ]
    },
    {
      "cell_type": "markdown",
      "metadata": {
        "id": "ffsWHoA225ND"
      },
      "source": [
        "The above chart shows that there is a peak of songs played between 3pm and 8pm for non-churn users. Now, we will examine the behavior of users who churned using the same process."
      ]
    },
    {
      "cell_type": "code",
      "execution_count": 61,
      "metadata": {
        "id": "WwB288fK25ND"
      },
      "outputs": [],
      "source": [
        "songs_in_hour_churned = df.filter((df.page == \"NextSong\") & (df.churn == 1)).groupby(df.hour).count().orderBy(df.hour.cast(\"float\"))"
      ]
    },
    {
      "cell_type": "code",
      "execution_count": 62,
      "metadata": {
        "id": "Lhtm8es925ND"
      },
      "outputs": [
        {
          "name": "stderr",
          "output_type": "stream",
          "text": [
            "[Stage 114:=======>                                                 (1 + 7) / 8]\r"
          ]
        },
        {
          "name": "stdout",
          "output_type": "stream",
          "text": [
            "+----+-----+\n",
            "|hour|count|\n",
            "+----+-----+\n",
            "|   0| 1996|\n",
            "|   1| 1978|\n",
            "|   2| 1818|\n",
            "|   3| 1749|\n",
            "|   4| 1605|\n",
            "|   5| 1596|\n",
            "|   6| 1545|\n",
            "|   7| 1535|\n",
            "|   8| 1353|\n",
            "|   9| 1322|\n",
            "|  10| 1292|\n",
            "|  11| 1233|\n",
            "|  12| 1218|\n",
            "|  13| 1218|\n",
            "|  14| 1218|\n",
            "|  15| 1230|\n",
            "|  16| 1230|\n",
            "|  17| 1380|\n",
            "|  18| 1390|\n",
            "|  19| 1408|\n",
            "+----+-----+\n",
            "only showing top 20 rows\n",
            "\n"
          ]
        },
        {
          "name": "stderr",
          "output_type": "stream",
          "text": [
            "                                                                                \r"
          ]
        }
      ],
      "source": [
        "songs_in_hour_churned.show()"
      ]
    },
    {
      "cell_type": "code",
      "execution_count": 63,
      "metadata": {
        "id": "e9Pg3QZS25ND"
      },
      "outputs": [
        {
          "name": "stderr",
          "output_type": "stream",
          "text": [
            "                                                                                \r"
          ]
        }
      ],
      "source": [
        "songs_in_hour_churned = songs_in_hour_churned.toPandas()\n",
        "songs_in_hour_churned.hour = pd.to_numeric(songs_in_hour_churned.hour)"
      ]
    },
    {
      "cell_type": "code",
      "execution_count": 64,
      "metadata": {
        "id": "Ip2sID2125ND"
      },
      "outputs": [
        {
          "data": {
            "image/png": "[encoded data removed]",
            "text/plain": [
              "<Figure size 800x600 with 1 Axes>"
            ]
          },
          "metadata": {},
          "output_type": "display_data"
        }
      ],
      "source": [
        "plt.figure(figsize = [8,6])\n",
        "plt.scatter(songs_in_hour_churned[\"hour\"], songs_in_hour_churned[\"count\"], c='y')\n",
        "plt.xlim(-1, 24)\n",
        "plt.xlabel(\"Hour\")\n",
        "plt.ylabel(\"Songs played\")\n",
        "plt.title(\"Number of Songs Played per Hour Users who Churned\");"
      ]
    },
    {
      "cell_type": "markdown",
      "metadata": {
        "id": "w7XPOFrx25NE"
      },
      "source": [
        "Looking at the chart, we can observe a similar pattern of song plays per hour among users who churned, with a peak between 3pm and 8pm as well. However, on average, users who churned listened to fewer songs per hour compared to those who stayed."
      ]
    },
    {
      "cell_type": "markdown",
      "metadata": {
        "id": "xGPO_fQh25NE"
      },
      "source": [
        "### Songs Per Session for Users who Churned vs. Those who Stayed"
      ]
    },
    {
      "cell_type": "code",
      "execution_count": 65,
      "metadata": {
        "id": "EOKl5NJJ25NE"
      },
      "outputs": [],
      "source": [
        "df_songs = df.filter(df.page == \"NextSong\").dropDuplicates().groupBy('sessionId','churn').count()"
      ]
    },
    {
      "cell_type": "code",
      "execution_count": 66,
      "metadata": {
        "id": "hw69uyrH25NF"
      },
      "outputs": [
        {
          "name": "stderr",
          "output_type": "stream",
          "text": [
            "[Stage 135:>                                                        (0 + 8) / 8]\r"
          ]
        },
        {
          "name": "stdout",
          "output_type": "stream",
          "text": [
            "+-----+-----------------+\n",
            "|churn|       avg(count)|\n",
            "+-----+-----------------+\n",
            "|    0| 93.3369036027264|\n",
            "|    1|79.81140350877193|\n",
            "+-----+-----------------+\n",
            "\n"
          ]
        },
        {
          "name": "stderr",
          "output_type": "stream",
          "text": [
            "                                                                                \r"
          ]
        }
      ],
      "source": [
        "df_songs.groupby('churn').agg({\"count\":\"avg\"}).show()"
      ]
    },
    {
      "cell_type": "code",
      "execution_count": 67,
      "metadata": {
        "id": "3kn8WDjF25NF"
      },
      "outputs": [],
      "source": [
        "df_songs = df_songs.groupby('churn').agg({\"count\":\"avg\"})"
      ]
    },
    {
      "cell_type": "code",
      "execution_count": 68,
      "metadata": {
        "id": "Dhof8bGJ25NF"
      },
      "outputs": [
        {
          "name": "stderr",
          "output_type": "stream",
          "text": [
            "                                                                                \r"
          ]
        }
      ],
      "source": [
        "df_songs = df_songs.toPandas()"
      ]
    },
    {
      "cell_type": "code",
      "execution_count": 69,
      "metadata": {
        "id": "rTilPTx-25NF"
      },
      "outputs": [
        {
          "data": {
            "image/png": "[encoded data removed]",
            "text/plain": [
              "<Figure size 640x480 with 1 Axes>"
            ]
          },
          "metadata": {},
          "output_type": "display_data"
        }
      ],
      "source": [
        "sns.barplot(x=\"churn\", y=\"avg(count)\", data=df_songs)\n",
        "plt.xlabel(\"Churn\")\n",
        "plt.ylabel(\"Average number of songs per session\")\n",
        "plt.show()"
      ]
    },
    {
      "cell_type": "markdown",
      "metadata": {
        "id": "d__mM8lA25NF"
      },
      "source": [
        "Based on the chart, it can be observed that the average number of songs played per session for users who have churned from Sparkify is lower than those who have not churned. In other words, users who have churned from Sparkify actually listened to fewer songs on average per session."
      ]
    },
    {
      "cell_type": "markdown",
      "metadata": {
        "id": "wxjq0uhs25NL"
      },
      "source": [
        "### Unique Artists Played in a Listening Session"
      ]
    },
    {
      "cell_type": "code",
      "execution_count": 70,
      "metadata": {
        "id": "47PbZTrV25NL"
      },
      "outputs": [],
      "source": [
        "df_artists = df.select(\"artist\", \"userId\", \"churn\").dropDuplicates().groupby(\"userId\", \"churn\").count()"
      ]
    },
    {
      "cell_type": "code",
      "execution_count": 71,
      "metadata": {
        "id": "PRCnPRUP25NL"
      },
      "outputs": [
        {
          "name": "stderr",
          "output_type": "stream",
          "text": [
            "[Stage 163:===================================>                     (5 + 3) / 8]\r"
          ]
        },
        {
          "name": "stdout",
          "output_type": "stream",
          "text": [
            "+-----+-----------------+\n",
            "|churn|       avg(count)|\n",
            "+-----+-----------------+\n",
            "|    0|750.7803468208092|\n",
            "|    1|519.6923076923077|\n",
            "+-----+-----------------+\n",
            "\n"
          ]
        },
        {
          "name": "stderr",
          "output_type": "stream",
          "text": [
            "                                                                                \r"
          ]
        }
      ],
      "source": [
        "df_artists.groupby('churn').agg({\"count\":\"avg\"}).show()"
      ]
    },
    {
      "cell_type": "code",
      "execution_count": 72,
      "metadata": {
        "id": "BAYl5alt25NM"
      },
      "outputs": [
        {
          "name": "stderr",
          "output_type": "stream",
          "text": [
            "                                                                                \r"
          ]
        }
      ],
      "source": [
        "df_artists = df_artists.toPandas()"
      ]
    },
    {
      "cell_type": "code",
      "execution_count": 73,
      "metadata": {
        "id": "NTyzpPCl25NM"
      },
      "outputs": [
        {
          "data": {
            "image/png": "[encoded data removed]",
            "text/plain": [
              "<Figure size 640x480 with 1 Axes>"
            ]
          },
          "metadata": {},
          "output_type": "display_data"
        }
      ],
      "source": [
        "# Draw a barplot\n",
        "sns.barplot(x=\"churn\", y=\"count\", data=df_artists)\n",
        "\n",
        "# Set the labels for the x- and y-axis\n",
        "plt.xlabel(\"Churn\")\n",
        "plt.ylabel(\"Average number of unique artists\")\n",
        "\n",
        "# Show the plot\n",
        "plt.show()"
      ]
    },
    {
      "cell_type": "markdown",
      "metadata": {
        "id": "gHjy1VOA25NM"
      },
      "source": [
        "Based on the chart, it is apparent that users who did not churn listened to a larger number of unique artists on average compared to users who churned."
      ]
    },
    {
      "cell_type": "markdown",
      "metadata": {
        "id": "__6BWX0v25NN"
      },
      "source": [
        "### Location"
      ]
    },
    {
      "cell_type": "code",
      "execution_count": 74,
      "metadata": {
        "id": "ADyGboL425NN"
      },
      "outputs": [
        {
          "name": "stderr",
          "output_type": "stream",
          "text": [
            "[Stage 172:==============>                                          (2 + 6) / 8]\r"
          ]
        },
        {
          "name": "stdout",
          "output_type": "stream",
          "text": [
            "+--------------------+-----+\n",
            "|            location|count|\n",
            "+--------------------+-----+\n",
            "|     Gainesville, FL| 1229|\n",
            "|Atlantic City-Ham...| 2176|\n",
            "|Deltona-Daytona B...|   73|\n",
            "|Kingsport-Bristol...| 1863|\n",
            "|New Haven-Milford...| 4007|\n",
            "|         Dubuque, IA|  651|\n",
            "|Las Vegas-Henders...| 2042|\n",
            "|Indianapolis-Carm...|  970|\n",
            "|Seattle-Tacoma-Be...|  246|\n",
            "|   Winston-Salem, NC|  819|\n",
            "|     Bakersfield, CA| 1775|\n",
            "|Los Angeles-Long ...|30131|\n",
            "|Minneapolis-St. P...| 2134|\n",
            "|San Francisco-Oak...| 2647|\n",
            "|Phoenix-Mesa-Scot...| 4846|\n",
            "|Allentown-Bethleh...|  815|\n",
            "|Miami-Fort Lauder...| 3764|\n",
            "|           Selma, AL| 2027|\n",
            "|          Dayton, OH|  259|\n",
            "|Bridgeport-Stamfo...|  893|\n",
            "+--------------------+-----+\n",
            "only showing top 20 rows\n",
            "\n"
          ]
        },
        {
          "name": "stderr",
          "output_type": "stream",
          "text": [
            "                                                                                \r"
          ]
        }
      ],
      "source": [
        "df.select(\"location\", \"userId\", \"churn\").groupby(\"location\").count().show()"
      ]
    },
    {
      "cell_type": "code",
      "execution_count": 75,
      "metadata": {
        "id": "oJPQLGxq25NN"
      },
      "outputs": [],
      "source": [
        "get_state = udf(lambda x: x[-2:])\n",
        "df_state = df.withColumn(\"state\", get_state(df.location))"
      ]
    },
    {
      "cell_type": "code",
      "execution_count": 76,
      "metadata": {
        "id": "eZZEjhMS25NN"
      },
      "outputs": [
        {
          "name": "stderr",
          "output_type": "stream",
          "text": [
            "                                                                                \r"
          ]
        },
        {
          "data": {
            "text/plain": [
              "[Row(artist=None, auth='Logged In', firstName='Darianna', gender='F', itemInSession=34, lastName='Carpenter', length=None, level='free', location='Bridgeport-Stamford-Norwalk, CT', method='PUT', page='Logout', registration=1538016340000, sessionId=187, song=None, status=307, ts=1542823952000, userAgent='\"Mozilla/5.0 (iPhone; CPU iPhone OS 7_1_2 like Mac OS X) AppleWebKit/537.51.2 (KHTML, like Gecko) Version/7.0 Mobile/11D257 Safari/9537.53\"', userId='100010', churn=0, hour='1', state='CT'),\n",
              " Row(artist='Lily Allen', auth='Logged In', firstName='Darianna', gender='F', itemInSession=33, lastName='Carpenter', length=185.25995, level='free', location='Bridgeport-Stamford-Norwalk, CT', method='PUT', page='NextSong', registration=1538016340000, sessionId=187, song='22', status=200, ts=1542823951000, userAgent='\"Mozilla/5.0 (iPhone; CPU iPhone OS 7_1_2 like Mac OS X) AppleWebKit/537.51.2 (KHTML, like Gecko) Version/7.0 Mobile/11D257 Safari/9537.53\"', userId='100010', churn=0, hour='1', state='CT')]"
            ]
          },
          "execution_count": 76,
          "metadata": {},
          "output_type": "execute_result"
        }
      ],
      "source": [
        "df_state.take(2)"
      ]
    },
    {
      "cell_type": "code",
      "execution_count": 77,
      "metadata": {
        "id": "w7p8zNb325NO"
      },
      "outputs": [],
      "source": [
        "df_state = df_state.select(\"state\", \"userId\", \"churn\").dropDuplicates().groupby(\"state\", \"churn\").count()"
      ]
    },
    {
      "cell_type": "code",
      "execution_count": 78,
      "metadata": {
        "id": "AYvTLUkC25NO"
      },
      "outputs": [
        {
          "name": "stderr",
          "output_type": "stream",
          "text": [
            "                                                                                \r"
          ]
        }
      ],
      "source": [
        "df_state_pd = df_state.toPandas()"
      ]
    },
    {
      "cell_type": "code",
      "execution_count": 79,
      "metadata": {
        "id": "HO-i7XBi25NO"
      },
      "outputs": [
        {
          "data": {
            "image/png": "[encoded data removed]",
            "text/plain": [
              "<Figure size 2000x1600 with 1 Axes>"
            ]
          },
          "metadata": {},
          "output_type": "display_data"
        }
      ],
      "source": [
        "# plot \n",
        "plt.figure(figsize=[20,16])\n",
        "sns.barplot(data = df_state_pd, x = 'count', y = 'state', hue = 'churn')\n",
        "plt.xlabel(\"Number of users\")\n",
        "plt.ylabel(\"State\")\n",
        "\n",
        "# Show the plot\n",
        "plt.show()"
      ]
    },
    {
      "cell_type": "markdown",
      "metadata": {
        "id": "N9srIJwP25NO"
      },
      "source": [
        "The majority of users were located in California. However, a higher proportion of users from the states of Michigan, Kentucky, and Ohio churned compared to those who stayed. Although it may be challenging to derive a useful feature from this column for modeling purposes, we can move on to analyzing another column in our dataset - operating systems and browsers."
      ]
    },
    {
      "cell_type": "markdown",
      "metadata": {
        "id": "FKTz7ckO25NO"
      },
      "source": [
        "### Analysis of UserAgent - Operating Systems and Browsers"
      ]
    },
    {
      "cell_type": "code",
      "execution_count": 80,
      "metadata": {
        "id": "3VcPCwbf25NP"
      },
      "outputs": [],
      "source": [
        "df_opsys = df.select(\"userId\", \"userAgent\", \"churn\").dropDuplicates(['userId'])"
      ]
    },
    {
      "cell_type": "code",
      "execution_count": 81,
      "metadata": {
        "id": "RmSG20wf25NP"
      },
      "outputs": [
        {
          "name": "stderr",
          "output_type": "stream",
          "text": [
            "[Stage 188:=======>                                                 (1 + 7) / 8]\r"
          ]
        },
        {
          "name": "stdout",
          "output_type": "stream",
          "text": [
            "+------+--------------------+-----+\n",
            "|userId|           userAgent|churn|\n",
            "+------+--------------------+-----+\n",
            "|   100|Mozilla/5.0 (Wind...|    0|\n",
            "|100005|\"Mozilla/5.0 (Mac...|    1|\n",
            "|100006|\"Mozilla/5.0 (Win...|    1|\n",
            "|100007|\"Mozilla/5.0 (Win...|    1|\n",
            "|100008|Mozilla/5.0 (Maci...|    0|\n",
            "|100009|\"Mozilla/5.0 (Win...|    1|\n",
            "|100010|\"Mozilla/5.0 (iPh...|    0|\n",
            "|100014|\"Mozilla/5.0 (Win...|    1|\n",
            "|100021|\"Mozilla/5.0 (Mac...|    1|\n",
            "|100022|Mozilla/5.0 (Maci...|    1|\n",
            "|100025|\"Mozilla/5.0 (Mac...|    1|\n",
            "|   101|Mozilla/5.0 (Wind...|    1|\n",
            "|   107|Mozilla/5.0 (Wind...|    0|\n",
            "|    11|Mozilla/5.0 (Wind...|    0|\n",
            "|   110|\"Mozilla/5.0 (Mac...|    0|\n",
            "|   112|Mozilla/5.0 (Wind...|    0|\n",
            "|   113|\"Mozilla/5.0 (Mac...|    0|\n",
            "|   118|\"Mozilla/5.0 (Win...|    0|\n",
            "|   120|\"Mozilla/5.0 (Mac...|    0|\n",
            "|   124|\"Mozilla/5.0 (Mac...|    0|\n",
            "+------+--------------------+-----+\n",
            "only showing top 20 rows\n",
            "\n"
          ]
        },
        {
          "name": "stderr",
          "output_type": "stream",
          "text": [
            "                                                                                \r"
          ]
        }
      ],
      "source": [
        "df_opsys.show()"
      ]
    },
    {
      "cell_type": "code",
      "execution_count": 82,
      "metadata": {
        "id": "0V5B62UG25NP"
      },
      "outputs": [
        {
          "name": "stderr",
          "output_type": "stream",
          "text": [
            "                                                                                \r"
          ]
        }
      ],
      "source": [
        "df_opsys = df_opsys.toPandas()\n",
        "os_list = [\"Windows\", \"Mac\", \"Linux\", \"iPhone\", \"iPad\"]\n",
        "df_opsys['os'] = df_opsys.userAgent.str.extract('(?i)({0})'.format('|'.join(os_list)))"
      ]
    },
    {
      "cell_type": "code",
      "execution_count": 83,
      "metadata": {
        "id": "6Xg2SQyk25NP"
      },
      "outputs": [
        {
          "data": {
            "text/html": [
              "<div>\n",
              "<style scoped>\n",
              "    .dataframe tbody tr th:only-of-type {\n",
              "        vertical-align: middle;\n",
              "    }\n",
              "\n",
              "    .dataframe tbody tr th {\n",
              "        vertical-align: top;\n",
              "    }\n",
              "\n",
              "    .dataframe thead th {\n",
              "        text-align: right;\n",
              "    }\n",
              "</style>\n",
              "<table border=\"1\" class=\"dataframe\">\n",
              "  <thead>\n",
              "    <tr style=\"text-align: right;\">\n",
              "      <th></th>\n",
              "      <th>userId</th>\n",
              "      <th>userAgent</th>\n",
              "      <th>churn</th>\n",
              "      <th>os</th>\n",
              "    </tr>\n",
              "  </thead>\n",
              "  <tbody>\n",
              "    <tr>\n",
              "      <th>0</th>\n",
              "      <td>100</td>\n",
              "      <td>Mozilla/5.0 (Windows NT 6.1; WOW64; rv:30.0) G...</td>\n",
              "      <td>0</td>\n",
              "      <td>Windows</td>\n",
              "    </tr>\n",
              "    <tr>\n",
              "      <th>1</th>\n",
              "      <td>100005</td>\n",
              "      <td>\"Mozilla/5.0 (Macintosh; Intel Mac OS X 10_9_4...</td>\n",
              "      <td>1</td>\n",
              "      <td>Mac</td>\n",
              "    </tr>\n",
              "    <tr>\n",
              "      <th>2</th>\n",
              "      <td>100006</td>\n",
              "      <td>\"Mozilla/5.0 (Windows NT 6.3; WOW64) AppleWebK...</td>\n",
              "      <td>1</td>\n",
              "      <td>Windows</td>\n",
              "    </tr>\n",
              "    <tr>\n",
              "      <th>3</th>\n",
              "      <td>100007</td>\n",
              "      <td>\"Mozilla/5.0 (Windows NT 6.3; WOW64) AppleWebK...</td>\n",
              "      <td>1</td>\n",
              "      <td>Windows</td>\n",
              "    </tr>\n",
              "    <tr>\n",
              "      <th>4</th>\n",
              "      <td>100008</td>\n",
              "      <td>Mozilla/5.0 (Macintosh; Intel Mac OS X 10.7; r...</td>\n",
              "      <td>0</td>\n",
              "      <td>Mac</td>\n",
              "    </tr>\n",
              "    <tr>\n",
              "      <th>...</th>\n",
              "      <td>...</td>\n",
              "      <td>...</td>\n",
              "      <td>...</td>\n",
              "      <td>...</td>\n",
              "    </tr>\n",
              "    <tr>\n",
              "      <th>220</th>\n",
              "      <td>92</td>\n",
              "      <td>\"Mozilla/5.0 (iPad; CPU OS 7_1_2 like Mac OS X...</td>\n",
              "      <td>0</td>\n",
              "      <td>iPad</td>\n",
              "    </tr>\n",
              "    <tr>\n",
              "      <th>221</th>\n",
              "      <td>93</td>\n",
              "      <td>Mozilla/5.0 (compatible; MSIE 10.0; Windows NT...</td>\n",
              "      <td>0</td>\n",
              "      <td>Windows</td>\n",
              "    </tr>\n",
              "    <tr>\n",
              "      <th>222</th>\n",
              "      <td>94</td>\n",
              "      <td>\"Mozilla/5.0 (Windows NT 6.2; WOW64) AppleWebK...</td>\n",
              "      <td>0</td>\n",
              "      <td>Windows</td>\n",
              "    </tr>\n",
              "    <tr>\n",
              "      <th>223</th>\n",
              "      <td>95</td>\n",
              "      <td>Mozilla/5.0 (Macintosh; Intel Mac OS X 10.9; r...</td>\n",
              "      <td>0</td>\n",
              "      <td>Mac</td>\n",
              "    </tr>\n",
              "    <tr>\n",
              "      <th>224</th>\n",
              "      <td>97</td>\n",
              "      <td>\"Mozilla/5.0 (Windows NT 5.1) AppleWebKit/537....</td>\n",
              "      <td>0</td>\n",
              "      <td>Windows</td>\n",
              "    </tr>\n",
              "  </tbody>\n",
              "</table>\n",
              "<p>225 rows × 4 columns</p>\n",
              "</div>"
            ],
            "text/plain": [
              "     userId                                          userAgent  churn       os\n",
              "0       100  Mozilla/5.0 (Windows NT 6.1; WOW64; rv:30.0) G...      0  Windows\n",
              "1    100005  \"Mozilla/5.0 (Macintosh; Intel Mac OS X 10_9_4...      1      Mac\n",
              "2    100006  \"Mozilla/5.0 (Windows NT 6.3; WOW64) AppleWebK...      1  Windows\n",
              "3    100007  \"Mozilla/5.0 (Windows NT 6.3; WOW64) AppleWebK...      1  Windows\n",
              "4    100008  Mozilla/5.0 (Macintosh; Intel Mac OS X 10.7; r...      0      Mac\n",
              "..      ...                                                ...    ...      ...\n",
              "220      92  \"Mozilla/5.0 (iPad; CPU OS 7_1_2 like Mac OS X...      0     iPad\n",
              "221      93  Mozilla/5.0 (compatible; MSIE 10.0; Windows NT...      0  Windows\n",
              "222      94  \"Mozilla/5.0 (Windows NT 6.2; WOW64) AppleWebK...      0  Windows\n",
              "223      95  Mozilla/5.0 (Macintosh; Intel Mac OS X 10.9; r...      0      Mac\n",
              "224      97  \"Mozilla/5.0 (Windows NT 5.1) AppleWebKit/537....      0  Windows\n",
              "\n",
              "[225 rows x 4 columns]"
            ]
          },
          "execution_count": 83,
          "metadata": {},
          "output_type": "execute_result"
        }
      ],
      "source": [
        "df_opsys"
      ]
    },
    {
      "cell_type": "code",
      "execution_count": 84,
      "metadata": {
        "id": "hviQf5t925NP"
      },
      "outputs": [],
      "source": [
        "os_order = df_opsys.os.value_counts().index"
      ]
    },
    {
      "cell_type": "code",
      "execution_count": 85,
      "metadata": {
        "id": "o1-ePN0X25NQ"
      },
      "outputs": [
        {
          "data": {
            "text/plain": [
              "<matplotlib.legend.Legend at 0x7f9560e08250>"
            ]
          },
          "execution_count": 85,
          "metadata": {},
          "output_type": "execute_result"
        },
        {
          "data": {
            "image/png": "[encoded data removed]",
            "text/plain": [
              "<Figure size 1000x800 with 1 Axes>"
            ]
          },
          "metadata": {},
          "output_type": "display_data"
        }
      ],
      "source": [
        "plt.figure(figsize=[10,8])\n",
        "sns.countplot(data = df_opsys, x = 'os', hue ='churn', order = os_order)\n",
        "plt.title('Count of Users that Churned vs. Users that Stayed by Operating System')\n",
        "plt.legend(loc = 1, ncol = 2, framealpha =1, title = 'level')"
      ]
    },
    {
      "attachments": {},
      "cell_type": "markdown",
      "metadata": {},
      "source": [
        "Windows was the most used. Linux users have the highest rate of churn. It is very few customers that this has affected therefore this won't be used in our model."
      ]
    },
    {
      "cell_type": "code",
      "execution_count": 86,
      "metadata": {
        "id": "EG2Iu1iF25NQ"
      },
      "outputs": [
        {
          "data": {
            "text/plain": [
              "browser\n",
              "Chrome     117\n",
              "Firefox     50\n",
              "Safari      46\n",
              "Trident     12\n",
              "Name: count, dtype: int64"
            ]
          },
          "execution_count": 86,
          "metadata": {},
          "output_type": "execute_result"
        }
      ],
      "source": [
        "browser_list = [\"Chrome\", \"Firefox\", \"Safari\", \"Trident\"]\n",
        "df_opsys['browser'] = df_opsys.userAgent.str.extract('(?i)({0})'.format('|'.join(browser_list)))\n",
        "df_opsys.browser.value_counts()"
      ]
    },
    {
      "cell_type": "code",
      "execution_count": 87,
      "metadata": {
        "id": "ZFWqvZG825NQ"
      },
      "outputs": [],
      "source": [
        "df_opsys['browser'].replace({\"Trident\":\"Internet Explorer\"}, inplace = True)\n",
        "browser_order = df_opsys.browser.value_counts().index"
      ]
    },
    {
      "cell_type": "code",
      "execution_count": 88,
      "metadata": {
        "id": "MCQcu_Yu25NQ"
      },
      "outputs": [
        {
          "data": {
            "image/png": "[encoded data removed]",
            "text/plain": [
              "<Figure size 1000x800 with 1 Axes>"
            ]
          },
          "metadata": {},
          "output_type": "display_data"
        }
      ],
      "source": [
        "plt.figure(figsize=[10,8])\n",
        "sns.countplot(data = df_opsys, x = 'browser', hue ='churn', order = browser_order)\n",
        "plt.title('Count of Users that Churned vs. Users that Stayed by Browser')\n",
        "plt.legend(loc = 1, ncol = 2, framealpha =1, title = 'level');"
      ]
    },
    {
      "cell_type": "markdown",
      "metadata": {
        "id": "5XWrUU-j25NR"
      },
      "source": [
        "Based on the plot, we can see that Chrome was the most commonly used browser among the users in our dataset. Users who used Firefox were more likely to churn than users who used other browsers, while Internet Explorer had the fewest number of churned users. However, overall, there doesn't seem to be a clear relationship between the browsers used by users and their likelihood to churn. Therefore, we will not consider this information when building our model."
      ]
    },
    {
      "cell_type": "markdown",
      "metadata": {
        "id": "mGt50esF25NR"
      },
      "source": [
        "### Days Since Registration"
      ]
    },
    {
      "cell_type": "code",
      "execution_count": 89,
      "metadata": {
        "id": "qTGjHK7U25NR"
      },
      "outputs": [],
      "source": [
        "df_days = df.select(['userId', 'registration', 'ts', 'churn']).dropDuplicates().sort('userId')"
      ]
    },
    {
      "cell_type": "code",
      "execution_count": 90,
      "metadata": {
        "id": "A5yTkkzy25NR"
      },
      "outputs": [],
      "source": [
        "w = Window.partitionBy(\"userId\").orderBy(desc(\"ts\"))"
      ]
    },
    {
      "cell_type": "code",
      "execution_count": 91,
      "metadata": {
        "id": "qn-0CmrV25NS"
      },
      "outputs": [],
      "source": [
        "df_days = df_days.withColumn(\"Rank\", dense_rank().over(w))"
      ]
    },
    {
      "cell_type": "code",
      "execution_count": 92,
      "metadata": {
        "id": "eAZKP3fl25NS"
      },
      "outputs": [
        {
          "name": "stderr",
          "output_type": "stream",
          "text": [
            "[Stage 198:>                                                        (0 + 1) / 1]\r"
          ]
        },
        {
          "name": "stdout",
          "output_type": "stream",
          "text": [
            "+------+-------------+-------------+-----+----+\n",
            "|userId| registration|           ts|churn|Rank|\n",
            "+------+-------------+-------------+-----+----+\n",
            "|    10|1538159495000|1542631788000|    0|   1|\n",
            "|    10|1538159495000|1542631753000|    0|   2|\n",
            "|    10|1538159495000|1542631690000|    0|   3|\n",
            "|    10|1538159495000|1542631518000|    0|   4|\n",
            "|    10|1538159495000|1542631517000|    0|   5|\n",
            "|    10|1538159495000|1542631090000|    0|   6|\n",
            "|    10|1538159495000|1542630866000|    0|   7|\n",
            "|    10|1538159495000|1542630637000|    0|   8|\n",
            "|    10|1538159495000|1542630407000|    0|   9|\n",
            "|    10|1538159495000|1542630394000|    0|  10|\n",
            "|    10|1538159495000|1542630248000|    0|  11|\n",
            "|    10|1538159495000|1542630247000|    0|  12|\n",
            "|    10|1538159495000|1542630029000|    0|  13|\n",
            "|    10|1538159495000|1542629861000|    0|  14|\n",
            "|    10|1538159495000|1542629636000|    0|  15|\n",
            "|    10|1538159495000|1542629464000|    0|  16|\n",
            "|    10|1538159495000|1542629238000|    0|  17|\n",
            "|    10|1538159495000|1542629029000|    0|  18|\n",
            "|    10|1538159495000|1542629028000|    0|  19|\n",
            "|    10|1538159495000|1542628798000|    0|  20|\n",
            "+------+-------------+-------------+-----+----+\n",
            "only showing top 20 rows\n",
            "\n"
          ]
        },
        {
          "name": "stderr",
          "output_type": "stream",
          "text": [
            "                                                                                \r"
          ]
        }
      ],
      "source": [
        "df_days.show()"
      ]
    },
    {
      "cell_type": "code",
      "execution_count": 93,
      "metadata": {
        "id": "yaJYZFdG25NS"
      },
      "outputs": [],
      "source": [
        "df_days = df_days.filter(df_days.Rank == 1).drop(df_days.Rank)"
      ]
    },
    {
      "cell_type": "code",
      "execution_count": 94,
      "metadata": {
        "id": "bWCdpMne25NS"
      },
      "outputs": [
        {
          "name": "stderr",
          "output_type": "stream",
          "text": [
            "[Stage 206:>                                                        (0 + 1) / 1]\r"
          ]
        },
        {
          "name": "stdout",
          "output_type": "stream",
          "text": [
            "+------+-------------+-------------+-----+\n",
            "|userId| registration|           ts|churn|\n",
            "+------+-------------+-------------+-----+\n",
            "|    10|1538159495000|1542631788000|    0|\n",
            "|   100|1537982255000|1543587349000|    0|\n",
            "|100001|1534627466000|1538498205000|    1|\n",
            "|100002|1529934689000|1543799476000|    0|\n",
            "|100003|1537309344000|1539274781000|    1|\n",
            "|100004|1528560242000|1543459065000|    0|\n",
            "|100005|1532610926000|1539971825000|    1|\n",
            "|100006|1537964483000|1538753070000|    1|\n",
            "|100007|1533522419000|1543491909000|    1|\n",
            "|100008|1537440271000|1543335219000|    0|\n",
            "|100009|1537376437000|1540611104000|    1|\n",
            "|100010|1538016340000|1542823952000|    0|\n",
            "|100011|1537970819000|1538417085000|    1|\n",
            "|100012|1537381154000|1541100900000|    1|\n",
            "|100013|1537367773000|1541184816000|    1|\n",
            "|100014|1535389443000|1542740649000|    1|\n",
            "|100015|1537208989000|1543073753000|    1|\n",
            "|100016|1536854322000|1543335647000|    0|\n",
            "|100017|1533247234000|1540062847000|    1|\n",
            "|100018|1533812833000|1543378360000|    0|\n",
            "+------+-------------+-------------+-----+\n",
            "only showing top 20 rows\n",
            "\n"
          ]
        },
        {
          "name": "stderr",
          "output_type": "stream",
          "text": [
            "                                                                                \r"
          ]
        }
      ],
      "source": [
        "df_days.show()"
      ]
    },
    {
      "cell_type": "code",
      "execution_count": 95,
      "metadata": {
        "id": "AZ-LJpQ625NT"
      },
      "outputs": [],
      "source": [
        "df_days = df_days.withColumn(\"delta_days\", (df_days['ts']) - (df_days['registration']))"
      ]
    },
    {
      "cell_type": "code",
      "execution_count": 96,
      "metadata": {
        "id": "82Wbk6jX25NT"
      },
      "outputs": [
        {
          "name": "stderr",
          "output_type": "stream",
          "text": [
            "[Stage 214:>                                                        (0 + 1) / 1]\r"
          ]
        },
        {
          "name": "stdout",
          "output_type": "stream",
          "text": [
            "+------+-------------+-------------+-----+-----------+\n",
            "|userId| registration|           ts|churn| delta_days|\n",
            "+------+-------------+-------------+-----+-----------+\n",
            "|    10|1538159495000|1542631788000|    0| 4472293000|\n",
            "|   100|1537982255000|1543587349000|    0| 5605094000|\n",
            "|100001|1534627466000|1538498205000|    1| 3870739000|\n",
            "|100002|1529934689000|1543799476000|    0|13864787000|\n",
            "|100003|1537309344000|1539274781000|    1| 1965437000|\n",
            "|100004|1528560242000|1543459065000|    0|14898823000|\n",
            "|100005|1532610926000|1539971825000|    1| 7360899000|\n",
            "|100006|1537964483000|1538753070000|    1|  788587000|\n",
            "|100007|1533522419000|1543491909000|    1| 9969490000|\n",
            "|100008|1537440271000|1543335219000|    0| 5894948000|\n",
            "|100009|1537376437000|1540611104000|    1| 3234667000|\n",
            "|100010|1538016340000|1542823952000|    0| 4807612000|\n",
            "|100011|1537970819000|1538417085000|    1|  446266000|\n",
            "|100012|1537381154000|1541100900000|    1| 3719746000|\n",
            "|100013|1537367773000|1541184816000|    1| 3817043000|\n",
            "|100014|1535389443000|1542740649000|    1| 7351206000|\n",
            "|100015|1537208989000|1543073753000|    1| 5864764000|\n",
            "|100016|1536854322000|1543335647000|    0| 6481325000|\n",
            "|100017|1533247234000|1540062847000|    1| 6815613000|\n",
            "|100018|1533812833000|1543378360000|    0| 9565527000|\n",
            "+------+-------------+-------------+-----+-----------+\n",
            "only showing top 20 rows\n",
            "\n"
          ]
        },
        {
          "name": "stderr",
          "output_type": "stream",
          "text": [
            "                                                                                \r"
          ]
        }
      ],
      "source": [
        "df_days.show()"
      ]
    },
    {
      "cell_type": "code",
      "execution_count": 97,
      "metadata": {
        "id": "6QOu8ssR25NT"
      },
      "outputs": [
        {
          "name": "stderr",
          "output_type": "stream",
          "text": [
            "                                                                                \r"
          ]
        },
        {
          "name": "stdout",
          "output_type": "stream",
          "text": [
            "+------+-------------+-------------+-----+-----------+------------------+\n",
            "|userId| registration|           ts|churn| delta_days|              days|\n",
            "+------+-------------+-------------+-----+-----------+------------------+\n",
            "|    10|1538159495000|1542631788000|    0| 4472293000| 51.76265046296297|\n",
            "|   100|1537982255000|1543587349000|    0| 5605094000| 64.87377314814815|\n",
            "|100001|1534627466000|1538498205000|    1| 3870739000| 44.80021990740741|\n",
            "|100002|1529934689000|1543799476000|    0|13864787000|160.47207175925925|\n",
            "|100003|1537309344000|1539274781000|    1| 1965437000|22.748113425925926|\n",
            "|100004|1528560242000|1543459065000|    0|14898823000|172.44008101851853|\n",
            "|100005|1532610926000|1539971825000|    1| 7360899000| 85.19559027777778|\n",
            "|100006|1537964483000|1538753070000|    1|  788587000| 9.127164351851851|\n",
            "|100007|1533522419000|1543491909000|    1| 9969490000|115.38761574074074|\n",
            "|100008|1537440271000|1543335219000|    0| 5894948000| 68.22856481481482|\n",
            "|100009|1537376437000|1540611104000|    1| 3234667000| 37.43827546296296|\n",
            "|100010|1538016340000|1542823952000|    0| 4807612000|  55.6436574074074|\n",
            "|100011|1537970819000|1538417085000|    1|  446266000| 5.165115740740741|\n",
            "|100012|1537381154000|1541100900000|    1| 3719746000| 43.05261574074074|\n",
            "|100013|1537367773000|1541184816000|    1| 3817043000| 44.17873842592593|\n",
            "|100014|1535389443000|1542740649000|    1| 7351206000| 85.08340277777778|\n",
            "|100015|1537208989000|1543073753000|    1| 5864764000| 67.87921296296297|\n",
            "|100016|1536854322000|1543335647000|    0| 6481325000| 75.01533564814815|\n",
            "|100017|1533247234000|1540062847000|    1| 6815613000| 78.88440972222223|\n",
            "|100018|1533812833000|1543378360000|    0| 9565527000|110.71211805555555|\n",
            "+------+-------------+-------------+-----+-----------+------------------+\n",
            "only showing top 20 rows\n",
            "\n"
          ]
        }
      ],
      "source": [
        "df_days = df_days.withColumn('days',(df_days['delta_days']/1000/3600/24))\n",
        "df_days.show()"
      ]
    },
    {
      "cell_type": "code",
      "execution_count": 98,
      "metadata": {
        "id": "q_QPuM1Q25NT"
      },
      "outputs": [
        {
          "name": "stderr",
          "output_type": "stream",
          "text": [
            "                                                                                \r"
          ]
        }
      ],
      "source": [
        "df_days_pd = df_days.toPandas()"
      ]
    },
    {
      "cell_type": "code",
      "execution_count": 99,
      "metadata": {
        "id": "dvbF0nlm25NU"
      },
      "outputs": [
        {
          "data": {
            "image/png": "[encoded data removed]",
            "text/plain": [
              "<Figure size 800x600 with 1 Axes>"
            ]
          },
          "metadata": {},
          "output_type": "display_data"
        }
      ],
      "source": [
        "# plot boxplot\n",
        "plt.figure(figsize=[8,6])\n",
        "sns.boxplot(data = df_days_pd, x = 'churn', y ='days')\n",
        "plt.title('Count of Churned vs. Stayed Users by Days Since Registering')\n",
        "plt.ylabel(\"Days Since Registered\");"
      ]
    },
    {
      "cell_type": "markdown",
      "metadata": {
        "id": "CPpBnuJV25NU"
      },
      "source": [
        "From our analysis, we can observe that, on average, users who had been registered with Sparkify for a longer period of time were less likely to churn. On the other hand, users who had registered more recently were more likely to churn. This suggests that the length of time a user has been with Sparkify is a significant predictor of churn and could be a useful feature for our model."
      ]
    },
    {
      "cell_type": "markdown",
      "metadata": {
        "id": "fnq4g6lC25NU"
      },
      "source": [
        "# Feature Engineering\n",
        "Once you've familiarized yourself with the data, build out the features you find promising to train your model on. To work with the full dataset, you can follow the following steps.\n",
        "- Write a script to extract the necessary features from the smaller subset of data\n",
        "- Ensure that your script is scalable, using the best practices discussed in Lesson 3\n",
        "- Try your script on the full data set, debugging your script if necessary\n",
        "\n",
        "If you are working in the classroom workspace, you can just extract features based on the small subset of data contained here. Be sure to transfer over this work to the larger dataset when you work on your Spark cluster."
      ]
    },
    {
      "cell_type": "markdown",
      "metadata": {
        "id": "bz-1q2KB25NU"
      },
      "source": [
        "After completing the EDA, we can now proceed to create the features that appear to be most promising for training our model. These features include:\n",
        "\n",
        "Categorical:\n",
        "\n",
        "- Gender\n",
        "- Subscription level\n",
        "\n",
        "Numerical:\n",
        "\n",
        "- Number of songs played per session\n",
        "- Number of times the user clicked the \"roll ads\" button\n",
        "- Number of times the user clicked the \"thumbs down\" button\n",
        "- Number of times the user clicked the \"thumbs up\" button\n",
        "- Number of friends added\n",
        "- Number of songs added to the playlist\n",
        "- Number of different artists listened to on Sparkify\n",
        "- Number of days since the user registered\n",
        "\n",
        "We will also include a churn label and combine all these features into a single dataframe where each row corresponds to a unique user. After dropping the userId column, this dataframe can be transformed into a vectorized, standardized format for use with machine learning algorithms."
      ]
    },
    {
      "cell_type": "code",
      "execution_count": 100,
      "metadata": {
        "id": "My8y14k525NU"
      },
      "outputs": [],
      "source": [
        "#Gender\n",
        "gender_f1 = df.select(['userId', 'gender']).dropDuplicates()\n",
        "gender_f1 = gender_f1.withColumn('gender', when(col('gender') == 'F', 1).otherwise(0))"
      ]
    },
    {
      "cell_type": "code",
      "execution_count": 101,
      "metadata": {
        "id": "QhvUl31325NU"
      },
      "outputs": [
        {
          "name": "stderr",
          "output_type": "stream",
          "text": [
            "                                                                                \r"
          ]
        },
        {
          "data": {
            "text/plain": [
              "225"
            ]
          },
          "execution_count": 101,
          "metadata": {},
          "output_type": "execute_result"
        }
      ],
      "source": [
        "gender_f1.count()"
      ]
    },
    {
      "cell_type": "code",
      "execution_count": 102,
      "metadata": {
        "id": "jivz5G5s25NV"
      },
      "outputs": [
        {
          "name": "stdout",
          "output_type": "stream",
          "text": [
            "+------+------+\n",
            "|userId|gender|\n",
            "+------+------+\n",
            "|    44|     1|\n",
            "|    46|     1|\n",
            "|    41|     1|\n",
            "|    39|     1|\n",
            "|    40|     1|\n",
            "|    94|     1|\n",
            "|    35|     1|\n",
            "|    75|     1|\n",
            "|   100|     0|\n",
            "|    25|     1|\n",
            "|    92|     1|\n",
            "|    52|     1|\n",
            "|   110|     0|\n",
            "|    33|     0|\n",
            "|    42|     1|\n",
            "|    67|     0|\n",
            "|    77|     1|\n",
            "|   136|     1|\n",
            "|    99|     1|\n",
            "|   114|     0|\n",
            "+------+------+\n",
            "only showing top 20 rows\n",
            "\n"
          ]
        },
        {
          "name": "stderr",
          "output_type": "stream",
          "text": [
            "                                                                                \r"
          ]
        }
      ],
      "source": [
        "gender_f1.show(20)"
      ]
    },
    {
      "cell_type": "code",
      "execution_count": 103,
      "metadata": {
        "id": "T01H1RiR25NV"
      },
      "outputs": [],
      "source": [
        "#Level\n",
        "df2 = df.select(['userId', 'level', 'ts']).dropDuplicates().sort('userId')\n",
        "w = Window.partitionBy(\"userId\").orderBy(desc(\"ts\"))\n",
        "df2 = df2.withColumn(\"Rank\", dense_rank().over(w))\n"
      ]
    },
    {
      "cell_type": "code",
      "execution_count": 104,
      "metadata": {
        "id": "Ip5kWygq25NV"
      },
      "outputs": [
        {
          "name": "stderr",
          "output_type": "stream",
          "text": [
            "                                                                                \r"
          ]
        },
        {
          "name": "stdout",
          "output_type": "stream",
          "text": [
            "+------+-----+-------------+----+\n",
            "|userId|level|           ts|Rank|\n",
            "+------+-----+-------------+----+\n",
            "|    10| paid|1542631788000|   1|\n",
            "|    10| paid|1542631753000|   2|\n",
            "|    10| paid|1542631690000|   3|\n",
            "|    10| paid|1542631518000|   4|\n",
            "|    10| paid|1542631517000|   5|\n",
            "|    10| paid|1542631090000|   6|\n",
            "|    10| paid|1542630866000|   7|\n",
            "|    10| paid|1542630637000|   8|\n",
            "|    10| paid|1542630407000|   9|\n",
            "|    10| paid|1542630394000|  10|\n",
            "|    10| paid|1542630248000|  11|\n",
            "|    10| paid|1542630247000|  12|\n",
            "|    10| paid|1542630029000|  13|\n",
            "|    10| paid|1542629861000|  14|\n",
            "|    10| paid|1542629636000|  15|\n",
            "|    10| paid|1542629464000|  16|\n",
            "|    10| paid|1542629238000|  17|\n",
            "|    10| paid|1542629029000|  18|\n",
            "|    10| paid|1542629028000|  19|\n",
            "|    10| paid|1542628798000|  20|\n",
            "+------+-----+-------------+----+\n",
            "only showing top 20 rows\n",
            "\n"
          ]
        }
      ],
      "source": [
        "df2.show()"
      ]
    },
    {
      "cell_type": "code",
      "execution_count": 105,
      "metadata": {
        "id": "g3GL8lBI25NV"
      },
      "outputs": [
        {
          "name": "stderr",
          "output_type": "stream",
          "text": [
            "                                                                                \r"
          ]
        },
        {
          "data": {
            "text/plain": [
              "225"
            ]
          },
          "execution_count": 105,
          "metadata": {},
          "output_type": "execute_result"
        }
      ],
      "source": [
        "level_f2 = df2.filter(df2.Rank == 1).drop(df2.Rank)\n",
        "level_f2 = level_f2.drop('ts')\n",
        "level_f2 = level_f2.withColumn('level', when(col('level') == 'paid', 1).otherwise(0))\n",
        "level_f2.count()"
      ]
    },
    {
      "cell_type": "code",
      "execution_count": 106,
      "metadata": {
        "id": "CxYaNlud25NV"
      },
      "outputs": [
        {
          "name": "stderr",
          "output_type": "stream",
          "text": [
            "                                                                                \r"
          ]
        },
        {
          "name": "stdout",
          "output_type": "stream",
          "text": [
            "+------+-----+\n",
            "|userId|level|\n",
            "+------+-----+\n",
            "|    10|    1|\n",
            "|   100|    1|\n",
            "|100001|    0|\n",
            "|100002|    1|\n",
            "|100003|    0|\n",
            "|100004|    1|\n",
            "|100005|    0|\n",
            "|100006|    0|\n",
            "|100007|    1|\n",
            "|100008|    0|\n",
            "|100009|    0|\n",
            "|100010|    0|\n",
            "|100011|    0|\n",
            "|100012|    0|\n",
            "|100013|    1|\n",
            "|100014|    1|\n",
            "|100015|    1|\n",
            "|100016|    0|\n",
            "|100017|    0|\n",
            "|100018|    0|\n",
            "+------+-----+\n",
            "only showing top 20 rows\n",
            "\n"
          ]
        }
      ],
      "source": [
        "level_f2.show(20)"
      ]
    },
    {
      "cell_type": "code",
      "execution_count": 107,
      "metadata": {
        "id": "eW3ztZRh25NW"
      },
      "outputs": [
        {
          "name": "stderr",
          "output_type": "stream",
          "text": [
            "[Stage 271:==============>                                          (2 + 6) / 8]\r"
          ]
        },
        {
          "name": "stdout",
          "output_type": "stream",
          "text": [
            "+------+---------+-----+\n",
            "|userId|sessionId|count|\n",
            "+------+---------+-----+\n",
            "|    92|      358|   57|\n",
            "|    42|      433|   16|\n",
            "+------+---------+-----+\n",
            "only showing top 2 rows\n",
            "\n"
          ]
        },
        {
          "name": "stderr",
          "output_type": "stream",
          "text": [
            "                                                                                \r"
          ]
        }
      ],
      "source": [
        "#Number of songs played per session\n",
        "song_f3 = df.filter(df.page == \"NextSong\").groupBy('userId','sessionId').count()\n",
        "df.filter(df.page == \"NextSong\").groupBy('userId','sessionId').count().show(2)"
      ]
    },
    {
      "cell_type": "code",
      "execution_count": 108,
      "metadata": {
        "id": "Tg6cl-CM25NW"
      },
      "outputs": [],
      "source": [
        "song_f3 = song_f3.groupby('userId').agg({\"count\":\"avg\"})\n",
        "song_f3 = song_f3.withColumnRenamed(\"avg(count)\", \"avg_song\")\n"
      ]
    },
    {
      "cell_type": "code",
      "execution_count": 109,
      "metadata": {
        "id": "q6C-HAjb25NW"
      },
      "outputs": [
        {
          "name": "stderr",
          "output_type": "stream",
          "text": [
            "                                                                                \r"
          ]
        },
        {
          "data": {
            "text/plain": [
              "225"
            ]
          },
          "execution_count": 109,
          "metadata": {},
          "output_type": "execute_result"
        }
      ],
      "source": [
        "song_f3.count()"
      ]
    },
    {
      "cell_type": "code",
      "execution_count": 110,
      "metadata": {
        "id": "H-g9d-R825NW"
      },
      "outputs": [
        {
          "name": "stderr",
          "output_type": "stream",
          "text": [
            "[Stage 280:===================================>                     (5 + 3) / 8]\r"
          ]
        },
        {
          "name": "stdout",
          "output_type": "stream",
          "text": [
            "+------+------------------+\n",
            "|userId|          avg_song|\n",
            "+------+------------------+\n",
            "|100010|39.285714285714285|\n",
            "|200002|              64.5|\n",
            "+------+------------------+\n",
            "only showing top 2 rows\n",
            "\n"
          ]
        },
        {
          "name": "stderr",
          "output_type": "stream",
          "text": [
            "                                                                                \r"
          ]
        }
      ],
      "source": [
        "song_f3.show(2)"
      ]
    },
    {
      "cell_type": "code",
      "execution_count": 111,
      "metadata": {
        "id": "fz02Ay3H25NW"
      },
      "outputs": [],
      "source": [
        "# Number of times the user clicked the \"roll ads\" button\n",
        "rollad_f4 = df.select([\"userId\", \"page\"])\n",
        "rollad_event = udf(lambda x: 1 if x == \"Roll Advert\" else 0, IntegerType())\n",
        "rollad_f4 = rollad_f4.withColumn(\"rollad\", rollad_event(\"page\"))\n",
        "rollad_f4 = rollad_f4.groupby('userId').sum(\"rollad\")\n",
        "rollad_f4 = rollad_f4.withColumnRenamed(\"sum(rollad)\", \"roll_ad\")"
      ]
    },
    {
      "cell_type": "code",
      "execution_count": 112,
      "metadata": {
        "id": "6M1ixTek25NX"
      },
      "outputs": [
        {
          "name": "stderr",
          "output_type": "stream",
          "text": [
            "                                                                                \r"
          ]
        },
        {
          "data": {
            "text/plain": [
              "225"
            ]
          },
          "execution_count": 112,
          "metadata": {},
          "output_type": "execute_result"
        }
      ],
      "source": [
        "rollad_f4.count()"
      ]
    },
    {
      "cell_type": "code",
      "execution_count": 113,
      "metadata": {
        "id": "ZBc4Mk7y25NX"
      },
      "outputs": [
        {
          "name": "stderr",
          "output_type": "stream",
          "text": [
            "[Stage 292:=================================================>       (7 + 1) / 8]\r"
          ]
        },
        {
          "name": "stdout",
          "output_type": "stream",
          "text": [
            "+------+-------+\n",
            "|userId|roll_ad|\n",
            "+------+-------+\n",
            "|    51|      0|\n",
            "|   124|      4|\n",
            "+------+-------+\n",
            "only showing top 2 rows\n",
            "\n"
          ]
        },
        {
          "name": "stderr",
          "output_type": "stream",
          "text": [
            "                                                                                \r"
          ]
        }
      ],
      "source": [
        "rollad_f4.show(2)"
      ]
    },
    {
      "cell_type": "code",
      "execution_count": 114,
      "metadata": {
        "id": "TS6iIpB-25NX"
      },
      "outputs": [],
      "source": [
        "# Number of times the user clicked the \"thumbs down\" button\n",
        "thumbdown_f5 = df.select([\"userId\", \"page\"])\n",
        "thumddown_event = udf(lambda x: 1 if x == \"Thumbs Down\" else 0, IntegerType())\n",
        "thumbdown_f5 = thumbdown_f5.withColumn(\"Thumbs Down\", thumddown_event(\"page\"))\n",
        "thumbdown_f5 = thumbdown_f5.groupby('userId').sum(\"Thumbs Down\")\n",
        "thumbdown_f5 = thumbdown_f5.withColumnRenamed(\"sum(Thumbs Down)\", \"thumbs_down\")"
      ]
    },
    {
      "cell_type": "code",
      "execution_count": 115,
      "metadata": {
        "id": "nZT4f2NM25NX"
      },
      "outputs": [
        {
          "name": "stderr",
          "output_type": "stream",
          "text": [
            "                                                                                \r"
          ]
        },
        {
          "data": {
            "text/plain": [
              "225"
            ]
          },
          "execution_count": 115,
          "metadata": {},
          "output_type": "execute_result"
        }
      ],
      "source": [
        "thumbdown_f5.count()"
      ]
    },
    {
      "cell_type": "code",
      "execution_count": 116,
      "metadata": {
        "id": "0a91ADSH25NX"
      },
      "outputs": [
        {
          "name": "stderr",
          "output_type": "stream",
          "text": [
            "[Stage 301:=================================================>       (7 + 1) / 8]\r"
          ]
        },
        {
          "name": "stdout",
          "output_type": "stream",
          "text": [
            "+------+-----------+\n",
            "|userId|thumbs_down|\n",
            "+------+-----------+\n",
            "|    51|         21|\n",
            "|   124|         41|\n",
            "+------+-----------+\n",
            "only showing top 2 rows\n",
            "\n"
          ]
        },
        {
          "name": "stderr",
          "output_type": "stream",
          "text": [
            "                                                                                \r"
          ]
        }
      ],
      "source": [
        "thumbdown_f5.show(2)"
      ]
    },
    {
      "cell_type": "code",
      "execution_count": 117,
      "metadata": {
        "id": "zEWHrp1L25NY"
      },
      "outputs": [],
      "source": [
        "# Number of times the user clicked the \"thumbs up\" button\n",
        "thumbup_f6 = df.select([\"userId\", \"page\"])\n",
        "thumbup_event = udf(lambda x: 1 if x == \"Thumbs Up\" else 0, IntegerType())\n",
        "thumbup_f6 = thumbup_f6.withColumn(\"Thumbs Up\", thumbup_event(\"page\"))\n",
        "thumbup_f6 = thumbup_f6.groupby('userId').sum(\"Thumbs Up\")\n",
        "thumbup_f6 = thumbup_f6.withColumnRenamed(\"sum(Thumbs Up)\", \"thumbs_up\")"
      ]
    },
    {
      "cell_type": "code",
      "execution_count": 118,
      "metadata": {
        "id": "bsKJ6zuh25NY"
      },
      "outputs": [
        {
          "name": "stderr",
          "output_type": "stream",
          "text": [
            "                                                                                \r"
          ]
        },
        {
          "data": {
            "text/plain": [
              "225"
            ]
          },
          "execution_count": 118,
          "metadata": {},
          "output_type": "execute_result"
        }
      ],
      "source": [
        "thumbup_f6.count()"
      ]
    },
    {
      "cell_type": "code",
      "execution_count": 119,
      "metadata": {
        "id": "xFlF80H125NY"
      },
      "outputs": [
        {
          "name": "stderr",
          "output_type": "stream",
          "text": [
            "[Stage 310:==========================================>              (6 + 2) / 8]\r"
          ]
        },
        {
          "name": "stdout",
          "output_type": "stream",
          "text": [
            "+------+---------+\n",
            "|userId|thumbs_up|\n",
            "+------+---------+\n",
            "|    51|      100|\n",
            "|   124|      171|\n",
            "+------+---------+\n",
            "only showing top 2 rows\n",
            "\n"
          ]
        },
        {
          "name": "stderr",
          "output_type": "stream",
          "text": [
            "                                                                                \r"
          ]
        }
      ],
      "source": [
        "thumbup_f6.show(2)"
      ]
    },
    {
      "cell_type": "code",
      "execution_count": 120,
      "metadata": {
        "id": "MyYbTBFI25NY"
      },
      "outputs": [],
      "source": [
        "# Number of friends added\n",
        "friend_f7 = df.select([\"userId\", \"page\"])\n",
        "add_friend = udf(lambda x: 1 if x == \"Add Friend\" else 0, IntegerType())\n",
        "friend_f7 = friend_f7.withColumn(\"add_friend\", add_friend(\"page\"))\n",
        "friend_f7 = friend_f7.groupby('userId').sum(\"add_friend\")\n",
        "friend_f7 = friend_f7.withColumnRenamed(\"sum(add_friend)\", \"add_friend\")"
      ]
    },
    {
      "cell_type": "code",
      "execution_count": 121,
      "metadata": {
        "id": "DG2JvG6Z25NY"
      },
      "outputs": [
        {
          "name": "stderr",
          "output_type": "stream",
          "text": [
            "                                                                                \r"
          ]
        },
        {
          "data": {
            "text/plain": [
              "225"
            ]
          },
          "execution_count": 121,
          "metadata": {},
          "output_type": "execute_result"
        }
      ],
      "source": [
        "friend_f7.count()"
      ]
    },
    {
      "cell_type": "code",
      "execution_count": 122,
      "metadata": {
        "id": "QOlihxhz25NZ"
      },
      "outputs": [
        {
          "name": "stderr",
          "output_type": "stream",
          "text": [
            "[Stage 319:==============>                                          (2 + 6) / 8]\r"
          ]
        },
        {
          "name": "stdout",
          "output_type": "stream",
          "text": [
            "+------+----------+\n",
            "|userId|add_friend|\n",
            "+------+----------+\n",
            "|    51|        28|\n",
            "|   124|        74|\n",
            "+------+----------+\n",
            "only showing top 2 rows\n",
            "\n"
          ]
        },
        {
          "name": "stderr",
          "output_type": "stream",
          "text": [
            "                                                                                \r"
          ]
        }
      ],
      "source": [
        "friend_f7.show(2)"
      ]
    },
    {
      "cell_type": "code",
      "execution_count": 123,
      "metadata": {
        "id": "PpQGeOrS25NZ"
      },
      "outputs": [],
      "source": [
        "# Number of songs added to the playlist\n",
        "playlist_f8 = df.select([\"userId\", \"page\"])\n",
        "add_playlist = udf(lambda x: 1 if x == \"Add to Playlist\" else 0, IntegerType())\n",
        "playlist_f8 = playlist_f8.withColumn(\"Playlist\", add_playlist(\"page\"))\n",
        "playlist_f8 = playlist_f8.groupby('userId').sum(\"Playlist\")\n",
        "playlist_f8 = playlist_f8.withColumnRenamed(\"sum(Playlist)\", \"playlist\")"
      ]
    },
    {
      "cell_type": "code",
      "execution_count": 124,
      "metadata": {
        "id": "IO770ujt25NZ"
      },
      "outputs": [
        {
          "data": {
            "text/plain": [
              "225"
            ]
          },
          "execution_count": 124,
          "metadata": {},
          "output_type": "execute_result"
        }
      ],
      "source": [
        "playlist_f8.count()"
      ]
    },
    {
      "cell_type": "code",
      "execution_count": 125,
      "metadata": {
        "id": "bxiBff5-25NZ"
      },
      "outputs": [
        {
          "name": "stderr",
          "output_type": "stream",
          "text": [
            "[Stage 328:============================>                            (4 + 4) / 8]\r"
          ]
        },
        {
          "name": "stdout",
          "output_type": "stream",
          "text": [
            "+------+--------+\n",
            "|userId|playlist|\n",
            "+------+--------+\n",
            "|    51|      52|\n",
            "|   124|     118|\n",
            "+------+--------+\n",
            "only showing top 2 rows\n",
            "\n"
          ]
        },
        {
          "name": "stderr",
          "output_type": "stream",
          "text": [
            "                                                                                \r"
          ]
        }
      ],
      "source": [
        "playlist_f8.show(2)"
      ]
    },
    {
      "cell_type": "code",
      "execution_count": 126,
      "metadata": {
        "id": "9EFQ-BD425NZ"
      },
      "outputs": [],
      "source": [
        "#Number of different artists listened to on Sparkify\n",
        "artists_f9 = df.select(\"userId\", \"artist\").dropDuplicates().groupby(\"userId\").count()\n",
        "artists_f9 = artists_f9.withColumnRenamed(\"count\", \"num_artists\")"
      ]
    },
    {
      "cell_type": "code",
      "execution_count": 127,
      "metadata": {
        "id": "yOPmjKcQ25NZ"
      },
      "outputs": [
        {
          "name": "stderr",
          "output_type": "stream",
          "text": [
            "                                                                                \r"
          ]
        },
        {
          "data": {
            "text/plain": [
              "225"
            ]
          },
          "execution_count": 127,
          "metadata": {},
          "output_type": "execute_result"
        }
      ],
      "source": [
        "artists_f9.count()"
      ]
    },
    {
      "cell_type": "code",
      "execution_count": 128,
      "metadata": {
        "id": "3FmfI-MD25Na"
      },
      "outputs": [
        {
          "name": "stderr",
          "output_type": "stream",
          "text": [
            "[Stage 337:==============>                                          (2 + 6) / 8]\r"
          ]
        },
        {
          "name": "stdout",
          "output_type": "stream",
          "text": [
            "+------+-----------+\n",
            "|userId|num_artists|\n",
            "+------+-----------+\n",
            "|100010|        253|\n",
            "|200002|        340|\n",
            "+------+-----------+\n",
            "only showing top 2 rows\n",
            "\n"
          ]
        },
        {
          "name": "stderr",
          "output_type": "stream",
          "text": [
            "                                                                                \r"
          ]
        }
      ],
      "source": [
        "artists_f9.show(2)"
      ]
    },
    {
      "cell_type": "code",
      "execution_count": 129,
      "metadata": {
        "id": "SvfOkqIB25Na"
      },
      "outputs": [],
      "source": [
        "# Number of days since the user registered\n",
        "days_f10 = df_days.drop('registration', 'ts', 'churn', 'delta_days')"
      ]
    },
    {
      "cell_type": "code",
      "execution_count": 130,
      "metadata": {
        "id": "V7OzAOip25Na"
      },
      "outputs": [
        {
          "name": "stderr",
          "output_type": "stream",
          "text": [
            "                                                                                \r"
          ]
        },
        {
          "data": {
            "text/plain": [
              "225"
            ]
          },
          "execution_count": 130,
          "metadata": {},
          "output_type": "execute_result"
        }
      ],
      "source": [
        "days_f10.count()"
      ]
    },
    {
      "cell_type": "code",
      "execution_count": 131,
      "metadata": {
        "id": "E8Yrbl9T25Nb"
      },
      "outputs": [
        {
          "name": "stderr",
          "output_type": "stream",
          "text": [
            "[Stage 359:>                                                        (0 + 1) / 1]\r"
          ]
        },
        {
          "name": "stdout",
          "output_type": "stream",
          "text": [
            "+------+------------------+\n",
            "|userId|              days|\n",
            "+------+------------------+\n",
            "|    10| 51.76265046296297|\n",
            "|   100| 64.87377314814815|\n",
            "|100001| 44.80021990740741|\n",
            "|100002|160.47207175925925|\n",
            "|100003|22.748113425925926|\n",
            "|100004|172.44008101851853|\n",
            "|100005| 85.19559027777778|\n",
            "|100006| 9.127164351851851|\n",
            "|100007|115.38761574074074|\n",
            "|100008| 68.22856481481482|\n",
            "|100009| 37.43827546296296|\n",
            "|100010|  55.6436574074074|\n",
            "|100011| 5.165115740740741|\n",
            "|100012| 43.05261574074074|\n",
            "|100013| 44.17873842592593|\n",
            "|100014| 85.08340277777778|\n",
            "|100015| 67.87921296296297|\n",
            "|100016| 75.01533564814815|\n",
            "|100017| 78.88440972222223|\n",
            "|100018|110.71211805555555|\n",
            "+------+------------------+\n",
            "only showing top 20 rows\n",
            "\n"
          ]
        },
        {
          "name": "stderr",
          "output_type": "stream",
          "text": [
            "                                                                                \r"
          ]
        }
      ],
      "source": [
        "days_f10.show()"
      ]
    },
    {
      "cell_type": "code",
      "execution_count": 132,
      "metadata": {
        "id": "A8LnEHu_25Nb"
      },
      "outputs": [],
      "source": [
        "#Label\n",
        "label = df.select(\"userId\", \"churn\").dropDuplicates().groupby(\"userId\", \"churn\").count()\n",
        "label = label.drop('count')"
      ]
    },
    {
      "cell_type": "code",
      "execution_count": 133,
      "metadata": {
        "id": "mUAn4ZMr25Nb"
      },
      "outputs": [
        {
          "name": "stderr",
          "output_type": "stream",
          "text": [
            "                                                                                \r"
          ]
        },
        {
          "data": {
            "text/plain": [
              "225"
            ]
          },
          "execution_count": 133,
          "metadata": {},
          "output_type": "execute_result"
        }
      ],
      "source": [
        "label.count()"
      ]
    },
    {
      "cell_type": "code",
      "execution_count": 134,
      "metadata": {
        "id": "XwQpcne425Nb"
      },
      "outputs": [],
      "source": [
        "label = label.withColumnRenamed(\"churn\", \"label\")"
      ]
    },
    {
      "cell_type": "code",
      "execution_count": 135,
      "metadata": {
        "id": "Uzap_7Ci25Nc"
      },
      "outputs": [
        {
          "name": "stderr",
          "output_type": "stream",
          "text": [
            "[Stage 369:==========================================>              (6 + 2) / 8]\r"
          ]
        },
        {
          "name": "stdout",
          "output_type": "stream",
          "text": [
            "+------+-----+\n",
            "|userId|label|\n",
            "+------+-----+\n",
            "|    10|    0|\n",
            "|   100|    0|\n",
            "|100001|    1|\n",
            "|100002|    0|\n",
            "|100003|    1|\n",
            "|100004|    0|\n",
            "|100005|    1|\n",
            "|100006|    1|\n",
            "|100007|    1|\n",
            "|100008|    0|\n",
            "|100009|    1|\n",
            "|100010|    0|\n",
            "|100011|    1|\n",
            "|100012|    1|\n",
            "|100013|    1|\n",
            "|100014|    1|\n",
            "|100015|    1|\n",
            "|100016|    0|\n",
            "|100017|    1|\n",
            "|100018|    0|\n",
            "+------+-----+\n",
            "only showing top 20 rows\n",
            "\n"
          ]
        },
        {
          "name": "stderr",
          "output_type": "stream",
          "text": [
            "                                                                                \r"
          ]
        }
      ],
      "source": [
        "label.show()"
      ]
    },
    {
      "cell_type": "code",
      "execution_count": 136,
      "metadata": {
        "id": "tPsr9aAT25Nc"
      },
      "outputs": [],
      "source": [
        "feature_df = gender_f1.join(level_f2, [\"userId\"]).join(song_f3, [\"userId\"]).join(rollad_f4, [\"userId\"]).join(thumbdown_f5, [\"userId\"]).join(thumbup_f6, [\"userId\"]).join(friend_f7, [\"userId\"]).join(playlist_f8, [\"userId\"]).join(artists_f9, [\"userId\"]).join(days_f10, [\"userId\"]).join(label, [\"userId\"])"
      ]
    },
    {
      "cell_type": "code",
      "execution_count": 137,
      "metadata": {
        "id": "3sEGXP0G25Nc"
      },
      "outputs": [
        {
          "name": "stderr",
          "output_type": "stream",
          "text": [
            "                                                                                \r"
          ]
        },
        {
          "name": "stdout",
          "output_type": "stream",
          "text": [
            "+------+------+-----+------------------+-------+-----------+---------+----------+--------+-----------+------------------+-----+\n",
            "|userId|gender|level|          avg_song|roll_ad|thumbs_down|thumbs_up|add_friend|playlist|num_artists|              days|label|\n",
            "+------+------+-----+------------------+-------+-----------+---------+----------+--------+-----------+------------------+-----+\n",
            "|    10|     0|    1|112.16666666666667|      1|          4|       37|        12|       9|        566| 51.76265046296297|    0|\n",
            "|   100|     0|    1| 78.88235294117646|     25|         27|      148|        49|      61|       1706| 64.87377314814815|    0|\n",
            "|100001|     1|    0|             33.25|     14|          2|        8|         2|       3|        126| 44.80021990740741|    1|\n",
            "|100002|     1|    1|             48.75|      3|          0|        5|         1|       5|        185|160.47207175925925|    0|\n",
            "|100003|     1|    0|              25.5|      9|          0|        3|         0|       2|         51|22.748113425925926|    1|\n",
            "|100004|     1|    1|              47.1|     86|         11|       35|        19|      23|        734|172.44008101851853|    0|\n",
            "|100005|     0|    0|              38.5|     18|          3|        7|         3|       3|        150| 85.19559027777778|    1|\n",
            "|100006|     1|    0|              26.0|      3|          2|        2|         4|       1|         27| 9.127164351851851|    1|\n",
            "|100007|     1|    1|              47.0|      5|          6|       19|        17|       9|        358|115.38761574074074|    1|\n",
            "|100008|     1|    0|128.66666666666666|     20|          6|       37|        17|      30|        624| 68.22856481481482|    0|\n",
            "|100009|     0|    0|              51.8|     42|          8|       23|         7|      12|        443| 37.43827546296296|    1|\n",
            "|100010|     1|    0|39.285714285714285|     52|          5|       17|         4|       7|        253|  55.6436574074074|    0|\n",
            "|100011|     0|    0|              11.0|      2|          1|        0|         0|       2|         12| 5.165115740740741|    1|\n",
            "|100012|     0|    0| 79.33333333333333|     38|          9|       18|         2|      12|        398| 43.05261574074074|    1|\n",
            "|100013|     1|    1|              87.0|     39|         15|       39|        28|      31|        827| 44.17873842592593|    1|\n",
            "|100014|     0|    1|42.833333333333336|      2|          3|       17|         6|       7|        234| 85.08340277777778|    1|\n",
            "|100015|     1|    1| 66.66666666666667|     69|          8|       35|        14|      22|        628| 67.87921296296297|    1|\n",
            "|100016|     0|    0|             66.25|     16|          5|       25|        13|       6|        432| 75.01533564814815|    0|\n",
            "|100017|     0|    0|              52.0|     14|          1|        2|         0|       1|         52| 78.88440972222223|    1|\n",
            "|100018|     0|    0|              50.1|     80|          9|       46|        23|      31|        781|110.71211805555555|    0|\n",
            "+------+------+-----+------------------+-------+-----------+---------+----------+--------+-----------+------------------+-----+\n",
            "only showing top 20 rows\n",
            "\n"
          ]
        }
      ],
      "source": [
        "feature_df.show()"
      ]
    },
    {
      "cell_type": "code",
      "execution_count": 138,
      "metadata": {
        "id": "nIj_lH2y25Nc"
      },
      "outputs": [
        {
          "name": "stderr",
          "output_type": "stream",
          "text": [
            "                                                                                \r"
          ]
        },
        {
          "name": "stdout",
          "output_type": "stream",
          "text": [
            "+------+-----+------------------+-------+-----------+---------+----------+--------+-----------+------------------+-----+\n",
            "|gender|level|          avg_song|roll_ad|thumbs_down|thumbs_up|add_friend|playlist|num_artists|              days|label|\n",
            "+------+-----+------------------+-------+-----------+---------+----------+--------+-----------+------------------+-----+\n",
            "|     0|    1|112.16666666666667|      1|          4|       37|        12|       9|        566| 51.76265046296297|    0|\n",
            "|     0|    1| 78.88235294117646|     25|         27|      148|        49|      61|       1706| 64.87377314814815|    0|\n",
            "|     1|    0|             33.25|     14|          2|        8|         2|       3|        126| 44.80021990740741|    1|\n",
            "|     1|    1|             48.75|      3|          0|        5|         1|       5|        185|160.47207175925925|    0|\n",
            "|     1|    0|              25.5|      9|          0|        3|         0|       2|         51|22.748113425925926|    1|\n",
            "|     1|    1|              47.1|     86|         11|       35|        19|      23|        734|172.44008101851853|    0|\n",
            "|     0|    0|              38.5|     18|          3|        7|         3|       3|        150| 85.19559027777778|    1|\n",
            "|     1|    0|              26.0|      3|          2|        2|         4|       1|         27| 9.127164351851851|    1|\n",
            "|     1|    1|              47.0|      5|          6|       19|        17|       9|        358|115.38761574074074|    1|\n",
            "|     1|    0|128.66666666666666|     20|          6|       37|        17|      30|        624| 68.22856481481482|    0|\n",
            "|     0|    0|              51.8|     42|          8|       23|         7|      12|        443| 37.43827546296296|    1|\n",
            "|     1|    0|39.285714285714285|     52|          5|       17|         4|       7|        253|  55.6436574074074|    0|\n",
            "|     0|    0|              11.0|      2|          1|        0|         0|       2|         12| 5.165115740740741|    1|\n",
            "|     0|    0| 79.33333333333333|     38|          9|       18|         2|      12|        398| 43.05261574074074|    1|\n",
            "|     1|    1|              87.0|     39|         15|       39|        28|      31|        827| 44.17873842592593|    1|\n",
            "|     0|    1|42.833333333333336|      2|          3|       17|         6|       7|        234| 85.08340277777778|    1|\n",
            "|     1|    1| 66.66666666666667|     69|          8|       35|        14|      22|        628| 67.87921296296297|    1|\n",
            "|     0|    0|             66.25|     16|          5|       25|        13|       6|        432| 75.01533564814815|    0|\n",
            "|     0|    0|              52.0|     14|          1|        2|         0|       1|         52| 78.88440972222223|    1|\n",
            "|     0|    0|              50.1|     80|          9|       46|        23|      31|        781|110.71211805555555|    0|\n",
            "+------+-----+------------------+-------+-----------+---------+----------+--------+-----------+------------------+-----+\n",
            "only showing top 20 rows\n",
            "\n"
          ]
        }
      ],
      "source": [
        "feature_df = feature_df.drop('userId')\n",
        "feature_df.show()"
      ]
    },
    {
      "cell_type": "code",
      "execution_count": 139,
      "metadata": {
        "id": "_I-wbhIt25Nc"
      },
      "outputs": [
        {
          "name": "stdout",
          "output_type": "stream",
          "text": [
            "root\n",
            " |-- gender: integer (nullable = false)\n",
            " |-- level: integer (nullable = false)\n",
            " |-- avg_song: double (nullable = true)\n",
            " |-- roll_ad: long (nullable = true)\n",
            " |-- thumbs_down: long (nullable = true)\n",
            " |-- thumbs_up: long (nullable = true)\n",
            " |-- add_friend: long (nullable = true)\n",
            " |-- playlist: long (nullable = true)\n",
            " |-- num_artists: long (nullable = false)\n",
            " |-- days: double (nullable = true)\n",
            " |-- label: long (nullable = true)\n",
            "\n"
          ]
        }
      ],
      "source": [
        "feature_df.printSchema()"
      ]
    },
    {
      "cell_type": "code",
      "execution_count": 140,
      "metadata": {
        "id": "6sOJTnk925Nd"
      },
      "outputs": [],
      "source": [
        "# Vector Assembler\n",
        "assembler = VectorAssembler(inputCols = [\"gender\", \"level\", \"avg_song\", \"roll_ad\", \"thumbs_down\", \"thumbs_up\", \"add_friend\", \"playlist\", \"num_artists\", \"days\"], outputCol = \"vec_features\")\n",
        "feature_df = assembler.transform(feature_df)"
      ]
    },
    {
      "cell_type": "code",
      "execution_count": 141,
      "metadata": {
        "id": "zoIQfRLl25Nd"
      },
      "outputs": [
        {
          "name": "stderr",
          "output_type": "stream",
          "text": [
            "                                                                                \r"
          ]
        },
        {
          "name": "stdout",
          "output_type": "stream",
          "text": [
            "+------+-----+------------------+-------+-----------+---------+----------+--------+-----------+------------------+-----+--------------------+\n",
            "|gender|level|          avg_song|roll_ad|thumbs_down|thumbs_up|add_friend|playlist|num_artists|              days|label|        vec_features|\n",
            "+------+-----+------------------+-------+-----------+---------+----------+--------+-----------+------------------+-----+--------------------+\n",
            "|     0|    1|112.16666666666667|      1|          4|       37|        12|       9|        566| 51.76265046296297|    0|[0.0,1.0,112.1666...|\n",
            "|     0|    1| 78.88235294117646|     25|         27|      148|        49|      61|       1706| 64.87377314814815|    0|[0.0,1.0,78.88235...|\n",
            "|     1|    0|             33.25|     14|          2|        8|         2|       3|        126| 44.80021990740741|    1|[1.0,0.0,33.25,14...|\n",
            "|     1|    1|             48.75|      3|          0|        5|         1|       5|        185|160.47207175925925|    0|[1.0,1.0,48.75,3....|\n",
            "|     1|    0|              25.5|      9|          0|        3|         0|       2|         51|22.748113425925926|    1|[1.0,0.0,25.5,9.0...|\n",
            "|     1|    1|              47.1|     86|         11|       35|        19|      23|        734|172.44008101851853|    0|[1.0,1.0,47.1,86....|\n",
            "|     0|    0|              38.5|     18|          3|        7|         3|       3|        150| 85.19559027777778|    1|[0.0,0.0,38.5,18....|\n",
            "|     1|    0|              26.0|      3|          2|        2|         4|       1|         27| 9.127164351851851|    1|[1.0,0.0,26.0,3.0...|\n",
            "|     1|    1|              47.0|      5|          6|       19|        17|       9|        358|115.38761574074074|    1|[1.0,1.0,47.0,5.0...|\n",
            "|     1|    0|128.66666666666666|     20|          6|       37|        17|      30|        624| 68.22856481481482|    0|[1.0,0.0,128.6666...|\n",
            "|     0|    0|              51.8|     42|          8|       23|         7|      12|        443| 37.43827546296296|    1|[0.0,0.0,51.8,42....|\n",
            "|     1|    0|39.285714285714285|     52|          5|       17|         4|       7|        253|  55.6436574074074|    0|[1.0,0.0,39.28571...|\n",
            "|     0|    0|              11.0|      2|          1|        0|         0|       2|         12| 5.165115740740741|    1|[0.0,0.0,11.0,2.0...|\n",
            "|     0|    0| 79.33333333333333|     38|          9|       18|         2|      12|        398| 43.05261574074074|    1|[0.0,0.0,79.33333...|\n",
            "|     1|    1|              87.0|     39|         15|       39|        28|      31|        827| 44.17873842592593|    1|[1.0,1.0,87.0,39....|\n",
            "|     0|    1|42.833333333333336|      2|          3|       17|         6|       7|        234| 85.08340277777778|    1|[0.0,1.0,42.83333...|\n",
            "|     1|    1| 66.66666666666667|     69|          8|       35|        14|      22|        628| 67.87921296296297|    1|[1.0,1.0,66.66666...|\n",
            "|     0|    0|             66.25|     16|          5|       25|        13|       6|        432| 75.01533564814815|    0|[0.0,0.0,66.25,16...|\n",
            "|     0|    0|              52.0|     14|          1|        2|         0|       1|         52| 78.88440972222223|    1|[0.0,0.0,52.0,14....|\n",
            "|     0|    0|              50.1|     80|          9|       46|        23|      31|        781|110.71211805555555|    0|[0.0,0.0,50.1,80....|\n",
            "+------+-----+------------------+-------+-----------+---------+----------+--------+-----------+------------------+-----+--------------------+\n",
            "only showing top 20 rows\n",
            "\n"
          ]
        }
      ],
      "source": [
        "feature_df.show()"
      ]
    },
    {
      "cell_type": "code",
      "execution_count": 142,
      "metadata": {
        "id": "jSPLecaY25Nd"
      },
      "outputs": [],
      "source": [
        "scaler = StandardScaler(inputCol=\"vec_features\", outputCol=\"features\", withStd=True)"
      ]
    },
    {
      "cell_type": "code",
      "execution_count": 143,
      "metadata": {
        "id": "kpXH2s3e25Nd"
      },
      "outputs": [
        {
          "name": "stderr",
          "output_type": "stream",
          "text": [
            "                                                                                \r"
          ]
        }
      ],
      "source": [
        "scaler_model = scaler.fit(feature_df)"
      ]
    },
    {
      "cell_type": "code",
      "execution_count": 144,
      "metadata": {
        "id": "T7y6m57r25Nd"
      },
      "outputs": [],
      "source": [
        "feature_df = scaler_model.transform(feature_df)"
      ]
    },
    {
      "cell_type": "code",
      "execution_count": 145,
      "metadata": {
        "id": "SFYEkxbh25Nd"
      },
      "outputs": [
        {
          "name": "stderr",
          "output_type": "stream",
          "text": [
            "                                                                                \r"
          ]
        },
        {
          "data": {
            "text/plain": [
              "[Row(gender=0, level=1, avg_song=112.16666666666667, roll_ad=1, thumbs_down=4, thumbs_up=37, add_friend=12, playlist=9, num_artists=566, days=51.76265046296297, label=0, vec_features=DenseVector([0.0, 1.0, 112.1667, 1.0, 4.0, 37.0, 12.0, 9.0, 566.0, 51.7627]), features=DenseVector([0.0, 2.0844, 2.6321, 0.0464, 0.3059, 0.5651, 0.583, 0.2751, 0.9372, 1.3744])),\n",
              " Row(gender=0, level=1, avg_song=78.88235294117646, roll_ad=25, thumbs_down=27, thumbs_up=148, add_friend=49, playlist=61, num_artists=1706, days=64.87377314814815, label=0, vec_features=DenseVector([0.0, 1.0, 78.8824, 25.0, 27.0, 148.0, 49.0, 61.0, 1706.0, 64.8738]), features=DenseVector([0.0, 2.0844, 1.851, 1.1601, 2.0646, 2.2603, 2.3808, 1.8645, 2.8247, 1.7226]))]"
            ]
          },
          "execution_count": 145,
          "metadata": {},
          "output_type": "execute_result"
        }
      ],
      "source": [
        "feature_df.head(2)"
      ]
    },
    {
      "attachments": {},
      "cell_type": "markdown",
      "metadata": {
        "id": "8XZY8oUU25Ne"
      },
      "source": [
        "# Modeling\n",
        "We will split the data into training, validation, and testing sets using an 70-20-10 split. We will then train the models on the training set and evaluate their performance on the validation set using F1-score as our metric. The model with the best F1-score will be chosen as our final model, and we will evaluate its performance on the test set.\n",
        "\n",
        "Here is the updated list of classification algorithms we will use:\n",
        "\n",
        "Logistic Regression\n",
        "Random Forest Classifier\n",
        "Decision Tree Classifier\n",
        "Naive Bayes\n",
        "Here's the updated explanation for each model:\n",
        "\n",
        "Logistic Regression: A reliable machine learning algorithm for binary classification problems that provides good interpretability. It is easy to implement, interpret, and is efficient to train. It is also less prone to overfitting.\n",
        "\n",
        "Random Forest: A powerful ensemble method that creates multiple decision trees to make predictions and takes a majority vote of decisions reached. This can help avoid overfitting. It is robust and has good performance on imbalanced datasets like we have here.\n",
        "\n",
        "Decision Tree: A simple yet powerful classification algorithm that builds a decision tree by recursively splitting the dataset based on the most informative feature. It can handle both categorical and continuous variables, and is interpretable.\n",
        "\n",
        "Naive Bayes: A simple, fast and efficient classification algorithm that is based on the Bayes theorem. It is easy to implement and works well with text data.\n",
        "\n",
        "We will use the scikit-learn library to implement these models.\n",
        "\n",
        "Here's the modeling pipeline:\n",
        "\n",
        "Split the data into training, validation, and testing sets using an 80-10-10 split.\n",
        "Fit each model on the training set.\n",
        "Evaluate the performance of each model on the validation set using F1-score.\n",
        "Choose the model with the best F1-score and evaluate its performance on the test set.\n",
        "Tune the hyperparameters of the chosen model to improve its performance."
      ]
    },
    {
      "cell_type": "code",
      "execution_count": 164,
      "metadata": {
        "id": "sDPgOEeT25Nd"
      },
      "outputs": [
        {
          "name": "stderr",
          "output_type": "stream",
          "text": [
            "                                                                                \r"
          ]
        },
        {
          "name": "stdout",
          "output_type": "stream",
          "text": [
            "Training Dataset: 153\n"
          ]
        },
        {
          "name": "stderr",
          "output_type": "stream",
          "text": [
            "                                                                                \r"
          ]
        },
        {
          "name": "stdout",
          "output_type": "stream",
          "text": [
            "Test Dataset: 55\n"
          ]
        },
        {
          "name": "stderr",
          "output_type": "stream",
          "text": [
            "                                                                                \r"
          ]
        },
        {
          "name": "stdout",
          "output_type": "stream",
          "text": [
            "Validation Dataset: 17\n"
          ]
        }
      ],
      "source": [
        "# split the feature dataset into training, test, and validation sets\n",
        "train, test, valid = feature_df.randomSplit([0.7, 0.2, 0.1], seed=42)\n",
        "#print the size of each dataset\n",
        "print(\"Training Dataset: {}\".format(train.count()))\n",
        "print(\"Test Dataset: {}\".format(test.count()))\n",
        "print(\"Validation Dataset: {}\".format(valid.count()))"
      ]
    },
    {
      "cell_type": "code",
      "execution_count": 165,
      "metadata": {
        "id": "irYD1GP_25Ne"
      },
      "outputs": [],
      "source": [
        "# create a LogisticRegression object with features and label columns\n",
        "lr = LogisticRegression(featuresCol='features', labelCol='label')\n",
        "# create a RandomForestClassifier object with features and label columns, and set the random seed to 42\n",
        "rf = RandomForestClassifier(featuresCol='features', labelCol='label', seed=42)\n",
        "# create a NaiveBayes object with features and label columns\n",
        "nb = NaiveBayes(featuresCol='features', labelCol='label')\n",
        "# create a DecisionTree object with features and label columns\n",
        "dt = DecisionTreeClassifier(featuresCol='features', labelCol='label')\n"
      ]
    },
    {
      "cell_type": "code",
      "execution_count": 166,
      "metadata": {
        "id": "47m9b4qO25Ne"
      },
      "outputs": [],
      "source": [
        "#list of models\n",
        "model_list = [lr,rf,nb,dt]"
      ]
    },
    {
      "cell_type": "code",
      "execution_count": 167,
      "metadata": {
        "id": "xTaHj7b525Ne"
      },
      "outputs": [],
      "source": [
        "evaluator = MulticlassClassificationEvaluator(labelCol = 'label', predictionCol='prediction',metricName='f1')"
      ]
    },
    {
      "cell_type": "code",
      "execution_count": 168,
      "metadata": {
        "id": "utYzxplC25Nf"
      },
      "outputs": [
        {
          "name": "stdout",
          "output_type": "stream",
          "text": [
            "LogisticRegression training started\n"
          ]
        },
        {
          "name": "stderr",
          "output_type": "stream",
          "text": [
            "                                                                                \r"
          ]
        },
        {
          "name": "stdout",
          "output_type": "stream",
          "text": [
            "LogisticRegression training ended\n",
            "Time taken for LogisticRegression is: 49.07606101036072 seconds\n",
            "LogisticRegression predicting started\n",
            "LogisticRegression predicting ended\n"
          ]
        },
        {
          "name": "stderr",
          "output_type": "stream",
          "text": [
            "                                                                                \r"
          ]
        },
        {
          "name": "stdout",
          "output_type": "stream",
          "text": [
            "F1 for LogisticRegression is: 0.7438330170777988\n"
          ]
        },
        {
          "name": "stderr",
          "output_type": "stream",
          "text": [
            "                                                                                \r"
          ]
        },
        {
          "name": "stdout",
          "output_type": "stream",
          "text": [
            "The accuracy of the LogisticRegression model is: 0.8235294117647058\n",
            "RandomForestClassifier training started\n"
          ]
        },
        {
          "name": "stderr",
          "output_type": "stream",
          "text": [
            "                                                                                \r"
          ]
        },
        {
          "name": "stdout",
          "output_type": "stream",
          "text": [
            "RandomForestClassifier training ended\n",
            "Time taken for RandomForestClassifier is: 95.96270799636841 seconds\n",
            "RandomForestClassifier predicting started\n",
            "RandomForestClassifier predicting ended\n"
          ]
        },
        {
          "name": "stderr",
          "output_type": "stream",
          "text": [
            "                                                                                \r"
          ]
        },
        {
          "name": "stdout",
          "output_type": "stream",
          "text": [
            "F1 for RandomForestClassifier is: 0.7438330170777988\n"
          ]
        },
        {
          "name": "stderr",
          "output_type": "stream",
          "text": [
            "                                                                                \r"
          ]
        },
        {
          "name": "stdout",
          "output_type": "stream",
          "text": [
            "The accuracy of the RandomForestClassifier model is: 0.8235294117647058\n",
            "NaiveBayes training started\n"
          ]
        },
        {
          "name": "stderr",
          "output_type": "stream",
          "text": [
            "                                                                                \r"
          ]
        },
        {
          "name": "stdout",
          "output_type": "stream",
          "text": [
            "NaiveBayes training ended\n",
            "Time taken for NaiveBayes is: 41.73791480064392 seconds\n",
            "NaiveBayes predicting started\n",
            "NaiveBayes predicting ended\n"
          ]
        },
        {
          "name": "stderr",
          "output_type": "stream",
          "text": [
            "                                                                                \r"
          ]
        },
        {
          "name": "stdout",
          "output_type": "stream",
          "text": [
            "F1 for NaiveBayes is: 0.7438330170777988\n"
          ]
        },
        {
          "name": "stderr",
          "output_type": "stream",
          "text": [
            "                                                                                \r"
          ]
        },
        {
          "name": "stdout",
          "output_type": "stream",
          "text": [
            "The accuracy of the NaiveBayes model is: 0.8235294117647058\n",
            "DecisionTreeClassifier training started\n"
          ]
        },
        {
          "name": "stderr",
          "output_type": "stream",
          "text": [
            "                                                                                \r"
          ]
        },
        {
          "name": "stdout",
          "output_type": "stream",
          "text": [
            "DecisionTreeClassifier training ended\n",
            "Time taken for DecisionTreeClassifier is: 61.521358489990234 seconds\n",
            "DecisionTreeClassifier predicting started\n",
            "DecisionTreeClassifier predicting ended\n"
          ]
        },
        {
          "name": "stderr",
          "output_type": "stream",
          "text": [
            "                                                                                \r"
          ]
        },
        {
          "name": "stdout",
          "output_type": "stream",
          "text": [
            "F1 for DecisionTreeClassifier is: 0.7438330170777988\n"
          ]
        },
        {
          "name": "stderr",
          "output_type": "stream",
          "text": [
            "                                                                                \r"
          ]
        },
        {
          "name": "stdout",
          "output_type": "stream",
          "text": [
            "The accuracy of the DecisionTreeClassifier model is: 0.8235294117647058\n"
          ]
        }
      ],
      "source": [
        "for model in model_list:\n",
        "    model_name = model.__class__.__name__\n",
        "    print(f\"{model_name} training started\")\n",
        "    start = time.time()\n",
        "    trained_model = model.fit(train)\n",
        "    end = time.time()\n",
        "    print(f\"{model_name} training ended\")\n",
        "    print(f\"Time taken for {model_name} is: {end-start} seconds\")\n",
        "    \n",
        "    print(f\"{model_name} predicting started\")\n",
        "    predictions = trained_model.transform(valid)\n",
        "    print(f\"{model_name} predicting ended\")\n",
        "    \n",
        "    print(f\"F1 for {model_name} is: {evaluator.evaluate(predictions, {evaluator.metricName: 'f1'})}\")\n",
        "    \n",
        "    accuracy = predictions.filter(predictions.label == predictions.prediction).count() / predictions.count()\n",
        "    print(f\"The accuracy of the {model_name} model is: {accuracy}\")\n"
      ]
    },
    {
      "attachments": {},
      "cell_type": "markdown",
      "metadata": {},
      "source": [
        "Now that we have evaluated the performance of our models, we can choose the best one to tune further. Random Forest and Logistic Regression both performed well, but Logistic Regression was faster in terms of training time. Therefore, we will select Logistic Regression as our winning model to optimize further."
      ]
    },
    {
      "cell_type": "code",
      "execution_count": 169,
      "metadata": {
        "id": "C-MqUvLINrpZ"
      },
      "outputs": [
        {
          "name": "stdout",
          "output_type": "stream",
          "text": [
            "aggregationDepth: suggested depth for treeAggregate (>= 2). (default: 2)\n",
            "elasticNetParam: the ElasticNet mixing parameter, in range [0, 1]. For alpha = 0, the penalty is an L2 penalty. For alpha = 1, it is an L1 penalty. (default: 0.0)\n",
            "family: The name of family which is a description of the label distribution to be used in the model. Supported options: auto, binomial, multinomial (default: auto)\n",
            "featuresCol: features column name. (default: features, current: features)\n",
            "fitIntercept: whether to fit an intercept term. (default: True)\n",
            "labelCol: label column name. (default: label, current: label)\n",
            "lowerBoundsOnCoefficients: The lower bounds on coefficients if fitting under bound constrained optimization. The bound matrix must be compatible with the shape (1, number of features) for binomial regression, or (number of classes, number of features) for multinomial regression. (undefined)\n",
            "lowerBoundsOnIntercepts: The lower bounds on intercepts if fitting under bound constrained optimization. The bounds vector size must beequal with 1 for binomial regression, or the number oflasses for multinomial regression. (undefined)\n",
            "maxBlockSizeInMB: maximum memory in MB for stacking input data into blocks. Data is stacked within partitions. If more than remaining data size in a partition then it is adjusted to the data size. Default 0.0 represents choosing optimal value, depends on specific algorithm. Must be >= 0. (default: 0.0)\n",
            "maxIter: max number of iterations (>= 0). (default: 100)\n",
            "predictionCol: prediction column name. (default: prediction)\n",
            "probabilityCol: Column name for predicted class conditional probabilities. Note: Not all models output well-calibrated probability estimates! These probabilities should be treated as confidences, not precise probabilities. (default: probability)\n",
            "rawPredictionCol: raw prediction (a.k.a. confidence) column name. (default: rawPrediction)\n",
            "regParam: regularization parameter (>= 0). (default: 0.0)\n",
            "standardization: whether to standardize the training features before fitting the model. (default: True)\n",
            "threshold: Threshold in binary classification prediction, in range [0, 1]. If threshold and thresholds are both set, they must match.e.g. if threshold is p, then thresholds must be equal to [1-p, p]. (default: 0.5)\n",
            "thresholds: Thresholds in multi-class classification to adjust the probability of predicting each class. Array must have length equal to the number of classes, with values > 0, excepting that at most one value may be 0. The class with largest value p/t is predicted, where p is the original probability of that class and t is the class's threshold. (undefined)\n",
            "tol: the convergence tolerance for iterative algorithms (>= 0). (default: 1e-06)\n",
            "upperBoundsOnCoefficients: The upper bounds on coefficients if fitting under bound constrained optimization. The bound matrix must be compatible with the shape (1, number of features) for binomial regression, or (number of classes, number of features) for multinomial regression. (undefined)\n",
            "upperBoundsOnIntercepts: The upper bounds on intercepts if fitting under bound constrained optimization. The bound vector size must be equal with 1 for binomial regression, or the number of classes for multinomial regression. (undefined)\n",
            "weightCol: weight column name. If this is not set or empty, we treat all instance weights as 1.0. (undefined)\n"
          ]
        }
      ],
      "source": [
        "print(lr.explainParams())"
      ]
    },
    {
      "cell_type": "code",
      "execution_count": 170,
      "metadata": {
        "id": "ddpgqUm6OdKD"
      },
      "outputs": [],
      "source": [
        "paramGrid = ParamGridBuilder() \\\n",
        "    .addGrid(lr.regParam,[0.0, 0.1, ]) \\\n",
        "    .build()\n",
        "\n",
        "\n",
        "crossval = CrossValidator(estimator=lr,\n",
        "                          estimatorParamMaps=paramGrid,\n",
        "                          evaluator=MulticlassClassificationEvaluator(),\n",
        "                          numFolds=3)"
      ]
    },
    {
      "cell_type": "code",
      "execution_count": 171,
      "metadata": {
        "id": "Z_jZxrSwN2d_"
      },
      "outputs": [
        {
          "name": "stderr",
          "output_type": "stream",
          "text": [
            "[Stage 16703:>                                                      (0 + 1) / 1]00]\r"
          ]
        },
        {
          "name": "stdout",
          "output_type": "stream",
          "text": [
            "CPU times: user 7.97 s, sys: 4.77 s, total: 12.7 s\n",
            "Wall time: 10min 25s\n"
          ]
        },
        {
          "name": "stderr",
          "output_type": "stream",
          "text": [
            "                                                                                \r"
          ]
        }
      ],
      "source": [
        "%%time\n",
        "cvModel = crossval.fit(train)"
      ]
    },
    {
      "cell_type": "code",
      "execution_count": 173,
      "metadata": {
        "id": "sO2r1hkiOyhc"
      },
      "outputs": [
        {
          "data": {
            "text/plain": [
              "[0.7455569998864618, 0.6980144837813939]"
            ]
          },
          "execution_count": 173,
          "metadata": {},
          "output_type": "execute_result"
        }
      ],
      "source": [
        "cvModel.avgMetrics"
      ]
    },
    {
      "cell_type": "code",
      "execution_count": 174,
      "metadata": {
        "id": "h-88tIcaQwNy"
      },
      "outputs": [],
      "source": [
        "results = cvModel.transform(valid)"
      ]
    },
    {
      "cell_type": "code",
      "execution_count": 175,
      "metadata": {
        "id": "Gya8kZ7IQrNe"
      },
      "outputs": [
        {
          "name": "stderr",
          "output_type": "stream",
          "text": [
            "                                                                                \r"
          ]
        }
      ],
      "source": [
        "accuracy = results.filter(results.label == results.prediction).count() / (results.count())"
      ]
    },
    {
      "cell_type": "code",
      "execution_count": 176,
      "metadata": {
        "id": "LhH_kMDYQtgZ"
      },
      "outputs": [],
      "source": [
        "best_model = cvModel.bestModel"
      ]
    },
    {
      "cell_type": "code",
      "execution_count": 177,
      "metadata": {
        "id": "tW89ZPwaQ07j"
      },
      "outputs": [
        {
          "name": "stdout",
          "output_type": "stream",
          "text": [
            "Best Param (regParam):  0.0\n"
          ]
        },
        {
          "name": "stderr",
          "output_type": "stream",
          "text": [
            "                                                                                \r"
          ]
        },
        {
          "name": "stdout",
          "output_type": "stream",
          "text": [
            "F1 for our best model is: 0.7438330170777988\n"
          ]
        },
        {
          "name": "stderr",
          "output_type": "stream",
          "text": [
            "                                                                                \r"
          ]
        },
        {
          "name": "stdout",
          "output_type": "stream",
          "text": [
            "Accuracy for our best model is: 0.8235294117647058\n"
          ]
        }
      ],
      "source": [
        "print (\"Best Param (regParam): \", best_model._java_obj.getRegParam())\n",
        "print('F1 for our best model is:', evaluator.evaluate(predictions, {evaluator.metricName: \"f1\"}))\n",
        "print('Accuracy for our best model is:', evaluator.evaluate(predictions, {evaluator.metricName: \"accuracy\"}))"
      ]
    },
    {
      "attachments": {},
      "cell_type": "markdown",
      "metadata": {},
      "source": [
        "# Conclusions:\n",
        "In this project, we worked with a dataset from Sparkify, a music streaming service, to predict customer churn. After loading and cleaning the data, we engineered relevant features and used different machine learning algorithms to build classification models. We evaluated the models using the F1 score as the main metric and identified Logistic Regression as the best performing model. We then fine-tuned this model and achieved an accuracy and F1 score of 0.74.\n",
        "\n",
        "The business impact of this project is significant, as Sparkify can use the information to target customers who are likely to churn and offer attractive incentives to stay. By doing this, Sparkify can save revenue and provide a better experience for its customers. The project also showed that newer customers are more likely to churn, and Sparkify can use this information to target them with free trials or other attractive deals.\n",
        "\n",
        "Through this project, we learned how to manipulate datasets with Spark, engineer relevant features for predicting churn, and build machine learning models to predict churn. We also saw the importance of feature selection and fine-tuning models to get better results.\n",
        "\n",
        "Future work on this project could include further feature engineering to select the best features and improve the model's accuracy. Additionally, overfitting issues could be analyzed in more depth, and mispredicted users could be further analyzed to identify common patterns or trends.\n",
        "\n",
        "Overall, this project provided valuable insights into predicting customer churn in a music streaming service and demonstrated the importance of using machine learning to improve customer retention."
      ]
    }
  ],
  "metadata": {
    "accelerator": "GPU",
    "colab": {
      "gpuType": "T4",
      "provenance": []
    },
    "gpuClass": "standard",
    "kernelspec": {
      "display_name": "Python 3",
      "language": "python",
      "name": "python3"
    },
    "language_info": {
      "codemirror_mode": {
        "name": "ipython",
        "version": 3
      },
      "file_extension": ".py",
      "mimetype": "text/x-python",
      "name": "python",
      "nbconvert_exporter": "python",
      "pygments_lexer": "ipython3",
      "version": "3.10.6"
    }
  },
  "nbformat": 4,
  "nbformat_minor": 0
}
