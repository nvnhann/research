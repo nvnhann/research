{
 "cells": [
  {
   "cell_type": "markdown",
   "metadata": {},
   "source": [
    "### Explore Bike Share Data\n",
    "\n",
    "For this project, your goal is to ask and answer three questions about the available bikeshare data from Washington, Chicago, and New York.  This notebook can be submitted directly through the workspace when you are confident in your results.\n",
    "\n",
    "You will be graded against the project [Rubric](https://review.udacity.com/#!/rubrics/2508/view) by a mentor after you have submitted.  To get you started, you can use the template below, but feel free to be creative in your solutions!"
   ]
  },
  {
   "cell_type": "code",
   "execution_count": 2,
   "metadata": {},
   "outputs": [],
   "source": [
    "ny = read.csv('new_york_city.csv')\n",
    "wash = read.csv('washington.csv')\n",
    "chi = read.csv('chicago.csv')"
   ]
  },
  {
   "cell_type": "code",
   "execution_count": 3,
   "metadata": {},
   "outputs": [
    {
     "data": {
      "text/html": [
       "<table>\n",
       "<thead><tr><th scope=col>X</th><th scope=col>Start.Time</th><th scope=col>End.Time</th><th scope=col>Trip.Duration</th><th scope=col>Start.Station</th><th scope=col>End.Station</th><th scope=col>User.Type</th><th scope=col>Gender</th><th scope=col>Birth.Year</th></tr></thead>\n",
       "<tbody>\n",
       "\t<tr><td>5688089                                       </td><td>2017-06-11 14:55:05                           </td><td>2017-06-11 15:08:21                           </td><td> 795                                          </td><td>Suffolk St &amp; Stanton St                   </td><td>W Broadway &amp; Spring St                    </td><td>Subscriber                                    </td><td><span style=white-space:pre-wrap>Male  </span></td><td>1998                                          </td></tr>\n",
       "\t<tr><td>4096714                                                           </td><td>2017-05-11 15:30:11                                               </td><td>2017-05-11 15:41:43                                               </td><td> 692                                                              </td><td>Lexington Ave &amp; E 63 St                                       </td><td><span style=white-space:pre-wrap>1 Ave &amp; E 78 St       </span></td><td>Subscriber                                                        </td><td><span style=white-space:pre-wrap>Male  </span>                    </td><td>1981                                                              </td></tr>\n",
       "\t<tr><td>2173887                                                            </td><td>2017-03-29 13:26:26                                                </td><td>2017-03-29 13:48:31                                                </td><td>1325                                                               </td><td><span style=white-space:pre-wrap>1 Pl &amp; Clinton St      </span></td><td><span style=white-space:pre-wrap>Henry St &amp; Degraw St  </span> </td><td>Subscriber                                                         </td><td><span style=white-space:pre-wrap>Male  </span>                     </td><td>1987                                                               </td></tr>\n",
       "\t<tr><td>3945638                                                            </td><td>2017-05-08 19:47:18                                                </td><td>2017-05-08 19:59:01                                                </td><td> 703                                                               </td><td><span style=white-space:pre-wrap>Barrow St &amp; Hudson St  </span></td><td><span style=white-space:pre-wrap>W 20 St &amp; 8 Ave       </span> </td><td>Subscriber                                                         </td><td>Female                                                             </td><td>1986                                                               </td></tr>\n",
       "\t<tr><td>6208972                                                            </td><td>2017-06-21 07:49:16                                                </td><td>2017-06-21 07:54:46                                                </td><td> 329                                                               </td><td><span style=white-space:pre-wrap>1 Ave &amp; E 44 St        </span></td><td><span style=white-space:pre-wrap>E 53 St &amp; 3 Ave       </span> </td><td>Subscriber                                                         </td><td><span style=white-space:pre-wrap>Male  </span>                     </td><td>1992                                                               </td></tr>\n",
       "\t<tr><td>1285652                                                            </td><td>2017-02-22 18:55:24                                                </td><td>2017-02-22 19:12:03                                                </td><td> 998                                                               </td><td><span style=white-space:pre-wrap>State St &amp; Smith St    </span></td><td><span style=white-space:pre-wrap>Bond St &amp; Fulton St   </span> </td><td>Subscriber                                                         </td><td><span style=white-space:pre-wrap>Male  </span>                     </td><td>1986                                                               </td></tr>\n",
       "</tbody>\n",
       "</table>\n"
      ],
      "text/latex": [
       "\\begin{tabular}{r|lllllllll}\n",
       " X & Start.Time & End.Time & Trip.Duration & Start.Station & End.Station & User.Type & Gender & Birth.Year\\\\\n",
       "\\hline\n",
       "\t 5688089                   & 2017-06-11 14:55:05       & 2017-06-11 15:08:21       &  795                      & Suffolk St \\& Stanton St & W Broadway \\& Spring St  & Subscriber                & Male                      & 1998                     \\\\\n",
       "\t 4096714                   & 2017-05-11 15:30:11       & 2017-05-11 15:41:43       &  692                      & Lexington Ave \\& E 63 St & 1 Ave \\& E 78 St         & Subscriber                & Male                      & 1981                     \\\\\n",
       "\t 2173887                   & 2017-03-29 13:26:26       & 2017-03-29 13:48:31       & 1325                      & 1 Pl \\& Clinton St       & Henry St \\& Degraw St    & Subscriber                & Male                      & 1987                     \\\\\n",
       "\t 3945638                   & 2017-05-08 19:47:18       & 2017-05-08 19:59:01       &  703                      & Barrow St \\& Hudson St   & W 20 St \\& 8 Ave         & Subscriber                & Female                    & 1986                     \\\\\n",
       "\t 6208972                   & 2017-06-21 07:49:16       & 2017-06-21 07:54:46       &  329                      & 1 Ave \\& E 44 St         & E 53 St \\& 3 Ave         & Subscriber                & Male                      & 1992                     \\\\\n",
       "\t 1285652                   & 2017-02-22 18:55:24       & 2017-02-22 19:12:03       &  998                      & State St \\& Smith St     & Bond St \\& Fulton St     & Subscriber                & Male                      & 1986                     \\\\\n",
       "\\end{tabular}\n"
      ],
      "text/markdown": [
       "\n",
       "| X | Start.Time | End.Time | Trip.Duration | Start.Station | End.Station | User.Type | Gender | Birth.Year |\n",
       "|---|---|---|---|---|---|---|---|---|\n",
       "| 5688089                 | 2017-06-11 14:55:05     | 2017-06-11 15:08:21     |  795                    | Suffolk St & Stanton St | W Broadway & Spring St  | Subscriber              | Male                    | 1998                    |\n",
       "| 4096714                 | 2017-05-11 15:30:11     | 2017-05-11 15:41:43     |  692                    | Lexington Ave & E 63 St | 1 Ave & E 78 St         | Subscriber              | Male                    | 1981                    |\n",
       "| 2173887                 | 2017-03-29 13:26:26     | 2017-03-29 13:48:31     | 1325                    | 1 Pl & Clinton St       | Henry St & Degraw St    | Subscriber              | Male                    | 1987                    |\n",
       "| 3945638                 | 2017-05-08 19:47:18     | 2017-05-08 19:59:01     |  703                    | Barrow St & Hudson St   | W 20 St & 8 Ave         | Subscriber              | Female                  | 1986                    |\n",
       "| 6208972                 | 2017-06-21 07:49:16     | 2017-06-21 07:54:46     |  329                    | 1 Ave & E 44 St         | E 53 St & 3 Ave         | Subscriber              | Male                    | 1992                    |\n",
       "| 1285652                 | 2017-02-22 18:55:24     | 2017-02-22 19:12:03     |  998                    | State St & Smith St     | Bond St & Fulton St     | Subscriber              | Male                    | 1986                    |\n",
       "\n"
      ],
      "text/plain": [
       "  X       Start.Time          End.Time            Trip.Duration\n",
       "1 5688089 2017-06-11 14:55:05 2017-06-11 15:08:21  795         \n",
       "2 4096714 2017-05-11 15:30:11 2017-05-11 15:41:43  692         \n",
       "3 2173887 2017-03-29 13:26:26 2017-03-29 13:48:31 1325         \n",
       "4 3945638 2017-05-08 19:47:18 2017-05-08 19:59:01  703         \n",
       "5 6208972 2017-06-21 07:49:16 2017-06-21 07:54:46  329         \n",
       "6 1285652 2017-02-22 18:55:24 2017-02-22 19:12:03  998         \n",
       "  Start.Station           End.Station            User.Type  Gender Birth.Year\n",
       "1 Suffolk St & Stanton St W Broadway & Spring St Subscriber Male   1998      \n",
       "2 Lexington Ave & E 63 St 1 Ave & E 78 St        Subscriber Male   1981      \n",
       "3 1 Pl & Clinton St       Henry St & Degraw St   Subscriber Male   1987      \n",
       "4 Barrow St & Hudson St   W 20 St & 8 Ave        Subscriber Female 1986      \n",
       "5 1 Ave & E 44 St         E 53 St & 3 Ave        Subscriber Male   1992      \n",
       "6 State St & Smith St     Bond St & Fulton St    Subscriber Male   1986      "
      ]
     },
     "metadata": {},
     "output_type": "display_data"
    }
   ],
   "source": [
    "head(ny)"
   ]
  },
  {
   "cell_type": "code",
   "execution_count": 4,
   "metadata": {},
   "outputs": [
    {
     "data": {
      "text/html": [
       "<table>\n",
       "<thead><tr><th scope=col>X</th><th scope=col>Start.Time</th><th scope=col>End.Time</th><th scope=col>Trip.Duration</th><th scope=col>Start.Station</th><th scope=col>End.Station</th><th scope=col>User.Type</th></tr></thead>\n",
       "<tbody>\n",
       "\t<tr><td>1621326                                                                                        </td><td>2017-06-21 08:36:34                                                                            </td><td>2017-06-21 08:44:43                                                                            </td><td> 489.066                                                                                       </td><td><span style=white-space:pre-wrap>14th &amp; Belmont St NW                       </span>        </td><td><span style=white-space:pre-wrap>15th &amp; K St NW                                     </span></td><td>Subscriber                                                                                     </td></tr>\n",
       "\t<tr><td> 482740                                                                                        </td><td>2017-03-11 10:40:00                                                                            </td><td>2017-03-11 10:46:00                                                                            </td><td> 402.549                                                                                       </td><td><span style=white-space:pre-wrap>Yuma St &amp; Tenley Circle NW                 </span>        </td><td><span style=white-space:pre-wrap>Connecticut Ave &amp; Yuma St NW                       </span></td><td>Subscriber                                                                                     </td></tr>\n",
       "\t<tr><td>1330037                                                                                        </td><td>2017-05-30 01:02:59                                                                            </td><td>2017-05-30 01:13:37                                                                            </td><td> 637.251                                                                                       </td><td><span style=white-space:pre-wrap>17th St &amp; Massachusetts Ave NW             </span>        </td><td><span style=white-space:pre-wrap>5th &amp; K St NW                                      </span></td><td>Subscriber                                                                                     </td></tr>\n",
       "\t<tr><td> 665458                                                                                        </td><td>2017-04-02 07:48:35                                                                            </td><td>2017-04-02 08:19:03                                                                            </td><td>1827.341                                                                                       </td><td><span style=white-space:pre-wrap>Constitution Ave &amp; 2nd St NW/DOL           </span>        </td><td><span style=white-space:pre-wrap>M St &amp; Pennsylvania Ave NW                         </span></td><td><span style=white-space:pre-wrap>Customer  </span>                                             </td></tr>\n",
       "\t<tr><td>1481135                                                                                        </td><td>2017-06-10 08:36:28                                                                            </td><td>2017-06-10 09:02:17                                                                            </td><td>1549.427                                                                                       </td><td>Henry Bacon Dr &amp; Lincoln Memorial Circle NW                                                </td><td><span style=white-space:pre-wrap>Maine Ave &amp; 7th St SW                              </span></td><td>Subscriber                                                                                     </td></tr>\n",
       "\t<tr><td>1148202                                                                                </td><td>2017-05-14 07:18:18                                                                    </td><td>2017-05-14 07:24:56                                                                    </td><td> 398.000                                                                               </td><td><span style=white-space:pre-wrap>1st &amp; K St SE                              </span></td><td>Eastern Market Metro / Pennsylvania Ave &amp; 7th St SE                                </td><td>Subscriber                                                                             </td></tr>\n",
       "</tbody>\n",
       "</table>\n"
      ],
      "text/latex": [
       "\\begin{tabular}{r|lllllll}\n",
       " X & Start.Time & End.Time & Trip.Duration & Start.Station & End.Station & User.Type\\\\\n",
       "\\hline\n",
       "\t 1621326                                               & 2017-06-21 08:36:34                                   & 2017-06-21 08:44:43                                   &  489.066                                              & 14th \\& Belmont St NW                                & 15th \\& K St NW                                      & Subscriber                                           \\\\\n",
       "\t  482740                                               & 2017-03-11 10:40:00                                   & 2017-03-11 10:46:00                                   &  402.549                                              & Yuma St \\& Tenley Circle NW                          & Connecticut Ave \\& Yuma St NW                        & Subscriber                                           \\\\\n",
       "\t 1330037                                               & 2017-05-30 01:02:59                                   & 2017-05-30 01:13:37                                   &  637.251                                              & 17th St \\& Massachusetts Ave NW                      & 5th \\& K St NW                                       & Subscriber                                           \\\\\n",
       "\t  665458                                               & 2017-04-02 07:48:35                                   & 2017-04-02 08:19:03                                   & 1827.341                                              & Constitution Ave \\& 2nd St NW/DOL                    & M St \\& Pennsylvania Ave NW                          & Customer                                             \\\\\n",
       "\t 1481135                                               & 2017-06-10 08:36:28                                   & 2017-06-10 09:02:17                                   & 1549.427                                              & Henry Bacon Dr \\& Lincoln Memorial Circle NW         & Maine Ave \\& 7th St SW                               & Subscriber                                           \\\\\n",
       "\t 1148202                                               & 2017-05-14 07:18:18                                   & 2017-05-14 07:24:56                                   &  398.000                                              & 1st \\& K St SE                                       & Eastern Market Metro / Pennsylvania Ave \\& 7th St SE & Subscriber                                           \\\\\n",
       "\\end{tabular}\n"
      ],
      "text/markdown": [
       "\n",
       "| X | Start.Time | End.Time | Trip.Duration | Start.Station | End.Station | User.Type |\n",
       "|---|---|---|---|---|---|---|\n",
       "| 1621326                                             | 2017-06-21 08:36:34                                 | 2017-06-21 08:44:43                                 |  489.066                                            | 14th & Belmont St NW                                | 15th & K St NW                                      | Subscriber                                          |\n",
       "|  482740                                             | 2017-03-11 10:40:00                                 | 2017-03-11 10:46:00                                 |  402.549                                            | Yuma St & Tenley Circle NW                          | Connecticut Ave & Yuma St NW                        | Subscriber                                          |\n",
       "| 1330037                                             | 2017-05-30 01:02:59                                 | 2017-05-30 01:13:37                                 |  637.251                                            | 17th St & Massachusetts Ave NW                      | 5th & K St NW                                       | Subscriber                                          |\n",
       "|  665458                                             | 2017-04-02 07:48:35                                 | 2017-04-02 08:19:03                                 | 1827.341                                            | Constitution Ave & 2nd St NW/DOL                    | M St & Pennsylvania Ave NW                          | Customer                                            |\n",
       "| 1481135                                             | 2017-06-10 08:36:28                                 | 2017-06-10 09:02:17                                 | 1549.427                                            | Henry Bacon Dr & Lincoln Memorial Circle NW         | Maine Ave & 7th St SW                               | Subscriber                                          |\n",
       "| 1148202                                             | 2017-05-14 07:18:18                                 | 2017-05-14 07:24:56                                 |  398.000                                            | 1st & K St SE                                       | Eastern Market Metro / Pennsylvania Ave & 7th St SE | Subscriber                                          |\n",
       "\n"
      ],
      "text/plain": [
       "  X       Start.Time          End.Time            Trip.Duration\n",
       "1 1621326 2017-06-21 08:36:34 2017-06-21 08:44:43  489.066     \n",
       "2  482740 2017-03-11 10:40:00 2017-03-11 10:46:00  402.549     \n",
       "3 1330037 2017-05-30 01:02:59 2017-05-30 01:13:37  637.251     \n",
       "4  665458 2017-04-02 07:48:35 2017-04-02 08:19:03 1827.341     \n",
       "5 1481135 2017-06-10 08:36:28 2017-06-10 09:02:17 1549.427     \n",
       "6 1148202 2017-05-14 07:18:18 2017-05-14 07:24:56  398.000     \n",
       "  Start.Station                              \n",
       "1 14th & Belmont St NW                       \n",
       "2 Yuma St & Tenley Circle NW                 \n",
       "3 17th St & Massachusetts Ave NW             \n",
       "4 Constitution Ave & 2nd St NW/DOL           \n",
       "5 Henry Bacon Dr & Lincoln Memorial Circle NW\n",
       "6 1st & K St SE                              \n",
       "  End.Station                                         User.Type \n",
       "1 15th & K St NW                                      Subscriber\n",
       "2 Connecticut Ave & Yuma St NW                        Subscriber\n",
       "3 5th & K St NW                                       Subscriber\n",
       "4 M St & Pennsylvania Ave NW                          Customer  \n",
       "5 Maine Ave & 7th St SW                               Subscriber\n",
       "6 Eastern Market Metro / Pennsylvania Ave & 7th St SE Subscriber"
      ]
     },
     "metadata": {},
     "output_type": "display_data"
    }
   ],
   "source": [
    "head(wash)"
   ]
  },
  {
   "cell_type": "code",
   "execution_count": 5,
   "metadata": {},
   "outputs": [
    {
     "data": {
      "text/html": [
       "<table>\n",
       "<thead><tr><th scope=col>X</th><th scope=col>Start.Time</th><th scope=col>End.Time</th><th scope=col>Trip.Duration</th><th scope=col>Start.Station</th><th scope=col>End.Station</th><th scope=col>User.Type</th><th scope=col>Gender</th><th scope=col>Birth.Year</th></tr></thead>\n",
       "<tbody>\n",
       "\t<tr><td>1423854                                                                  </td><td>2017-06-23 15:09:32                                                      </td><td>2017-06-23 15:14:53                                                      </td><td> 321                                                                     </td><td><span style=white-space:pre-wrap>Wood St &amp; Hubbard St         </span></td><td><span style=white-space:pre-wrap>Damen Ave &amp; Chicago Ave     </span> </td><td>Subscriber                                                               </td><td><span style=white-space:pre-wrap>Male  </span>                           </td><td>1992                                                                     </td></tr>\n",
       "\t<tr><td> 955915                                                              </td><td>2017-05-25 18:19:03                                                  </td><td>2017-05-25 18:45:53                                                  </td><td>1610                                                                 </td><td><span style=white-space:pre-wrap>Theater on the Lake          </span></td><td>Sheffield Ave &amp; Waveland Ave                                     </td><td>Subscriber                                                           </td><td>Female                                                               </td><td>1992                                                                 </td></tr>\n",
       "\t<tr><td><span style=white-space:pre-wrap>   9031</span>                          </td><td>2017-01-04 08:27:49                                                      </td><td>2017-01-04 08:34:45                                                      </td><td> 416                                                                     </td><td><span style=white-space:pre-wrap>May St &amp; Taylor St           </span></td><td><span style=white-space:pre-wrap>Wood St &amp; Taylor St         </span> </td><td>Subscriber                                                               </td><td><span style=white-space:pre-wrap>Male  </span>                           </td><td>1981                                                                     </td></tr>\n",
       "\t<tr><td> 304487                                       </td><td>2017-03-06 13:49:38                           </td><td>2017-03-06 13:55:28                           </td><td> 350                                          </td><td>Christiana Ave &amp; Lawrence Ave             </td><td>St. Louis Ave &amp; Balmoral Ave              </td><td>Subscriber                                    </td><td><span style=white-space:pre-wrap>Male  </span></td><td>1986                                          </td></tr>\n",
       "\t<tr><td><span style=white-space:pre-wrap>  45207</span>                          </td><td>2017-01-17 14:53:07                                                      </td><td>2017-01-17 15:02:01                                                      </td><td> 534                                                                     </td><td><span style=white-space:pre-wrap>Clark St &amp; Randolph St       </span></td><td>Desplaines St &amp; Jackson Blvd                                         </td><td>Subscriber                                                               </td><td><span style=white-space:pre-wrap>Male  </span>                           </td><td>1975                                                                     </td></tr>\n",
       "\t<tr><td>1473887                                                                 </td><td>2017-06-26 09:01:20                                                     </td><td>2017-06-26 09:11:06                                                     </td><td> 586                                                                    </td><td>Clinton St &amp; Washington Blvd                                        </td><td><span style=white-space:pre-wrap>Canal St &amp; Taylor St        </span></td><td>Subscriber                                                              </td><td><span style=white-space:pre-wrap>Male  </span>                          </td><td>1990                                                                    </td></tr>\n",
       "</tbody>\n",
       "</table>\n"
      ],
      "text/latex": [
       "\\begin{tabular}{r|lllllllll}\n",
       " X & Start.Time & End.Time & Trip.Duration & Start.Station & End.Station & User.Type & Gender & Birth.Year\\\\\n",
       "\\hline\n",
       "\t 1423854                         & 2017-06-23 15:09:32             & 2017-06-23 15:14:53             &  321                            & Wood St \\& Hubbard St          & Damen Ave \\& Chicago Ave       & Subscriber                      & Male                            & 1992                           \\\\\n",
       "\t  955915                        & 2017-05-25 18:19:03            & 2017-05-25 18:45:53            & 1610                           & Theater on the Lake            & Sheffield Ave \\& Waveland Ave & Subscriber                     & Female                         & 1992                          \\\\\n",
       "\t    9031                         & 2017-01-04 08:27:49             & 2017-01-04 08:34:45             &  416                            & May St \\& Taylor St            & Wood St \\& Taylor St           & Subscriber                      & Male                            & 1981                           \\\\\n",
       "\t  304487                         & 2017-03-06 13:49:38             & 2017-03-06 13:55:28             &  350                            & Christiana Ave \\& Lawrence Ave & St. Louis Ave \\& Balmoral Ave  & Subscriber                      & Male                            & 1986                           \\\\\n",
       "\t   45207                         & 2017-01-17 14:53:07             & 2017-01-17 15:02:01             &  534                            & Clark St \\& Randolph St        & Desplaines St \\& Jackson Blvd  & Subscriber                      & Male                            & 1975                           \\\\\n",
       "\t 1473887                         & 2017-06-26 09:01:20             & 2017-06-26 09:11:06             &  586                            & Clinton St \\& Washington Blvd  & Canal St \\& Taylor St          & Subscriber                      & Male                            & 1990                           \\\\\n",
       "\\end{tabular}\n"
      ],
      "text/markdown": [
       "\n",
       "| X | Start.Time | End.Time | Trip.Duration | Start.Station | End.Station | User.Type | Gender | Birth.Year |\n",
       "|---|---|---|---|---|---|---|---|---|\n",
       "| 1423854                       | 2017-06-23 15:09:32           | 2017-06-23 15:14:53           |  321                          | Wood St & Hubbard St          | Damen Ave & Chicago Ave       | Subscriber                    | Male                          | 1992                          |\n",
       "|  955915                       | 2017-05-25 18:19:03           | 2017-05-25 18:45:53           | 1610                          | Theater on the Lake           | Sheffield Ave & Waveland Ave  | Subscriber                    | Female                        | 1992                          |\n",
       "|    9031                       | 2017-01-04 08:27:49           | 2017-01-04 08:34:45           |  416                          | May St & Taylor St            | Wood St & Taylor St           | Subscriber                    | Male                          | 1981                          |\n",
       "|  304487                       | 2017-03-06 13:49:38           | 2017-03-06 13:55:28           |  350                          | Christiana Ave & Lawrence Ave | St. Louis Ave & Balmoral Ave  | Subscriber                    | Male                          | 1986                          |\n",
       "|   45207                       | 2017-01-17 14:53:07           | 2017-01-17 15:02:01           |  534                          | Clark St & Randolph St        | Desplaines St & Jackson Blvd  | Subscriber                    | Male                          | 1975                          |\n",
       "| 1473887                       | 2017-06-26 09:01:20           | 2017-06-26 09:11:06           |  586                          | Clinton St & Washington Blvd  | Canal St & Taylor St          | Subscriber                    | Male                          | 1990                          |\n",
       "\n"
      ],
      "text/plain": [
       "  X       Start.Time          End.Time            Trip.Duration\n",
       "1 1423854 2017-06-23 15:09:32 2017-06-23 15:14:53  321         \n",
       "2  955915 2017-05-25 18:19:03 2017-05-25 18:45:53 1610         \n",
       "3    9031 2017-01-04 08:27:49 2017-01-04 08:34:45  416         \n",
       "4  304487 2017-03-06 13:49:38 2017-03-06 13:55:28  350         \n",
       "5   45207 2017-01-17 14:53:07 2017-01-17 15:02:01  534         \n",
       "6 1473887 2017-06-26 09:01:20 2017-06-26 09:11:06  586         \n",
       "  Start.Station                 End.Station                  User.Type  Gender\n",
       "1 Wood St & Hubbard St          Damen Ave & Chicago Ave      Subscriber Male  \n",
       "2 Theater on the Lake           Sheffield Ave & Waveland Ave Subscriber Female\n",
       "3 May St & Taylor St            Wood St & Taylor St          Subscriber Male  \n",
       "4 Christiana Ave & Lawrence Ave St. Louis Ave & Balmoral Ave Subscriber Male  \n",
       "5 Clark St & Randolph St        Desplaines St & Jackson Blvd Subscriber Male  \n",
       "6 Clinton St & Washington Blvd  Canal St & Taylor St         Subscriber Male  \n",
       "  Birth.Year\n",
       "1 1992      \n",
       "2 1992      \n",
       "3 1981      \n",
       "4 1986      \n",
       "5 1975      \n",
       "6 1990      "
      ]
     },
     "metadata": {},
     "output_type": "display_data"
    }
   ],
   "source": [
    "head(chi)"
   ]
  },
  {
   "cell_type": "code",
   "execution_count": 6,
   "metadata": {},
   "outputs": [
    {
     "data": {
      "text/plain": [
       "       X                         Start.Time                   End.Time    \n",
       " Min.   :     47   2017-05-11 18:26:10:    3   2017-01-03 08:54:10:    2  \n",
       " 1st Qu.:1712425   2017-01-04 13:58:24:    2   2017-01-04 17:21:55:    2  \n",
       " Median :3418634   2017-01-09 09:36:01:    2   2017-01-05 17:25:17:    2  \n",
       " Mean   :3415873   2017-01-21 15:36:56:    2   2017-01-12 08:34:01:    2  \n",
       " 3rd Qu.:5123382   2017-01-21 17:49:59:    2   2017-01-12 09:41:54:    2  \n",
       " Max.   :6816152   2017-01-21 20:08:29:    2   2017-01-12 20:34:42:    2  \n",
       "                   (Other)            :54757   (Other)            :54758  \n",
       " Trip.Duration                     Start.Station  \n",
       " Min.   :     61.0   Pershing Square North:  592  \n",
       " 1st Qu.:    368.0   W 21 St & 6 Ave      :  385  \n",
       " Median :    610.0   Broadway & E 22 St   :  383  \n",
       " Mean   :    903.6   E 17 St & Broadway   :  380  \n",
       " 3rd Qu.:   1051.0   West St & Chambers St:  364  \n",
       " Max.   :1088634.0   W 20 St & 11 Ave     :  329  \n",
       " NA's   :1           (Other)              :52337  \n",
       "                End.Station         User.Type        Gender        Birth.Year  \n",
       " Pershing Square North:  556             :  119         : 5410   Min.   :1885  \n",
       " E 17 St & Broadway   :  445   Customer  : 5558   Female:12159   1st Qu.:1970  \n",
       " Broadway & E 22 St   :  427   Subscriber:49093   Male  :37201   Median :1981  \n",
       " W 21 St & 6 Ave      :  365                                     Mean   :1978  \n",
       " W 20 St & 11 Ave     :  344                                     3rd Qu.:1988  \n",
       " W 38 St & 8 Ave      :  338                                     Max.   :2001  \n",
       " (Other)              :52295                                     NA's   :5218  "
      ]
     },
     "metadata": {},
     "output_type": "display_data"
    }
   ],
   "source": [
    "summary(ny)"
   ]
  },
  {
   "cell_type": "code",
   "execution_count": 7,
   "metadata": {},
   "outputs": [
    {
     "data": {
      "text/plain": [
       "       X                         Start.Time                   End.Time    \n",
       " Min.   :      7   2017-02-19 12:19:00:    6   2017-03-09 17:54:00:    7  \n",
       " 1st Qu.: 434587   2017-02-20 11:35:00:    6   2017-03-28 18:11:00:    7  \n",
       " Median : 872858   2017-02-24 17:46:00:    6   2017-01-13 17:48:00:    6  \n",
       " Mean   : 873881   2017-03-01 08:20:00:    6   2017-01-31 08:49:00:    6  \n",
       " 3rd Qu.:1313305   2017-03-02 08:39:00:    6   2017-02-13 18:09:00:    6  \n",
       " Max.   :1751392   2017-03-09 17:31:00:    6   2017-02-20 11:38:00:    6  \n",
       "                   (Other)            :89015   (Other)            :89013  \n",
       " Trip.Duration                                   Start.Station  \n",
       " Min.   :    60.3   Columbus Circle / Union Station     : 1700  \n",
       " 1st Qu.:   410.9   Lincoln Memorial                    : 1546  \n",
       " Median :   707.0   Jefferson Dr & 14th St SW           : 1488  \n",
       " Mean   :  1234.0   Massachusetts Ave & Dupont Circle NW: 1219  \n",
       " 3rd Qu.:  1233.2   Jefferson Memorial                  : 1068  \n",
       " Max.   :904591.4   15th & P St NW                      : 1040  \n",
       " NA's   :1          (Other)                             :80990  \n",
       "                                                End.Station   \n",
       " Columbus Circle / Union Station                      : 1767  \n",
       " Jefferson Dr & 14th St SW                            : 1603  \n",
       " Lincoln Memorial                                     : 1514  \n",
       " Massachusetts Ave & Dupont Circle NW                 : 1344  \n",
       " Smithsonian-National Mall / Jefferson Dr & 12th St SW: 1103  \n",
       " 15th & P St NW                                       : 1077  \n",
       " (Other)                                              :80643  \n",
       "      User.Type    \n",
       "           :    1  \n",
       " Customer  :23450  \n",
       " Subscriber:65600  \n",
       "                   \n",
       "                   \n",
       "                   \n",
       "                   "
      ]
     },
     "metadata": {},
     "output_type": "display_data"
    }
   ],
   "source": [
    "summary(wash)"
   ]
  },
  {
   "cell_type": "code",
   "execution_count": 8,
   "metadata": {},
   "outputs": [
    {
     "data": {
      "text/plain": [
       "       X                         Start.Time                  End.Time   \n",
       " Min.   :     36   2017-01-24 07:40:32:   2   2017-04-16 13:16:52:   2  \n",
       " 1st Qu.: 386722   2017-04-22 13:16:25:   2   2017-04-26 16:29:26:   2  \n",
       " Median : 773554   2017-05-27 15:17:50:   2   2017-05-21 16:20:56:   2  \n",
       " Mean   : 776721   2017-06-10 13:29:41:   2   2017-05-27 09:58:21:   2  \n",
       " 3rd Qu.:1171266   2017-06-20 17:05:11:   2   2017-06-25 14:51:35:   2  \n",
       " Max.   :1551248   2017-06-21 13:18:52:   2   2017-01-01 00:46:32:   1  \n",
       "                   (Other)            :8618   (Other)            :8619  \n",
       " Trip.Duration                          Start.Station \n",
       " Min.   :   60.0   Streeter Dr & Grand Ave     : 210  \n",
       " 1st Qu.:  394.2   Lake Shore Dr & Monroe St   : 140  \n",
       " Median :  670.0   Clinton St & Washington Blvd: 120  \n",
       " Mean   :  937.2   Clinton St & Madison St     : 102  \n",
       " 3rd Qu.: 1119.0   Canal St & Adams St         : 101  \n",
       " Max.   :85408.0   Michigan Ave & Oak St       :  98  \n",
       "                   (Other)                     :7859  \n",
       "                       End.Station        User.Type       Gender    \n",
       " Streeter Dr & Grand Ave     : 233             :   1         :1748  \n",
       " Clinton St & Madison St     : 145   Customer  :1746   Female:1723  \n",
       " Theater on the Lake         : 131   Subscriber:6883   Male  :5159  \n",
       " Lake Shore Dr & Monroe St   : 115                                  \n",
       " Clinton St & Washington Blvd: 109                                  \n",
       " Lake Shore Dr & North Blvd  : 102                                  \n",
       " (Other)                     :7795                                  \n",
       "   Birth.Year  \n",
       " Min.   :1899  \n",
       " 1st Qu.:1975  \n",
       " Median :1984  \n",
       " Mean   :1981  \n",
       " 3rd Qu.:1989  \n",
       " Max.   :2002  \n",
       " NA's   :1747  "
      ]
     },
     "metadata": {},
     "output_type": "display_data"
    }
   ],
   "source": [
    "summary(chi)"
   ]
  },
  {
   "cell_type": "markdown",
   "metadata": {},
   "source": [
    "### Question 1\n",
    "\n",
    "\n",
    "**What are the peak hours of bike usage in each city?**"
   ]
  },
  {
   "cell_type": "code",
   "execution_count": 10,
   "metadata": {},
   "outputs": [
    {
     "data": {
      "text/html": [
       "<ol class=list-inline>\n",
       "\t<li>'X'</li>\n",
       "\t<li>'Start.Time'</li>\n",
       "\t<li>'End.Time'</li>\n",
       "\t<li>'Trip.Duration'</li>\n",
       "\t<li>'Start.Station'</li>\n",
       "\t<li>'End.Station'</li>\n",
       "\t<li>'User.Type'</li>\n",
       "\t<li>'Gender'</li>\n",
       "\t<li>'Birth.Year'</li>\n",
       "</ol>\n"
      ],
      "text/latex": [
       "\\begin{enumerate*}\n",
       "\\item 'X'\n",
       "\\item 'Start.Time'\n",
       "\\item 'End.Time'\n",
       "\\item 'Trip.Duration'\n",
       "\\item 'Start.Station'\n",
       "\\item 'End.Station'\n",
       "\\item 'User.Type'\n",
       "\\item 'Gender'\n",
       "\\item 'Birth.Year'\n",
       "\\end{enumerate*}\n"
      ],
      "text/markdown": [
       "1. 'X'\n",
       "2. 'Start.Time'\n",
       "3. 'End.Time'\n",
       "4. 'Trip.Duration'\n",
       "5. 'Start.Station'\n",
       "6. 'End.Station'\n",
       "7. 'User.Type'\n",
       "8. 'Gender'\n",
       "9. 'Birth.Year'\n",
       "\n",
       "\n"
      ],
      "text/plain": [
       "[1] \"X\"             \"Start.Time\"    \"End.Time\"      \"Trip.Duration\"\n",
       "[5] \"Start.Station\" \"End.Station\"   \"User.Type\"     \"Gender\"       \n",
       "[9] \"Birth.Year\"   "
      ]
     },
     "metadata": {},
     "output_type": "display_data"
    },
    {
     "data": {
      "text/html": [
       "<ol class=list-inline>\n",
       "\t<li>'X'</li>\n",
       "\t<li>'Start.Time'</li>\n",
       "\t<li>'End.Time'</li>\n",
       "\t<li>'Trip.Duration'</li>\n",
       "\t<li>'Start.Station'</li>\n",
       "\t<li>'End.Station'</li>\n",
       "\t<li>'User.Type'</li>\n",
       "\t<li>'Gender'</li>\n",
       "\t<li>'Birth.Year'</li>\n",
       "</ol>\n"
      ],
      "text/latex": [
       "\\begin{enumerate*}\n",
       "\\item 'X'\n",
       "\\item 'Start.Time'\n",
       "\\item 'End.Time'\n",
       "\\item 'Trip.Duration'\n",
       "\\item 'Start.Station'\n",
       "\\item 'End.Station'\n",
       "\\item 'User.Type'\n",
       "\\item 'Gender'\n",
       "\\item 'Birth.Year'\n",
       "\\end{enumerate*}\n"
      ],
      "text/markdown": [
       "1. 'X'\n",
       "2. 'Start.Time'\n",
       "3. 'End.Time'\n",
       "4. 'Trip.Duration'\n",
       "5. 'Start.Station'\n",
       "6. 'End.Station'\n",
       "7. 'User.Type'\n",
       "8. 'Gender'\n",
       "9. 'Birth.Year'\n",
       "\n",
       "\n"
      ],
      "text/plain": [
       "[1] \"X\"             \"Start.Time\"    \"End.Time\"      \"Trip.Duration\"\n",
       "[5] \"Start.Station\" \"End.Station\"   \"User.Type\"     \"Gender\"       \n",
       "[9] \"Birth.Year\"   "
      ]
     },
     "metadata": {},
     "output_type": "display_data"
    },
    {
     "data": {
      "text/html": [
       "<ol class=list-inline>\n",
       "\t<li>'X'</li>\n",
       "\t<li>'Start.Time'</li>\n",
       "\t<li>'End.Time'</li>\n",
       "\t<li>'Trip.Duration'</li>\n",
       "\t<li>'Start.Station'</li>\n",
       "\t<li>'End.Station'</li>\n",
       "\t<li>'User.Type'</li>\n",
       "</ol>\n"
      ],
      "text/latex": [
       "\\begin{enumerate*}\n",
       "\\item 'X'\n",
       "\\item 'Start.Time'\n",
       "\\item 'End.Time'\n",
       "\\item 'Trip.Duration'\n",
       "\\item 'Start.Station'\n",
       "\\item 'End.Station'\n",
       "\\item 'User.Type'\n",
       "\\end{enumerate*}\n"
      ],
      "text/markdown": [
       "1. 'X'\n",
       "2. 'Start.Time'\n",
       "3. 'End.Time'\n",
       "4. 'Trip.Duration'\n",
       "5. 'Start.Station'\n",
       "6. 'End.Station'\n",
       "7. 'User.Type'\n",
       "\n",
       "\n"
      ],
      "text/plain": [
       "[1] \"X\"             \"Start.Time\"    \"End.Time\"      \"Trip.Duration\"\n",
       "[5] \"Start.Station\" \"End.Station\"   \"User.Type\"    "
      ]
     },
     "metadata": {},
     "output_type": "display_data"
    }
   ],
   "source": [
    "# Display column names for each city's dataset\n",
    "colnames(ny)\n",
    "colnames(chi)\n",
    "colnames(wash)"
   ]
  },
  {
   "cell_type": "code",
   "execution_count": 12,
   "metadata": {},
   "outputs": [],
   "source": [
    "# Updated function to handle \"Start.Time\" column\n",
    "peak_hours <- function(data) {\n",
    "  data %>%\n",
    "    mutate(start_hour = as.POSIXlt(Start.Time, format = \"%Y-%m-%d %H:%M:%S\")$hour) %>%\n",
    "    group_by(start_hour) %>%\n",
    "    summarise(count = n()) %>%\n",
    "    arrange(-count)\n",
    "}\n",
    "\n",
    "# Apply to each city's data\n",
    "ny_peak <- peak_hours(ny)\n",
    "chi_peak <- peak_hours(chi)\n",
    "wash_peak <- peak_hours(wash)"
   ]
  },
  {
   "cell_type": "code",
   "execution_count": 13,
   "metadata": {},
   "outputs": [
    {
     "data": {
      "image/png": "[encoded data removed]",
      "text/plain": [
       "plot without title"
      ]
     },
     "metadata": {},
     "output_type": "display_data"
    }
   ],
   "source": [
    "library(ggplot2)\n",
    "ggplot(ny_peak, aes(x = start_hour, y = count)) +\n",
    "  geom_bar(stat = \"identity\") +\n",
    "  ggtitle(\"Peak Rental Hours in New York\")"
   ]
  },
  {
   "cell_type": "markdown",
   "metadata": {},
   "source": [
    "**Summary:**\n",
    "\n",
    "From the histogram, it appears that the busiest hours for bike rentals are in the late afternoon, with a peak around 17:00 (5 PM). This pattern likely corresponds to the end of the typical workday, suggesting a high use of bikeshare for commuting purposes.\n",
    "\n",
    "### Key Observations:\n",
    "1. **Morning Commute**: There is a smaller peak around 8:00 AM, which can be associated with the morning commute.\n",
    "2. **Evening Peak**: The most significant usage peaks in the evening, especially around 5 PM, indicating that a large number of people might be using the bikes to return home or to move to evening activities.\n",
    "3. **Low Overnight Activity**: As expected, there's very little activity during the overnight hours from around midnight to 5 AM.\n"
   ]
  },
  {
   "cell_type": "markdown",
   "metadata": {},
   "source": [
    "### Question 2\n",
    "\n",
    "**What are the average trip durations in New York, Chicago, and Washington?**"
   ]
  },
  {
   "cell_type": "code",
   "execution_count": 22,
   "metadata": {},
   "outputs": [
    {
     "name": "stdout",
     "output_type": "stream",
     "text": [
      "[1] \"Average trip duration in New York: 903.614690792237 seconds\"\n",
      "[1] \"Average trip duration in Chicago: 937.172769409038 seconds\"\n",
      "[1] \"Average trip duration in Washington: 1233.95333709152 seconds\"\n"
     ]
    }
   ],
   "source": [
    "# Load necessary libraries\n",
    "library(dplyr)\n",
    "\n",
    "# Assuming data is already loaded and named ny, chi, wash\n",
    "# Ensure 'Trip.Duration' is numeric (if it's not already)\n",
    "ny$Trip.Duration <- as.numeric(as.character(ny$Trip.Duration))\n",
    "chi$Trip.Duration <- as.numeric(as.character(chi$Trip.Duration))\n",
    "wash$Trip.Duration <- as.numeric(as.character(wash$Trip.Duration))\n",
    "\n",
    "# Calculate average trip duration for each city\n",
    "average_duration_ny <- mean(ny$Trip.Duration, na.rm = TRUE)\n",
    "average_duration_chi <- mean(chi$Trip.Duration, na.rm = TRUE)\n",
    "average_duration_wash <- mean(wash$Trip.Duration, na.rm = TRUE)\n",
    "\n",
    "# Print the results\n",
    "print(paste(\"Average trip duration in New York:\", average_duration_ny, \"seconds\"))\n",
    "print(paste(\"Average trip duration in Chicago:\", average_duration_chi, \"seconds\"))\n",
    "print(paste(\"Average trip duration in Washington:\", average_duration_wash, \"seconds\"))"
   ]
  },
  {
   "cell_type": "code",
   "execution_count": 23,
   "metadata": {},
   "outputs": [
    {
     "data": {
      "image/png": "[encoded data removed]",
      "text/plain": [
       "plot without title"
      ]
     },
     "metadata": {},
     "output_type": "display_data"
    }
   ],
   "source": [
    "# Load necessary libraries\n",
    "library(ggplot2)\n",
    "\n",
    "# Create a data frame for the averages\n",
    "average_durations <- data.frame(\n",
    "  City = c(\"New York\", \"Chicago\", \"Washington\"),\n",
    "  Average_Duration = c(average_duration_ny, average_duration_chi, average_duration_wash)  # These values are from your results\n",
    ")\n",
    "\n",
    "# Create the bar chart\n",
    "ggplot(average_durations, aes(x = City, y = Average_Duration, fill = City)) +\n",
    "  geom_bar(stat = \"identity\", width = 0.5) +\n",
    "  labs(title = \"Comparison of Average Trip Duration Across Cities\",\n",
    "       x = \"City\",\n",
    "       y = \"Average Duration (seconds)\") +\n",
    "  scale_fill_brewer(palette = \"Pastel1\") +  # Color the bars differently for each city\n",
    "  theme_minimal() +\n",
    "  theme(plot.title = element_text(hjust = 0.5))  # Center the title"
   ]
  },
  {
   "cell_type": "markdown",
   "metadata": {},
   "source": [
    "**Summary:**\n",
    "The average trip durations for New York, Chicago, and Washington have been calculated to understand how long, on average, users are renting bikes in each of these cities. Here's the summary of the findings based on the provided data:\n",
    "\n",
    "### Average Trip Durations:\n",
    "\n",
    "- **New York**: The average trip duration is approximately **903.6 seconds** (about 15.06 minutes).\n",
    "- **Chicago**: The average trip duration is approximately **937.2 seconds** (about 15.62 minutes).\n",
    "- **Washington**: The average trip duration is notably higher at approximately **1233.95 seconds** (about 20.57 minutes).\n",
    "\n",
    "### Insights:\n",
    "\n",
    "- **Longer Trips in Washington**: Washington shows a significantly longer average trip duration compared to New York and Chicago. This could be indicative of different usage patterns, such as longer leisure rides or less availability of other forms of public transport.\n",
    "- **Comparative Usage**: The relatively similar trip durations in New York and Chicago suggest comparable user behavior in these cities, possibly driven by similar urban layouts and user needs.\n"
   ]
  },
  {
   "cell_type": "markdown",
   "metadata": {},
   "source": [
    "### Question 3\n",
    "\n",
    "**Does the day of the week affect the number of bike rentals in each city?**"
   ]
  },
  {
   "cell_type": "code",
   "execution_count": 25,
   "metadata": {},
   "outputs": [],
   "source": [
    "# Function to summarize bike rental data by day of the week\n",
    "# It groups data by 'Day.of.Week' and counts the number of rentals for each day,\n",
    "# then sorts the results in descending order by the count of rentals.\n",
    "summarize_by_day <- function(data) {\n",
    "  data %>%\n",
    "    group_by(Day.of.Week) %>%  # Group data by the day of the week\n",
    "    summarise(Number.of.Rentals = n()) %>%  # Count the number of rentals for each day\n",
    "    arrange(desc(Number.of.Rentals))  # Sort by the number of rentals in descending order\n",
    "}\n",
    "\n",
    "# Apply the function to each city's dataset to compute a summary of rentals by day\n",
    "ny_summary <- summarize_by_day(ny)  # Summary for New York\n",
    "chi_summary <- summarize_by_day(chi)  # Summary for Chicago\n",
    "wash_summary <- summarize_by_day(wash)  # Summary for Washington"
   ]
  },
  {
   "cell_type": "code",
   "execution_count": 26,
   "metadata": {},
   "outputs": [],
   "source": [
    "# Combine the data from each city with a city identifier for plotting\n",
    "ny_summary$City <- \"New York\"\n",
    "chi_summary$City <- \"Chicago\"\n",
    "wash_summary$City <- \"Washington\"\n",
    "combined_summary <- rbind(ny_summary, chi_summary, wash_summary)"
   ]
  },
  {
   "cell_type": "code",
   "execution_count": 27,
   "metadata": {},
   "outputs": [
    {
     "data": {
      "image/png": "[encoded data removed]",
      "text/plain": [
       "plot without title"
      ]
     },
     "metadata": {},
     "output_type": "display_data"
    }
   ],
   "source": [
    "# Load the ggplot2 library\n",
    "library(ggplot2)\n",
    "\n",
    "# Create a grouped bar chart\n",
    "ggplot(combined_summary, aes(x = Day.of.Week, y = Number.of.Rentals, fill = City)) +\n",
    "  geom_bar(stat = \"identity\", position = position_dodge(), width = 0.7) +\n",
    "  labs(title = \"Bike Rentals by Day of the Week Across Cities\",\n",
    "       x = \"Day of the Week\",\n",
    "       y = \"Number of Rentals\",\n",
    "       fill = \"City\") +\n",
    "  theme_minimal() +\n",
    "  theme(plot.title = element_text(hjust = 0.5),  # Center the title\n",
    "        axis.text.x = element_text(angle = 45, hjust = 1))  # Improve x-axis label readability"
   ]
  },
  {
   "cell_type": "markdown",
   "metadata": {},
   "source": [
    "**Summary:**\n",
    "### Insights:\n",
    "\n",
    "1. **Weekday and Weekend Patterns**:\n",
    "   - **New York and Chicago**: These cities show a strong preference for bike rentals during weekdays, with peaks around Tuesday to Thursday. This pattern suggests that bikeshare systems in these cities are likely heavily used for commuting purposes.\n",
    "   - **Washington**: While still showing higher weekday usage, Washington's pattern appears slightly less pronounced compared to New York and Chicago, indicating a more balanced use of bike rentals throughout the week.\n",
    "\n",
    "2. **Lower Weekend Usage**:\n",
    "   - All three cities show lower rental numbers on weekends compared to weekdays. This drop can be particularly observed on Sunday, which might be reflective of the slower pace of city life on the last day of the weekend.\n",
    "\n",
    "3. **Anomalous Category (NA)**:\n",
    "   - The presence of an \"NA\" category indicates missing or improperly labeled data for some entries, which could potentially affect the accuracy of the insights. It would be beneficial to investigate these entries and correct the data if possible.\n"
   ]
  },
  {
   "cell_type": "markdown",
   "metadata": {},
   "source": [
    "\n",
    "## Finishing Up\n",
    "\n",
    "> Congratulations!  You have reached the end of the Explore Bikeshare Data Project. You should be very proud of all you have accomplished!\n",
    "\n",
    "> **Tip**: Once you are satisfied with your work here, check over your report to make sure that it is satisfies all the areas of the [rubric](https://review.udacity.com/#!/rubrics/2508/view). \n",
    "\n",
    "\n",
    "## Directions to Submit\n",
    "\n",
    "> Before you submit your project, you need to create a .html or .pdf version of this notebook in the workspace here. To do that, run the code cell below. If it worked correctly, you should get a return code of 0, and you should see the generated .html file in the workspace directory (click on the orange Jupyter icon in the upper left).\n",
    "\n",
    "> Alternatively, you can download this report as .html via the **File** > **Download as** submenu, and then manually upload it into the workspace directory by clicking on the orange Jupyter icon in the upper left, then using the Upload button.\n",
    "\n",
    "> Once you've done this, you can submit your project by clicking on the \"Submit Project\" button in the lower right here. This will create and submit a zip file with this .ipynb doc and the .html or .pdf version you created. Congratulations!"
   ]
  },
  {
   "cell_type": "code",
   "execution_count": 29,
   "metadata": {},
   "outputs": [],
   "source": [
    "system('python -m nbconvert Explore_bikeshare_data.ipynb')"
   ]
  },
  {
   "cell_type": "code",
   "execution_count": null,
   "metadata": {},
   "outputs": [],
   "source": []
  }
 ],
 "metadata": {
  "kernelspec": {
   "display_name": "R",
   "language": "R",
   "name": "ir"
  },
  "language_info": {
   "codemirror_mode": "r",
   "file_extension": ".r",
   "mimetype": "text/x-r-source",
   "name": "R",
   "pygments_lexer": "r",
   "version": "3.5.1"
  }
 },
 "nbformat": 4,
 "nbformat_minor": 2
}
