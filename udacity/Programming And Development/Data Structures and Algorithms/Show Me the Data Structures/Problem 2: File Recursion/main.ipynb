{
 "cells": [
  {
   "cell_type": "code",
   "id": "initial_id",
   "metadata": {
    "collapsed": true,
    "ExecuteTime": {
     "end_time": "2024-11-06T16:42:06.787548Z",
     "start_time": "2024-11-06T16:42:06.411880Z"
    }
   },
   "source": [
    "# Cell 1: Import các thư viện cần thiết\n",
    "import os\n",
    "import matplotlib.pyplot as plt\n",
    "from IPython.display import display, HTML\n",
    "\n",
    "\n",
    "# Cell 2: Định nghĩa hàm find_files\n",
    "def find_files(suffix, path):\n",
    "    \"\"\"\n",
    "    Find all files beneath path with file name suffix.\n",
    "\n",
    "    Note that a path may contain further subdirectories\n",
    "    and those subdirectories may also contain further subdirectories.\n",
    "\n",
    "    There are no limit to the depth of the subdirectories can be.\n",
    "\n",
    "    Args:\n",
    "      suffix(str): suffix if the file name to be found\n",
    "      path(str): path of the file system\n",
    "\n",
    "    Returns:\n",
    "       a list of paths\n",
    "    \"\"\"\n",
    "    if not os.path.isdir(path):\n",
    "        return []\n",
    "\n",
    "    found_files = []\n",
    "\n",
    "    def recursive_search(current_path):\n",
    "        for item in os.listdir(current_path):\n",
    "            full_path = os.path.join(current_path, item)\n",
    "            if os.path.isdir(full_path):\n",
    "                recursive_search(full_path)\n",
    "            elif os.path.isfile(full_path) and item.endswith(suffix):\n",
    "                found_files.append(full_path)\n",
    "\n",
    "    recursive_search(path)\n",
    "\n",
    "    return found_files\n",
    "\n",
    "\n",
    "# Cell 3: Định nghĩa hàm visual hóa\n",
    "def visualize_file_search(suffix, path):\n",
    "    found_files = find_files(suffix, path)\n",
    "\n",
    "    if not found_files:\n",
    "        display(HTML(f\"<h3>No files found with suffix '{suffix}' in path '{path}'</h3>\"))\n",
    "        return\n",
    "\n",
    "    # Print results\n",
    "    display(HTML(f\"<h3>Files found with suffix '{suffix}' in path '{path}':</h3>\"))\n",
    "    display(HTML('<ul>' + ''.join([f'<li>{file}</li>' for file in found_files]) + '</ul>'))\n",
    "\n",
    "\n",
    "# Cell 4: Các test case\n",
    "def run_visualization_tests():\n",
    "    display(HTML(\"<h2>Test Case 1</h2>\"))\n",
    "    visualize_file_search(\".c\", \"./testdir\")\n",
    "\n",
    "    display(HTML(\"<h2>Test Case 2 (Empty directory)</h2>\"))\n",
    "    os.mkdir('./test_empty_dir')\n",
    "    visualize_file_search(\".c\", \"./test_empty_dir\")\n",
    "    os.rmdir('./test_empty_dir')\n",
    "\n",
    "    display(HTML(\"<h2>Test Case 3 (Non-existent directory)</h2>\"))\n",
    "    visualize_file_search(\".c\", \"./non_existent_dir\")\n",
    "\n",
    "\n",
    "# Cell 5: Chạy các test case\n",
    "run_visualization_tests()\n"
   ],
   "outputs": [
    {
     "data": {
      "text/plain": [
       "<IPython.core.display.HTML object>"
      ],
      "text/html": [
       "<h2>Test Case 1</h2>"
      ]
     },
     "metadata": {},
     "output_type": "display_data"
    },
    {
     "data": {
      "text/plain": [
       "<IPython.core.display.HTML object>"
      ],
      "text/html": [
       "<h3>Files found with suffix '.c' in path './testdir':</h3>"
      ]
     },
     "metadata": {},
     "output_type": "display_data"
    },
    {
     "data": {
      "text/plain": [
       "<IPython.core.display.HTML object>"
      ],
      "text/html": [
       "<ul><li>./testdir/subdir3/subsubdir1/b.c</li><li>./testdir/t1.c</li><li>./testdir/subdir5/a.c</li><li>./testdir/subdir1/a.c</li></ul>"
      ]
     },
     "metadata": {},
     "output_type": "display_data"
    },
    {
     "data": {
      "text/plain": [
       "<IPython.core.display.HTML object>"
      ],
      "text/html": [
       "<h2>Test Case 2 (Empty directory)</h2>"
      ]
     },
     "metadata": {},
     "output_type": "display_data"
    },
    {
     "data": {
      "text/plain": [
       "<IPython.core.display.HTML object>"
      ],
      "text/html": [
       "<h3>No files found with suffix '.c' in path './test_empty_dir'</h3>"
      ]
     },
     "metadata": {},
     "output_type": "display_data"
    },
    {
     "data": {
      "text/plain": [
       "<IPython.core.display.HTML object>"
      ],
      "text/html": [
       "<h2>Test Case 3 (Non-existent directory)</h2>"
      ]
     },
     "metadata": {},
     "output_type": "display_data"
    },
    {
     "data": {
      "text/plain": [
       "<IPython.core.display.HTML object>"
      ],
      "text/html": [
       "<h3>No files found with suffix '.c' in path './non_existent_dir'</h3>"
      ]
     },
     "metadata": {},
     "output_type": "display_data"
    }
   ],
   "execution_count": 1
  }
 ],
 "metadata": {
  "kernelspec": {
   "display_name": "Python 3",
   "language": "python",
   "name": "python3"
  },
  "language_info": {
   "codemirror_mode": {
    "name": "ipython",
    "version": 2
   },
   "file_extension": ".py",
   "mimetype": "text/x-python",
   "name": "python",
   "nbconvert_exporter": "python",
   "pygments_lexer": "ipython2",
   "version": "2.7.6"
  }
 },
 "nbformat": 4,
 "nbformat_minor": 5
}
