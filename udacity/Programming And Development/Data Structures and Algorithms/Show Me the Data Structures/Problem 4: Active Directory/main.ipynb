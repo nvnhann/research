{
 "cells": [
  {
   "cell_type": "code",
   "id": "initial_id",
   "metadata": {
    "collapsed": true,
    "ExecuteTime": {
     "end_time": "2024-11-06T16:50:52.586719Z",
     "start_time": "2024-11-06T16:50:52.344372Z"
    }
   },
   "source": [
    "import heapq\n",
    "import sys\n",
    "from collections import defaultdict, namedtuple\n",
    "from IPython.display import display, HTML\n",
    "import matplotlib.pyplot as plt\n"
   ],
   "outputs": [],
   "execution_count": 1
  },
  {
   "metadata": {
    "ExecuteTime": {
     "end_time": "2024-11-06T16:51:02.083418Z",
     "start_time": "2024-11-06T16:51:02.077175Z"
    }
   },
   "cell_type": "code",
   "source": [
    "class Group(object):\n",
    "    def __init__(self, _name):\n",
    "        self.name = _name\n",
    "        self.groups = []\n",
    "        self.users = []\n",
    "\n",
    "    def add_group(self, group):\n",
    "        self.groups.append(group)\n",
    "\n",
    "    def add_user(self, user):\n",
    "        self.users.append(user)\n",
    "\n",
    "    def get_groups(self):\n",
    "        return self.groups\n",
    "\n",
    "    def get_users(self):\n",
    "        return self.users\n",
    "\n",
    "    def get_name(self):\n",
    "        return self.name\n",
    "\n",
    "\n",
    "def is_user_in_group(user, group):\n",
    "    \"\"\"\n",
    "    Return True if user is in the group, False otherwise.\n",
    "\n",
    "    Args:\n",
    "      user(str): user name/id\n",
    "      group(class:Group): group to check user membership against\n",
    "    \"\"\"\n",
    "    if group is None or user is None:\n",
    "        return False\n",
    "\n",
    "    if user in group.get_users():\n",
    "        return True\n",
    "\n",
    "    for subgroup in group.get_groups():\n",
    "        if is_user_in_group(user, subgroup):\n",
    "            return True\n",
    "\n",
    "    return False\n"
   ],
   "id": "2d33522fff885376",
   "outputs": [],
   "execution_count": 2
  },
  {
   "metadata": {
    "ExecuteTime": {
     "end_time": "2024-11-06T16:51:11.691184Z",
     "start_time": "2024-11-06T16:51:11.673099Z"
    }
   },
   "cell_type": "code",
   "source": [
    "def create_test_structure():\n",
    "    parent = Group(\"parent\")\n",
    "    child = Group(\"child\")\n",
    "    sub_child = Group(\"subchild\")\n",
    "\n",
    "    sub_child_user = \"sub_child_user\"\n",
    "    sub_child.add_user(sub_child_user)\n",
    "\n",
    "    child.add_group(sub_child)\n",
    "    parent.add_group(child)\n",
    "\n",
    "    return parent, sub_child_user\n",
    "\n",
    "\n",
    "def run_tests():\n",
    "    parent, sub_child_user = create_test_structure()\n",
    "\n",
    "    # Test Case 1\n",
    "    display(HTML(\"<h3>Test Case 1: User is in subchild group</h3>\"))\n",
    "    display(is_user_in_group(sub_child_user, parent))\n",
    "\n",
    "    # Test Case 2\n",
    "    display(HTML(\"<h3>Test Case 2: User is not in any group</h3>\"))\n",
    "    display(is_user_in_group(\"random_user\", parent))\n",
    "\n",
    "    # Test Case 3\n",
    "    display(HTML(\"<h3>Test Case 3: User is in the root group</h3>\"))\n",
    "    parent_user = \"parent_user\"\n",
    "    parent.add_user(parent_user)\n",
    "    display(is_user_in_group(parent_user, parent))\n",
    "\n",
    "    # Edge cases\n",
    "    display(HTML(\"<h3>Test Case 4: Empty user check</h3>\"))\n",
    "    display(is_user_in_group(\"\", parent))\n",
    "\n",
    "    display(HTML(\"<h3>Test Case 5: User in an empty group</h3>\"))\n",
    "    empty_group = Group(\"empty_group\")\n",
    "    empty_group_user = \"empty_group_user\"\n",
    "    empty_group.add_user(empty_group_user)\n",
    "    display(is_user_in_group(empty_group_user, empty_group))\n",
    "\n",
    "    display(HTML(\"<h3>Test Case 6: Check in None group</h3>\"))\n",
    "    try:\n",
    "        display(is_user_in_group(\"some_user\", None))\n",
    "    except AttributeError:\n",
    "        display(HTML(\"<h4>Caught an AttributeError as expected when checking a None group</h4>\"))\n",
    "\n",
    "\n",
    "run_tests()\n"
   ],
   "id": "8b222b3d9cb3783a",
   "outputs": [
    {
     "data": {
      "text/plain": [
       "<IPython.core.display.HTML object>"
      ],
      "text/html": [
       "<h3>Test Case 1: User is in subchild group</h3>"
      ]
     },
     "metadata": {},
     "output_type": "display_data"
    },
    {
     "data": {
      "text/plain": [
       "True"
      ]
     },
     "metadata": {},
     "output_type": "display_data"
    },
    {
     "data": {
      "text/plain": [
       "<IPython.core.display.HTML object>"
      ],
      "text/html": [
       "<h3>Test Case 2: User is not in any group</h3>"
      ]
     },
     "metadata": {},
     "output_type": "display_data"
    },
    {
     "data": {
      "text/plain": [
       "False"
      ]
     },
     "metadata": {},
     "output_type": "display_data"
    },
    {
     "data": {
      "text/plain": [
       "<IPython.core.display.HTML object>"
      ],
      "text/html": [
       "<h3>Test Case 3: User is in the root group</h3>"
      ]
     },
     "metadata": {},
     "output_type": "display_data"
    },
    {
     "data": {
      "text/plain": [
       "True"
      ]
     },
     "metadata": {},
     "output_type": "display_data"
    },
    {
     "data": {
      "text/plain": [
       "<IPython.core.display.HTML object>"
      ],
      "text/html": [
       "<h3>Test Case 4: Empty user check</h3>"
      ]
     },
     "metadata": {},
     "output_type": "display_data"
    },
    {
     "data": {
      "text/plain": [
       "False"
      ]
     },
     "metadata": {},
     "output_type": "display_data"
    },
    {
     "data": {
      "text/plain": [
       "<IPython.core.display.HTML object>"
      ],
      "text/html": [
       "<h3>Test Case 5: User in an empty group</h3>"
      ]
     },
     "metadata": {},
     "output_type": "display_data"
    },
    {
     "data": {
      "text/plain": [
       "True"
      ]
     },
     "metadata": {},
     "output_type": "display_data"
    },
    {
     "data": {
      "text/plain": [
       "<IPython.core.display.HTML object>"
      ],
      "text/html": [
       "<h3>Test Case 6: Check in None group</h3>"
      ]
     },
     "metadata": {},
     "output_type": "display_data"
    },
    {
     "data": {
      "text/plain": [
       "False"
      ]
     },
     "metadata": {},
     "output_type": "display_data"
    }
   ],
   "execution_count": 3
  },
  {
   "metadata": {},
   "cell_type": "code",
   "outputs": [],
   "execution_count": null,
   "source": "",
   "id": "b6c20ea51cf9efe2"
  }
 ],
 "metadata": {
  "kernelspec": {
   "display_name": "Python 3",
   "language": "python",
   "name": "python3"
  },
  "language_info": {
   "codemirror_mode": {
    "name": "ipython",
    "version": 2
   },
   "file_extension": ".py",
   "mimetype": "text/x-python",
   "name": "python",
   "nbconvert_exporter": "python",
   "pygments_lexer": "ipython2",
   "version": "2.7.6"
  }
 },
 "nbformat": 4,
 "nbformat_minor": 5
}
